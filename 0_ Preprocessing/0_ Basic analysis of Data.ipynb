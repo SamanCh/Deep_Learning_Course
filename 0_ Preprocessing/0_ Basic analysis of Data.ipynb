{
 "cells": [
  {
   "cell_type": "markdown",
   "metadata": {},
   "source": [
    "# Basic analysis Of data Using Pandas\n",
    "\n",
    "Scrutinizing and checking data is a crucial step in any data analysis process. It involves examining the data for accuracy, consistency, and completeness before performing any analysis or building models. In Python, the pandas library provides a wide range of tools and techniques for data exploration and validation."
   ]
  },
  {
   "cell_type": "markdown",
   "metadata": {},
   "source": [
    "## Loading the Data"
   ]
  },
  {
   "cell_type": "code",
   "execution_count": null,
   "metadata": {},
   "outputs": [],
   "source": [
    "import pandas as pd # test\n",
    "\n",
    "# Load data from a CSV file\n",
    "df = pd.read_csv('your_dataset.csv')\n",
    "\n",
    "# Display the first few rows of the dataset\n",
    "print(\"First 5 rows of the dataset:\\n\", df.head())"
   ]
  },
  {
   "cell_type": "markdown",
   "metadata": {},
   "source": [
    "## Getting Basic Information"
   ]
  },
  {
   "cell_type": "code",
   "execution_count": null,
   "metadata": {},
   "outputs": [],
   "source": [
    "# Get basic information about the DataFrame\n",
    "print(\"\\nDataFrame Information:\\n\")\n",
    "df.info()\n",
    "\n",
    "# Display basic statistics for numerical columns\n",
    "print(\"\\nSummary statistics for numerical columns:\\n\", df.describe())\n",
    "\n",
    "# Display basic statistics for categorical columns\n",
    "print(\"\\nSummary statistics for categorical columns:\\n\", df.describe(include=['O']))\n",
    "\n",
    "# Check the number of rows and columns\n",
    "print(\"\\nShape of the DataFrame:\", df.shape)\n",
    "\n",
    "# Display column names\n",
    "print(\"\\nColumn names:\", df.columns.tolist())"
   ]
  },
  {
   "cell_type": "markdown",
   "metadata": {},
   "source": [
    "## Checking for Missing Values"
   ]
  },
  {
   "cell_type": "code",
   "execution_count": null,
   "metadata": {},
   "outputs": [],
   "source": [
    "# Check for missing values\n",
    "missing_values = df.isna().sum()\n",
    "print(\"\\nMissing values in each column:\\n\", missing_values)\n",
    "\n",
    "# Visualize missing data with a heatmap (optional, requires seaborn)\n",
    "import seaborn as sns\n",
    "import matplotlib.pyplot as plt\n",
    "\n",
    "plt.figure(figsize=(10, 6))\n",
    "sns.heatmap(df.isna(), cbar=False, cmap='viridis')\n",
    "plt.title(\"Heatmap of Missing Values\")\n",
    "plt.show()"
   ]
  },
  {
   "cell_type": "markdown",
   "metadata": {},
   "source": [
    "## Exploring Unique Values and Data Distribution"
   ]
  },
  {
   "cell_type": "code",
   "execution_count": null,
   "metadata": {},
   "outputs": [],
   "source": [
    "# Check for unique values in each column\n",
    "unique_values = df.nunique()\n",
    "print(\"\\nUnique values in each column:\\n\", unique_values)\n",
    "\n",
    "# Check the distribution of categorical columns\n",
    "for col in df.select_dtypes(include=['object']).columns:\n",
    "    print(f\"\\nValue counts for {col}:\\n\", df[col].value_counts())\n",
    "\n",
    "# Check the distribution of numerical columns\n",
    "df.hist(figsize=(12, 8), bins=30)\n",
    "plt.suptitle(\"Histograms of Numerical Columns\")\n",
    "plt.show()"
   ]
  },
  {
   "cell_type": "markdown",
   "metadata": {},
   "source": [
    "## Detecting Duplicates"
   ]
  },
  {
   "cell_type": "code",
   "execution_count": null,
   "metadata": {},
   "outputs": [],
   "source": [
    "# Check for duplicate rows\n",
    "duplicate_rows = df[df.duplicated()]\n",
    "print(\"\\nNumber of duplicate rows:\", len(duplicate_rows))\n",
    "print(\"\\nDuplicate rows:\\n\", duplicate_rows)\n",
    "\n",
    "# Remove duplicate rows\n",
    "df_no_duplicates = df.drop_duplicates()\n",
    "print(\"\\nDataFrame after removing duplicates:\\n\", df_no_duplicates.head())"
   ]
  },
  {
   "cell_type": "markdown",
   "metadata": {},
   "source": [
    "## Checking for Outliers"
   ]
  },
  {
   "cell_type": "code",
   "execution_count": null,
   "metadata": {},
   "outputs": [],
   "source": [
    "# Boxplot to visualize outliers in numerical columns\n",
    "plt.figure(figsize=(12, 8))\n",
    "df.boxplot()\n",
    "plt.title(\"Boxplot of Numerical Columns\")\n",
    "plt.show()\n",
    "\n",
    "# Identifying outliers using the IQR method\n",
    "def detect_outliers(col):\n",
    "    Q1 = col.quantile(0.25)\n",
    "    Q3 = col.quantile(0.75)\n",
    "    IQR = Q3 - Q1\n",
    "    lower_bound = Q1 - 1.5 * IQR\n",
    "    upper_bound = Q3 + 1.5 * IQR\n",
    "    return col[(col < lower_bound) | (col > upper_bound)]\n",
    "\n",
    "outliers = df.apply(detect_outliers)\n",
    "print(\"\\nOutliers in each column:\\n\", outliers)"
   ]
  },
  {
   "cell_type": "markdown",
   "metadata": {},
   "source": [
    "## Checking Data Types"
   ]
  },
  {
   "cell_type": "code",
   "execution_count": null,
   "metadata": {},
   "outputs": [],
   "source": [
    "# Check data types of each column\n",
    "print(\"\\nData types of each column:\\n\", df.dtypes)\n",
    "\n",
    "# Convert data types if necessary\n",
    "# Example: Convert a column to datetime\n",
    "df['DateColumn'] = pd.to_datetime(df['DateColumn'], errors='coerce')\n",
    "print(\"\\nData types after conversion:\\n\", df.dtypes)"
   ]
  },
  {
   "cell_type": "markdown",
   "metadata": {},
   "source": [
    "## Exploring Relationships Between Variables"
   ]
  },
  {
   "cell_type": "code",
   "execution_count": null,
   "metadata": {},
   "outputs": [],
   "source": [
    "# Correlation matrix for numerical columns\n",
    "correlation_matrix = df.corr()\n",
    "print(\"\\nCorrelation matrix:\\n\", correlation_matrix)\n",
    "\n",
    "# Visualize the correlation matrix with a heatmap\n",
    "plt.figure(figsize=(10, 8))\n",
    "sns.heatmap(correlation_matrix, annot=True, cmap='coolwarm', vmin=-1, vmax=1)\n",
    "plt.title(\"Correlation Matrix Heatmap\")\n",
    "plt.show()\n",
    "\n",
    "# Scatter plot for pairs of numerical variables\n",
    "sns.pairplot(df)\n",
    "plt.suptitle(\"Pairplot of Numerical Columns\", y=1.02)\n",
    "plt.show()"
   ]
  },
  {
   "cell_type": "markdown",
   "metadata": {},
   "source": [
    "## Checking Data Consistency"
   ]
  },
  {
   "cell_type": "code",
   "execution_count": null,
   "metadata": {},
   "outputs": [],
   "source": [
    "# Check for invalid or inconsistent data in categorical columns\n",
    "for col in df.select_dtypes(include=['object']).columns:\n",
    "    print(f\"\\nUnique values in {col}:\\n\", df[col].unique())\n",
    "\n",
    "# Example: Check for invalid dates (e.g., dates in the future)\n",
    "invalid_dates = df[df['DateColumn'] > pd.Timestamp.today()]\n",
    "print(\"\\nRows with invalid dates:\\n\", invalid_dates)\n",
    "\n",
    "# Example: Check if numeric columns have negative values where they shouldn't\n",
    "negative_values = df[df['NumericColumn'] < 0]\n",
    "print(\"\\nRows with unexpected negative values:\\n\", negative_values)"
   ]
  }
 ],
 "metadata": {
  "kernelspec": {
   "display_name": "Python 3",
   "language": "python",
   "name": "python3"
  },
  "language_info": {
   "name": "python",
   "version": "3.12.4"
  }
 },
 "nbformat": 4,
 "nbformat_minor": 2
}
