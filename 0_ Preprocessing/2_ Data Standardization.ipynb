{
 "cells": [
  {
   "cell_type": "markdown",
   "metadata": {},
   "source": [
    "# Data Preprocessing: Data Standardization\n",
    "\n",
    "Data normalization and standardization are both techniques used to adjust the scale of features in a dataset, but they serve different purposes and follow different methodologies.\n",
    "Normalization (also called Min-Max scaling) transforms the data to fit within a specific range. Standardization (also called Z-score normalization) transforms the data to have a mean of 0 and a standard deviation of 1. This method is useful when you need the data to follow a standard normal distribution (a bell curve).\n",
    "Standardization is typically used when:\n",
    "- The data distribution is Gaussian, or the algorithm assumes a Gaussian distribution (e.g., linear regression, logistic regression, SVM).\n",
    "- The data have different units or scales and need to be compared on a common scale."
   ]
  },
  {
   "cell_type": "markdown",
   "metadata": {},
   "source": [
    "## General Example on a Generated Dataset"
   ]
  },
  {
   "cell_type": "code",
   "execution_count": null,
   "metadata": {},
   "outputs": [],
   "source": [
    "import numpy as np #\n",
    "from sklearn.model_selection import train_test_split"
   ]
  },
  {
   "cell_type": "code",
   "execution_count": null,
   "metadata": {},
   "outputs": [],
   "source": [
    "x1 = np.array([0,1,2,3,4,5,6,7,8,9])"
   ]
  },
  {
   "cell_type": "code",
   "execution_count": null,
   "metadata": {},
   "outputs": [],
   "source": [
    "x1"
   ]
  },
  {
   "cell_type": "code",
   "execution_count": null,
   "metadata": {},
   "outputs": [],
   "source": [
    "x1 = x1.reshape(-1,1)"
   ]
  },
  {
   "cell_type": "code",
   "execution_count": null,
   "metadata": {},
   "outputs": [],
   "source": [
    "x1"
   ]
  },
  {
   "cell_type": "code",
   "execution_count": null,
   "metadata": {},
   "outputs": [],
   "source": [
    "x2 = np.array([201,220,233,243,257,269,272,283,299,339])"
   ]
  },
  {
   "cell_type": "code",
   "execution_count": null,
   "metadata": {},
   "outputs": [],
   "source": [
    "x2 = x2.reshape(-1,1)"
   ]
  },
  {
   "cell_type": "code",
   "execution_count": null,
   "metadata": {},
   "outputs": [],
   "source": [
    "x2"
   ]
  },
  {
   "cell_type": "code",
   "execution_count": null,
   "metadata": {},
   "outputs": [],
   "source": [
    "x3 = np.array([2000, 3550, 2350, 3940, 4000, 50000, 2677, 9765, 8876, 9776]).reshape(-1,1)\n",
    "x3"
   ]
  },
  {
   "cell_type": "code",
   "execution_count": null,
   "metadata": {},
   "outputs": [],
   "source": [
    "X = np.hstack((x1,x2,x3))"
   ]
  },
  {
   "cell_type": "code",
   "execution_count": null,
   "metadata": {},
   "outputs": [],
   "source": [
    "X"
   ]
  },
  {
   "cell_type": "code",
   "execution_count": null,
   "metadata": {},
   "outputs": [],
   "source": [
    "y = np.array([10,20,30,40,50,60,70,80,90,100])\n",
    "y"
   ]
  },
  {
   "cell_type": "code",
   "execution_count": null,
   "metadata": {},
   "outputs": [],
   "source": [
    "X_train, X_test, y_train, y_test = train_test_split(X, y, test_size = 0.2, random_state = 42)"
   ]
  },
  {
   "cell_type": "code",
   "execution_count": null,
   "metadata": {},
   "outputs": [],
   "source": [
    "from sklearn.preprocessing import StandardScaler\n",
    "sc = StandardScaler()\n",
    "\n",
    "sc.fit(X_train) # Compute the mean and standard deviation to be used for later scaling.\n",
    "\n",
    "X_train_scaled = sc.transform(X_train) # Scaling the data according to the calculated mean and standard deviation\n"
   ]
  },
  {
   "cell_type": "code",
   "execution_count": null,
   "metadata": {},
   "outputs": [],
   "source": [
    "X_train_scaled"
   ]
  },
  {
   "cell_type": "code",
   "execution_count": null,
   "metadata": {},
   "outputs": [],
   "source": [
    "X_train_scaled.mean()"
   ]
  },
  {
   "cell_type": "code",
   "execution_count": null,
   "metadata": {},
   "outputs": [],
   "source": [
    "X_train_scaled.std()"
   ]
  },
  {
   "cell_type": "code",
   "execution_count": null,
   "metadata": {},
   "outputs": [],
   "source": [
    "X_test_scaled = sc.transform(X_test)"
   ]
  },
  {
   "cell_type": "code",
   "execution_count": null,
   "metadata": {},
   "outputs": [],
   "source": [
    "X_test_scaled"
   ]
  },
  {
   "cell_type": "markdown",
   "metadata": {},
   "source": [
    "## Manual Implementation of Data Standardization"
   ]
  },
  {
   "cell_type": "code",
   "execution_count": 1,
   "metadata": {},
   "outputs": [
    {
     "name": "stdout",
     "output_type": "stream",
     "text": [
      "Standardized Data: [-1.41421356 -0.70710678  0.          0.70710678  1.41421356]\n"
     ]
    }
   ],
   "source": [
    "import numpy as np\n",
    "\n",
    "def standardize_data(data):\n",
    "    \"\"\"\n",
    "    Standardize the dataset to have a mean of 0 and a standard deviation of 1.\n",
    "\n",
    "    Parameters:\n",
    "    - data: numpy array of data to be standardized.\n",
    "\n",
    "    Returns:\n",
    "    - standardized_data: numpy array of standardized data.\n",
    "    \"\"\"\n",
    "    mean = np.mean(data)\n",
    "    std_dev = np.std(data)\n",
    "    standardized_data = (data - mean) / std_dev\n",
    "    return standardized_data\n",
    "\n",
    "# Example usage\n",
    "data = np.array([1, 2, 3, 4, 5])\n",
    "standardized_data = standardize_data(data)\n",
    "print(\"Standardized Data:\", standardized_data)\n"
   ]
  },
  {
   "cell_type": "markdown",
   "metadata": {},
   "source": [
    "### **Explanation:**\n",
    "\n",
    "- **`mean = np.mean(data)`:** Calculates the mean of the dataset.\n",
    "- **`std_dev = np.std(data)`:** Calculates the standard deviation of the dataset.\n",
    "- **`standardized_data = (data - mean) / std_dev`:** This line applies the standardization formula to each data point, rescaling the dataset to have a mean of 0 and a standard deviation of 1."
   ]
  },
  {
   "cell_type": "markdown",
   "metadata": {},
   "source": [
    "## Standardization Using scikit-learn"
   ]
  },
  {
   "cell_type": "code",
   "execution_count": 2,
   "metadata": {},
   "outputs": [
    {
     "name": "stdout",
     "output_type": "stream",
     "text": [
      "Standardized Data (sklearn): [-1.41421356 -0.70710678  0.          0.70710678  1.41421356]\n"
     ]
    }
   ],
   "source": [
    "from sklearn.preprocessing import StandardScaler\n",
    "import numpy as np\n",
    "\n",
    "def sklearn_standardize_data(data):\n",
    "    \"\"\"\n",
    "    Standardize the dataset using sklearn's StandardScaler.\n",
    "\n",
    "    Parameters:\n",
    "    - data: numpy array of data to be standardized.\n",
    "\n",
    "    Returns:\n",
    "    - standardized_data: numpy array of standardized data.\n",
    "    \"\"\"\n",
    "    scaler = StandardScaler()\n",
    "    standardized_data = scaler.fit_transform(data.reshape(-1, 1)).flatten()\n",
    "    return standardized_data\n",
    "\n",
    "# Example usage\n",
    "data = np.array([1, 2, 3, 4, 5])\n",
    "standardized_data = sklearn_standardize_data(data)\n",
    "print(\"Standardized Data (sklearn):\", standardized_data)\n"
   ]
  },
  {
   "cell_type": "markdown",
   "metadata": {},
   "source": [
    "### **Explanation:**\n",
    "\n",
    "- **`StandardScaler()`:** Creates an instance of the `StandardScaler` class.\n",
    "- **`fit_transform(data.reshape(-1, 1))`:** Fits the scaler to the data and transforms it, standardizing it in the process. The `reshape(-1, 1)` is necessary because `sklearn` expects a 2D array.\n",
    "- **`flatten()`:** Converts the output back to a 1D array."
   ]
  },
  {
   "cell_type": "markdown",
   "metadata": {},
   "source": [
    "## Full Implementation with Multiple Methods"
   ]
  },
  {
   "cell_type": "code",
   "execution_count": 3,
   "metadata": {},
   "outputs": [
    {
     "name": "stdout",
     "output_type": "stream",
     "text": [
      "Standardized Data (manual): [-1.41421356 -0.70710678  0.          0.70710678  1.41421356]\n"
     ]
    }
   ],
   "source": [
    "import numpy as np\n",
    "from sklearn.preprocessing import StandardScaler\n",
    "\n",
    "def standardize_data(data, method='manual'):\n",
    "    \"\"\"\n",
    "    Standardize the dataset using either manual calculation or sklearn's StandardScaler.\n",
    "\n",
    "    Parameters:\n",
    "    - data: numpy array of data to be standardized.\n",
    "    - method: string, either 'manual' for manual calculation or 'sklearn' for sklearn's StandardScaler.\n",
    "\n",
    "    Returns:\n",
    "    - standardized_data: numpy array of standardized data.\n",
    "    \"\"\"\n",
    "    if method == 'manual':\n",
    "        # Manual Standardization\n",
    "        mean = np.mean(data)\n",
    "        std_dev = np.std(data)\n",
    "        standardized_data = (data - mean) / std_dev\n",
    "    elif method == 'sklearn':\n",
    "        # Standardization using sklearn\n",
    "        scaler = StandardScaler()\n",
    "        standardized_data = scaler.fit_transform(data.reshape(-1, 1)).flatten()\n",
    "    else:\n",
    "        raise ValueError(\"Unknown method. Use 'manual' or 'sklearn'.\")\n",
    "\n",
    "    return standardized_data\n",
    "\n",
    "# Example usage\n",
    "data = np.array([1, 2, 3, 4, 5])\n",
    "method = 'manual'  # Choose between 'manual' and 'sklearn'\n",
    "standardized_data = standardize_data(data, method)\n",
    "print(f\"Standardized Data ({method}):\", standardized_data)\n"
   ]
  },
  {
   "cell_type": "markdown",
   "metadata": {},
   "source": [
    "### **Explanation:**\n",
    "\n",
    "- **`method` parameter:** This allows you to choose between manual standardization and using `sklearn`.\n",
    "    - **`method='manual'`:** Uses the manual standardization method described above.\n",
    "    - **`method='sklearn'`:** Uses the `sklearn` implementation of standardization.\n",
    "- **`standardize_data` function:** This function handles both methods of standardization based on the `method` parameter, making it flexible for different use cases."
   ]
  },
  {
   "cell_type": "markdown",
   "metadata": {},
   "source": [
    "## Handling Multidimensional Data\n",
    "\n",
    "When dealing with multidimensional data (e.g., multiple features), you would typically standardize each feature independently."
   ]
  },
  {
   "cell_type": "code",
   "execution_count": 4,
   "metadata": {},
   "outputs": [
    {
     "name": "stdout",
     "output_type": "stream",
     "text": [
      "Standardized Multidimensional Data (manual):\\n [[-1.41421356 -1.41421356]\n",
      " [-0.70710678 -0.70710678]\n",
      " [ 0.          0.        ]\n",
      " [ 0.70710678  0.70710678]\n",
      " [ 1.41421356  1.41421356]]\n"
     ]
    }
   ],
   "source": [
    "import numpy as np\n",
    "from sklearn.preprocessing import StandardScaler\n",
    "\n",
    "def standardize_multidimensional_data(data, method='manual'):\n",
    "    \"\"\"\n",
    "    Standardize each feature in a multidimensional dataset.\n",
    "\n",
    "    Parameters:\n",
    "    - data: 2D numpy array where each column represents a feature.\n",
    "    - method: string, either 'manual' for manual calculation or 'sklearn' for sklearn's StandardScaler.\n",
    "\n",
    "    Returns:\n",
    "    - standardized_data: 2D numpy array of standardized data.\n",
    "    \"\"\"\n",
    "    if method == 'manual':\n",
    "        # Manual Standardization for each feature\n",
    "        standardized_data = (data - np.mean(data, axis=0)) / np.std(data, axis=0)\n",
    "    elif method == 'sklearn':\n",
    "        # Standardization using sklearn\n",
    "        scaler = StandardScaler()\n",
    "        standardized_data = scaler.fit_transform(data)\n",
    "    else:\n",
    "        raise ValueError(\"Unknown method. Use 'manual' or 'sklearn'.\")\n",
    "\n",
    "    return standardized_data\n",
    "\n",
    "# Example usage\n",
    "data = np.array([[1, 2], [2, 3], [3, 4], [4, 5], [5, 6]])\n",
    "method = 'manual'  # Choose between 'manual' and 'sklearn'\n",
    "standardized_data = standardize_multidimensional_data(data, method)\n",
    "print(f\"Standardized Multidimensional Data ({method}):\\\\n\", standardized_data)\n"
   ]
  },
  {
   "cell_type": "markdown",
   "metadata": {},
   "source": [
    "### **Explanation:**\n",
    "\n",
    "- **Multidimensional Data:** Each feature (column) is standardized independently.\n",
    "- **`axis=0`:** Ensures that the mean and standard deviation are calculated for each column (feature) separately.\n",
    "- **`scaler.fit_transform(data)`:** The `sklearn` method automatically handles multidimensional data."
   ]
  }
 ],
 "metadata": {
  "kernelspec": {
   "display_name": "Python 3",
   "language": "python",
   "name": "python3"
  },
  "language_info": {
   "codemirror_mode": {
    "name": "ipython",
    "version": 3
   },
   "file_extension": ".py",
   "mimetype": "text/x-python",
   "name": "python",
   "nbconvert_exporter": "python",
   "pygments_lexer": "ipython3",
   "version": "3.12.4"
  }
 },
 "nbformat": 4,
 "nbformat_minor": 2
}
