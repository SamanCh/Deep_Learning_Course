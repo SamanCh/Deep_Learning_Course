{
 "cells": [
  {
   "cell_type": "code",
   "execution_count": null,
   "metadata": {
    "executionInfo": {
     "elapsed": 5759,
     "status": "ok",
     "timestamp": 1691681764481,
     "user": {
      "displayName": "zeeshan ahmad",
      "userId": "09790783261567949831"
     },
     "user_tz": 240
    },
    "id": "YeuAheYyhdZw"
   },
   "outputs": [],
   "source": [
    "import torch.nn as nn ##\n",
    "import torch.nn.functional as F\n",
    "from torch.utils.data import DataLoader,TensorDataset\n",
    "from sklearn.model_selection import train_test_split\n",
    "import numpy as np\n",
    "import matplotlib.pyplot as plt\n",
    "from matplotlib import style\n",
    "style.use('dark_background')\n",
    "import seaborn as sn\n",
    "import pandas as pd"
   ]
  },
  {
   "cell_type": "code",
   "execution_count": 2,
   "metadata": {
    "colab": {
     "base_uri": "https://localhost:8080/"
    },
    "executionInfo": {
     "elapsed": 114,
     "status": "ok",
     "timestamp": 1691681774549,
     "user": {
      "displayName": "zeeshan ahmad",
      "userId": "09790783261567949831"
     },
     "user_tz": 240
    },
    "id": "58-4_Y4YjT6R",
    "outputId": "fc1621f6-bb9b-4099-ce17-d16723905c17"
   },
   "outputs": [
    {
     "data": {
      "text/plain": [
       "True"
      ]
     },
     "execution_count": 2,
     "metadata": {},
     "output_type": "execute_result"
    }
   ],
   "source": [
    "import torch\n",
    "torch.cuda.is_available()"
   ]
  },
  {
   "cell_type": "code",
   "execution_count": 3,
   "metadata": {
    "colab": {
     "base_uri": "https://localhost:8080/"
    },
    "executionInfo": {
     "elapsed": 119,
     "status": "ok",
     "timestamp": 1691681780113,
     "user": {
      "displayName": "zeeshan ahmad",
      "userId": "09790783261567949831"
     },
     "user_tz": 240
    },
    "id": "PEBzySOsjT6T",
    "outputId": "a1f3168f-f96f-469d-b3f0-7b24e8423405"
   },
   "outputs": [
    {
     "name": "stdout",
     "output_type": "stream",
     "text": [
      "cuda:0\n"
     ]
    }
   ],
   "source": [
    "device = torch.device('cuda:0' if torch.cuda.is_available() else 'cpu')\n",
    "print(device)"
   ]
  },
  {
   "cell_type": "code",
   "execution_count": 4,
   "metadata": {
    "colab": {
     "base_uri": "https://localhost:8080/"
    },
    "executionInfo": {
     "elapsed": 15876,
     "status": "ok",
     "timestamp": 1691681813842,
     "user": {
      "displayName": "zeeshan ahmad",
      "userId": "09790783261567949831"
     },
     "user_tz": 240
    },
    "id": "Ck6lXUijkKbv",
    "outputId": "f29b61aa-6515-4f22-96d1-681c3551b460"
   },
   "outputs": [
    {
     "name": "stdout",
     "output_type": "stream",
     "text": [
      "Mounted at /content/drive\n"
     ]
    }
   ],
   "source": [
    "from google.colab import drive\n",
    "drive.mount('/content/drive')"
   ]
  },
  {
   "cell_type": "code",
   "execution_count": 5,
   "metadata": {
    "colab": {
     "base_uri": "https://localhost:8080/"
    },
    "executionInfo": {
     "elapsed": 123,
     "status": "ok",
     "timestamp": 1691681879620,
     "user": {
      "displayName": "zeeshan ahmad",
      "userId": "09790783261567949831"
     },
     "user_tz": 240
    },
    "id": "djRrJ4hmkSu-",
    "outputId": "177f2f96-53c3-437f-9602-b01be57efbeb"
   },
   "outputs": [
    {
     "name": "stdout",
     "output_type": "stream",
     "text": [
      "/content/drive/MyDrive/Course Material/Supervised Machine Learning/Dropout Regularization and Batch Normalization\n"
     ]
    }
   ],
   "source": [
    "%cd /content/drive/MyDrive/Course Material/Supervised Machine Learning/Dropout Regularization and Batch Normalization"
   ]
  },
  {
   "cell_type": "markdown",
   "metadata": {
    "id": "j1_JHqpfjilH"
   },
   "source": [
    "# Importing the data"
   ]
  },
  {
   "cell_type": "code",
   "execution_count": 6,
   "metadata": {
    "executionInfo": {
     "elapsed": 14571,
     "status": "ok",
     "timestamp": 1691682013798,
     "user": {
      "displayName": "zeeshan ahmad",
      "userId": "09790783261567949831"
     },
     "user_tz": 240
    },
    "id": "d-r0agLWjT6T"
   },
   "outputs": [],
   "source": [
    "df2 = pd.read_csv('WESAD_Data/user2.csv', header = None)\n",
    "df3 = pd.read_csv('WESAD_Data/user3.csv', header = None)\n",
    "df4 = pd.read_csv('WESAD_Data/user4.csv', header = None)\n",
    "df5 = pd.read_csv('WESAD_Data/user5.csv', header = None)\n",
    "df6 = pd.read_csv('WESAD_Data/user6.csv', header = None)\n",
    "df7 = pd.read_csv('WESAD_Data/user7.csv', header = None)\n",
    "df8 = pd.read_csv('WESAD_Data/user8.csv', header = None)\n",
    "df9 = pd.read_csv('WESAD_Data/user9.csv', header = None)\n",
    "df10 = pd.read_csv('WESAD_Data/user10.csv', header = None)\n",
    "df11 = pd.read_csv('WESAD_Data/user11.csv', header = None)\n",
    "df13 = pd.read_csv('WESAD_Data/user13.csv', header = None)\n",
    "df14 = pd.read_csv('WESAD_Data/user14.csv', header = None)\n",
    "df15 = pd.read_csv('WESAD_Data/user15.csv', header = None)\n",
    "df16 = pd.read_csv('WESAD_Data/user16.csv', header = None)\n",
    "df17 = pd.read_csv('WESAD_Data/user17.csv', header = None)"
   ]
  },
  {
   "cell_type": "code",
   "execution_count": 9,
   "metadata": {
    "colab": {
     "base_uri": "https://localhost:8080/",
     "height": 299
    },
    "executionInfo": {
     "elapsed": 330,
     "status": "ok",
     "timestamp": 1691682089611,
     "user": {
      "displayName": "zeeshan ahmad",
      "userId": "09790783261567949831"
     },
     "user_tz": 240
    },
    "id": "ERUQ6KmJjT6U",
    "outputId": "7475068f-2ab7-43be-ebf9-4b3db3aa244d"
   },
   "outputs": [
    {
     "data": {
      "text/html": [
       "\n",
       "\n",
       "  <div id=\"df-68d57d67-439c-478c-af0b-547e81cab85e\">\n",
       "    <div class=\"colab-df-container\">\n",
       "      <div>\n",
       "<style scoped>\n",
       "    .dataframe tbody tr th:only-of-type {\n",
       "        vertical-align: middle;\n",
       "    }\n",
       "\n",
       "    .dataframe tbody tr th {\n",
       "        vertical-align: top;\n",
       "    }\n",
       "\n",
       "    .dataframe thead th {\n",
       "        text-align: right;\n",
       "    }\n",
       "</style>\n",
       "<table border=\"1\" class=\"dataframe\">\n",
       "  <thead>\n",
       "    <tr style=\"text-align: right;\">\n",
       "      <th></th>\n",
       "      <th>0</th>\n",
       "      <th>1</th>\n",
       "      <th>2</th>\n",
       "      <th>3</th>\n",
       "      <th>4</th>\n",
       "      <th>5</th>\n",
       "      <th>6</th>\n",
       "      <th>7</th>\n",
       "      <th>8</th>\n",
       "      <th>9</th>\n",
       "      <th>...</th>\n",
       "      <th>247</th>\n",
       "      <th>248</th>\n",
       "      <th>249</th>\n",
       "      <th>250</th>\n",
       "      <th>251</th>\n",
       "      <th>252</th>\n",
       "      <th>253</th>\n",
       "      <th>254</th>\n",
       "      <th>255</th>\n",
       "      <th>256</th>\n",
       "    </tr>\n",
       "  </thead>\n",
       "  <tbody>\n",
       "    <tr>\n",
       "      <th>0</th>\n",
       "      <td>-0.064796</td>\n",
       "      <td>-0.065485</td>\n",
       "      <td>-0.064796</td>\n",
       "      <td>-0.063419</td>\n",
       "      <td>-0.068927</td>\n",
       "      <td>-0.088202</td>\n",
       "      <td>-0.089235</td>\n",
       "      <td>-0.085621</td>\n",
       "      <td>-0.076155</td>\n",
       "      <td>-0.072713</td>\n",
       "      <td>...</td>\n",
       "      <td>-0.420191</td>\n",
       "      <td>-0.413479</td>\n",
       "      <td>-0.410209</td>\n",
       "      <td>-0.408488</td>\n",
       "      <td>-0.399367</td>\n",
       "      <td>-0.391794</td>\n",
       "      <td>-0.393859</td>\n",
       "      <td>-0.390762</td>\n",
       "      <td>-0.380263</td>\n",
       "      <td>0</td>\n",
       "    </tr>\n",
       "    <tr>\n",
       "      <th>1</th>\n",
       "      <td>-0.370453</td>\n",
       "      <td>-0.360815</td>\n",
       "      <td>-0.357029</td>\n",
       "      <td>-0.341196</td>\n",
       "      <td>-0.333451</td>\n",
       "      <td>-0.330525</td>\n",
       "      <td>-0.317445</td>\n",
       "      <td>-0.300579</td>\n",
       "      <td>-0.289392</td>\n",
       "      <td>-0.287499</td>\n",
       "      <td>...</td>\n",
       "      <td>-0.212117</td>\n",
       "      <td>-0.204889</td>\n",
       "      <td>-0.201103</td>\n",
       "      <td>-0.191121</td>\n",
       "      <td>-0.187334</td>\n",
       "      <td>-0.193530</td>\n",
       "      <td>-0.205750</td>\n",
       "      <td>-0.212634</td>\n",
       "      <td>-0.214355</td>\n",
       "      <td>0</td>\n",
       "    </tr>\n",
       "    <tr>\n",
       "      <th>2</th>\n",
       "      <td>-0.217281</td>\n",
       "      <td>-0.212978</td>\n",
       "      <td>-0.209020</td>\n",
       "      <td>-0.213322</td>\n",
       "      <td>-0.215043</td>\n",
       "      <td>-0.214871</td>\n",
       "      <td>-0.215560</td>\n",
       "      <td>-0.221755</td>\n",
       "      <td>-0.223132</td>\n",
       "      <td>-0.232426</td>\n",
       "      <td>...</td>\n",
       "      <td>-0.005937</td>\n",
       "      <td>0.006455</td>\n",
       "      <td>0.016781</td>\n",
       "      <td>0.018502</td>\n",
       "      <td>0.023321</td>\n",
       "      <td>0.027796</td>\n",
       "      <td>0.034680</td>\n",
       "      <td>0.020395</td>\n",
       "      <td>-0.028654</td>\n",
       "      <td>0</td>\n",
       "    </tr>\n",
       "    <tr>\n",
       "      <th>3</th>\n",
       "      <td>-0.092677</td>\n",
       "      <td>-0.169091</td>\n",
       "      <td>-0.250841</td>\n",
       "      <td>-0.331902</td>\n",
       "      <td>-0.395236</td>\n",
       "      <td>-0.436197</td>\n",
       "      <td>-0.427076</td>\n",
       "      <td>-0.388008</td>\n",
       "      <td>-0.331902</td>\n",
       "      <td>-0.285090</td>\n",
       "      <td>...</td>\n",
       "      <td>-0.183376</td>\n",
       "      <td>-0.212290</td>\n",
       "      <td>-0.234835</td>\n",
       "      <td>-0.242064</td>\n",
       "      <td>-0.250325</td>\n",
       "      <td>-0.267535</td>\n",
       "      <td>-0.279754</td>\n",
       "      <td>-0.291285</td>\n",
       "      <td>-0.310905</td>\n",
       "      <td>0</td>\n",
       "    </tr>\n",
       "    <tr>\n",
       "      <th>4</th>\n",
       "      <td>-0.329320</td>\n",
       "      <td>-0.335688</td>\n",
       "      <td>-0.342228</td>\n",
       "      <td>-0.348252</td>\n",
       "      <td>-0.362709</td>\n",
       "      <td>-0.377165</td>\n",
       "      <td>-0.384910</td>\n",
       "      <td>-0.383533</td>\n",
       "      <td>-0.383533</td>\n",
       "      <td>-0.382501</td>\n",
       "      <td>...</td>\n",
       "      <td>-0.014542</td>\n",
       "      <td>-0.033129</td>\n",
       "      <td>-0.034162</td>\n",
       "      <td>-0.025901</td>\n",
       "      <td>-0.021770</td>\n",
       "      <td>-0.020393</td>\n",
       "      <td>-0.012132</td>\n",
       "      <td>-0.001462</td>\n",
       "      <td>0.007660</td>\n",
       "      <td>0</td>\n",
       "    </tr>\n",
       "  </tbody>\n",
       "</table>\n",
       "<p>5 rows × 257 columns</p>\n",
       "</div>\n",
       "      <button class=\"colab-df-convert\" onclick=\"convertToInteractive('df-68d57d67-439c-478c-af0b-547e81cab85e')\"\n",
       "              title=\"Convert this dataframe to an interactive table.\"\n",
       "              style=\"display:none;\">\n",
       "\n",
       "  <svg xmlns=\"http://www.w3.org/2000/svg\" height=\"24px\"viewBox=\"0 0 24 24\"\n",
       "       width=\"24px\">\n",
       "    <path d=\"M0 0h24v24H0V0z\" fill=\"none\"/>\n",
       "    <path d=\"M18.56 5.44l.94 2.06.94-2.06 2.06-.94-2.06-.94-.94-2.06-.94 2.06-2.06.94zm-11 1L8.5 8.5l.94-2.06 2.06-.94-2.06-.94L8.5 2.5l-.94 2.06-2.06.94zm10 10l.94 2.06.94-2.06 2.06-.94-2.06-.94-.94-2.06-.94 2.06-2.06.94z\"/><path d=\"M17.41 7.96l-1.37-1.37c-.4-.4-.92-.59-1.43-.59-.52 0-1.04.2-1.43.59L10.3 9.45l-7.72 7.72c-.78.78-.78 2.05 0 2.83L4 21.41c.39.39.9.59 1.41.59.51 0 1.02-.2 1.41-.59l7.78-7.78 2.81-2.81c.8-.78.8-2.07 0-2.86zM5.41 20L4 18.59l7.72-7.72 1.47 1.35L5.41 20z\"/>\n",
       "  </svg>\n",
       "      </button>\n",
       "\n",
       "\n",
       "\n",
       "    <div id=\"df-7fbd45a4-34da-4b86-98f4-8fafc729b259\">\n",
       "      <button class=\"colab-df-quickchart\" onclick=\"quickchart('df-7fbd45a4-34da-4b86-98f4-8fafc729b259')\"\n",
       "              title=\"Suggest charts.\"\n",
       "              style=\"display:none;\">\n",
       "\n",
       "<svg xmlns=\"http://www.w3.org/2000/svg\" height=\"24px\"viewBox=\"0 0 24 24\"\n",
       "     width=\"24px\">\n",
       "    <g>\n",
       "        <path d=\"M19 3H5c-1.1 0-2 .9-2 2v14c0 1.1.9 2 2 2h14c1.1 0 2-.9 2-2V5c0-1.1-.9-2-2-2zM9 17H7v-7h2v7zm4 0h-2V7h2v10zm4 0h-2v-4h2v4z\"/>\n",
       "    </g>\n",
       "</svg>\n",
       "      </button>\n",
       "    </div>\n",
       "\n",
       "<style>\n",
       "  .colab-df-quickchart {\n",
       "    background-color: #E8F0FE;\n",
       "    border: none;\n",
       "    border-radius: 50%;\n",
       "    cursor: pointer;\n",
       "    display: none;\n",
       "    fill: #1967D2;\n",
       "    height: 32px;\n",
       "    padding: 0 0 0 0;\n",
       "    width: 32px;\n",
       "  }\n",
       "\n",
       "  .colab-df-quickchart:hover {\n",
       "    background-color: #E2EBFA;\n",
       "    box-shadow: 0px 1px 2px rgba(60, 64, 67, 0.3), 0px 1px 3px 1px rgba(60, 64, 67, 0.15);\n",
       "    fill: #174EA6;\n",
       "  }\n",
       "\n",
       "  [theme=dark] .colab-df-quickchart {\n",
       "    background-color: #3B4455;\n",
       "    fill: #D2E3FC;\n",
       "  }\n",
       "\n",
       "  [theme=dark] .colab-df-quickchart:hover {\n",
       "    background-color: #434B5C;\n",
       "    box-shadow: 0px 1px 3px 1px rgba(0, 0, 0, 0.15);\n",
       "    filter: drop-shadow(0px 1px 2px rgba(0, 0, 0, 0.3));\n",
       "    fill: #FFFFFF;\n",
       "  }\n",
       "</style>\n",
       "\n",
       "    <script>\n",
       "      async function quickchart(key) {\n",
       "        const containerElement = document.querySelector('#' + key);\n",
       "        const charts = await google.colab.kernel.invokeFunction(\n",
       "            'suggestCharts', [key], {});\n",
       "      }\n",
       "    </script>\n",
       "\n",
       "      <script>\n",
       "\n",
       "function displayQuickchartButton(domScope) {\n",
       "  let quickchartButtonEl =\n",
       "    domScope.querySelector('#df-7fbd45a4-34da-4b86-98f4-8fafc729b259 button.colab-df-quickchart');\n",
       "  quickchartButtonEl.style.display =\n",
       "    google.colab.kernel.accessAllowed ? 'block' : 'none';\n",
       "}\n",
       "\n",
       "        displayQuickchartButton(document);\n",
       "      </script>\n",
       "      <style>\n",
       "    .colab-df-container {\n",
       "      display:flex;\n",
       "      flex-wrap:wrap;\n",
       "      gap: 12px;\n",
       "    }\n",
       "\n",
       "    .colab-df-convert {\n",
       "      background-color: #E8F0FE;\n",
       "      border: none;\n",
       "      border-radius: 50%;\n",
       "      cursor: pointer;\n",
       "      display: none;\n",
       "      fill: #1967D2;\n",
       "      height: 32px;\n",
       "      padding: 0 0 0 0;\n",
       "      width: 32px;\n",
       "    }\n",
       "\n",
       "    .colab-df-convert:hover {\n",
       "      background-color: #E2EBFA;\n",
       "      box-shadow: 0px 1px 2px rgba(60, 64, 67, 0.3), 0px 1px 3px 1px rgba(60, 64, 67, 0.15);\n",
       "      fill: #174EA6;\n",
       "    }\n",
       "\n",
       "    [theme=dark] .colab-df-convert {\n",
       "      background-color: #3B4455;\n",
       "      fill: #D2E3FC;\n",
       "    }\n",
       "\n",
       "    [theme=dark] .colab-df-convert:hover {\n",
       "      background-color: #434B5C;\n",
       "      box-shadow: 0px 1px 3px 1px rgba(0, 0, 0, 0.15);\n",
       "      filter: drop-shadow(0px 1px 2px rgba(0, 0, 0, 0.3));\n",
       "      fill: #FFFFFF;\n",
       "    }\n",
       "  </style>\n",
       "\n",
       "      <script>\n",
       "        const buttonEl =\n",
       "          document.querySelector('#df-68d57d67-439c-478c-af0b-547e81cab85e button.colab-df-convert');\n",
       "        buttonEl.style.display =\n",
       "          google.colab.kernel.accessAllowed ? 'block' : 'none';\n",
       "\n",
       "        async function convertToInteractive(key) {\n",
       "          const element = document.querySelector('#df-68d57d67-439c-478c-af0b-547e81cab85e');\n",
       "          const dataTable =\n",
       "            await google.colab.kernel.invokeFunction('convertToInteractive',\n",
       "                                                     [key], {});\n",
       "          if (!dataTable) return;\n",
       "\n",
       "          const docLinkHtml = 'Like what you see? Visit the ' +\n",
       "            '<a target=\"_blank\" href=https://colab.research.google.com/notebooks/data_table.ipynb>data table notebook</a>'\n",
       "            + ' to learn more about interactive tables.';\n",
       "          element.innerHTML = '';\n",
       "          dataTable['output_type'] = 'display_data';\n",
       "          await google.colab.output.renderOutput(dataTable, element);\n",
       "          const docLink = document.createElement('div');\n",
       "          docLink.innerHTML = docLinkHtml;\n",
       "          element.appendChild(docLink);\n",
       "        }\n",
       "      </script>\n",
       "    </div>\n",
       "  </div>\n"
      ],
      "text/plain": [
       "        0         1         2         3         4         5         6    \\\n",
       "0 -0.064796 -0.065485 -0.064796 -0.063419 -0.068927 -0.088202 -0.089235   \n",
       "1 -0.370453 -0.360815 -0.357029 -0.341196 -0.333451 -0.330525 -0.317445   \n",
       "2 -0.217281 -0.212978 -0.209020 -0.213322 -0.215043 -0.214871 -0.215560   \n",
       "3 -0.092677 -0.169091 -0.250841 -0.331902 -0.395236 -0.436197 -0.427076   \n",
       "4 -0.329320 -0.335688 -0.342228 -0.348252 -0.362709 -0.377165 -0.384910   \n",
       "\n",
       "        7         8         9    ...       247       248       249       250  \\\n",
       "0 -0.085621 -0.076155 -0.072713  ... -0.420191 -0.413479 -0.410209 -0.408488   \n",
       "1 -0.300579 -0.289392 -0.287499  ... -0.212117 -0.204889 -0.201103 -0.191121   \n",
       "2 -0.221755 -0.223132 -0.232426  ... -0.005937  0.006455  0.016781  0.018502   \n",
       "3 -0.388008 -0.331902 -0.285090  ... -0.183376 -0.212290 -0.234835 -0.242064   \n",
       "4 -0.383533 -0.383533 -0.382501  ... -0.014542 -0.033129 -0.034162 -0.025901   \n",
       "\n",
       "        251       252       253       254       255  256  \n",
       "0 -0.399367 -0.391794 -0.393859 -0.390762 -0.380263    0  \n",
       "1 -0.187334 -0.193530 -0.205750 -0.212634 -0.214355    0  \n",
       "2  0.023321  0.027796  0.034680  0.020395 -0.028654    0  \n",
       "3 -0.250325 -0.267535 -0.279754 -0.291285 -0.310905    0  \n",
       "4 -0.021770 -0.020393 -0.012132 -0.001462  0.007660    0  \n",
       "\n",
       "[5 rows x 257 columns]"
      ]
     },
     "execution_count": 9,
     "metadata": {},
     "output_type": "execute_result"
    }
   ],
   "source": [
    "df17.head()"
   ]
  },
  {
   "cell_type": "code",
   "execution_count": 10,
   "metadata": {
    "colab": {
     "base_uri": "https://localhost:8080/"
    },
    "executionInfo": {
     "elapsed": 145,
     "status": "ok",
     "timestamp": 1691682111863,
     "user": {
      "displayName": "zeeshan ahmad",
      "userId": "09790783261567949831"
     },
     "user_tz": 240
    },
    "id": "fAZ_EaMgklw1",
    "outputId": "69cfd3a4-5cb7-4468-a37e-37143e01e3c5"
   },
   "outputs": [
    {
     "data": {
      "text/plain": [
       "(5798, 257)"
      ]
     },
     "execution_count": 10,
     "metadata": {},
     "output_type": "execute_result"
    }
   ],
   "source": [
    "df2.shape"
   ]
  },
  {
   "cell_type": "code",
   "execution_count": 11,
   "metadata": {
    "executionInfo": {
     "elapsed": 125,
     "status": "ok",
     "timestamp": 1691682182396,
     "user": {
      "displayName": "zeeshan ahmad",
      "userId": "09790783261567949831"
     },
     "user_tz": 240
    },
    "id": "LVGtnCWPjT6U"
   },
   "outputs": [],
   "source": [
    "data = pd.concat([df2, df3, df4, df5, df6, df7, df8, df9, df10, df11, df13, df14, df15, df16, df17])"
   ]
  },
  {
   "cell_type": "code",
   "execution_count": 12,
   "metadata": {
    "colab": {
     "base_uri": "https://localhost:8080/"
    },
    "executionInfo": {
     "elapsed": 146,
     "status": "ok",
     "timestamp": 1691682184226,
     "user": {
      "displayName": "zeeshan ahmad",
      "userId": "09790783261567949831"
     },
     "user_tz": 240
    },
    "id": "FjUVlV--jT6V",
    "outputId": "e3206e47-caeb-403e-c5e0-4928bb359266"
   },
   "outputs": [
    {
     "data": {
      "text/plain": [
       "(90630, 257)"
      ]
     },
     "execution_count": 12,
     "metadata": {},
     "output_type": "execute_result"
    }
   ],
   "source": [
    "data.shape"
   ]
  },
  {
   "cell_type": "code",
   "execution_count": 13,
   "metadata": {
    "colab": {
     "base_uri": "https://localhost:8080/"
    },
    "executionInfo": {
     "elapsed": 148,
     "status": "ok",
     "timestamp": 1691682240362,
     "user": {
      "displayName": "zeeshan ahmad",
      "userId": "09790783261567949831"
     },
     "user_tz": 240
    },
    "id": "wsk82s3pjT6V",
    "outputId": "0add0780-bc3a-4781-e7f6-63caa2cad4bf"
   },
   "outputs": [
    {
     "data": {
      "text/plain": [
       "1    48147\n",
       "2    27244\n",
       "0    15239\n",
       "Name: 256, dtype: int64"
      ]
     },
     "execution_count": 13,
     "metadata": {},
     "output_type": "execute_result"
    }
   ],
   "source": [
    "data[256].value_counts()"
   ]
  },
  {
   "cell_type": "code",
   "execution_count": 14,
   "metadata": {
    "colab": {
     "base_uri": "https://localhost:8080/"
    },
    "executionInfo": {
     "elapsed": 125,
     "status": "ok",
     "timestamp": 1691682315807,
     "user": {
      "displayName": "zeeshan ahmad",
      "userId": "09790783261567949831"
     },
     "user_tz": 240
    },
    "id": "_JJ9Q87OjT6W",
    "outputId": "319f22e2-fea4-4a7f-93ce-f76de774dae2"
   },
   "outputs": [
    {
     "data": {
      "text/plain": [
       "3"
      ]
     },
     "execution_count": 14,
     "metadata": {},
     "output_type": "execute_result"
    }
   ],
   "source": [
    "n_classes = len(np.unique(data[256].value_counts()))\n",
    "n_classes"
   ]
  },
  {
   "cell_type": "markdown",
   "metadata": {
    "id": "3VKoHvRQj7cm"
   },
   "source": [
    "# Extracting Features and Labels"
   ]
  },
  {
   "cell_type": "code",
   "execution_count": 15,
   "metadata": {
    "executionInfo": {
     "elapsed": 115,
     "status": "ok",
     "timestamp": 1691682367088,
     "user": {
      "displayName": "zeeshan ahmad",
      "userId": "09790783261567949831"
     },
     "user_tz": 240
    },
    "id": "o70PR--xjT6X"
   },
   "outputs": [],
   "source": [
    "X = data[data.columns[0:-1]].values\n",
    "y = data[data.columns[-1]].values"
   ]
  },
  {
   "cell_type": "code",
   "execution_count": 16,
   "metadata": {
    "executionInfo": {
     "elapsed": 384,
     "status": "ok",
     "timestamp": 1691682371376,
     "user": {
      "displayName": "zeeshan ahmad",
      "userId": "09790783261567949831"
     },
     "user_tz": 240
    },
    "id": "iYVKfWb-jT6X"
   },
   "outputs": [],
   "source": [
    "X_train, X_test, y_train, y_test = train_test_split(X, y, test_size=0.2, random_state=42)"
   ]
  },
  {
   "cell_type": "markdown",
   "metadata": {
    "id": "OhLQ2YSvpiGj"
   },
   "source": [
    "# Transform to Tensor and Using DataLoader"
   ]
  },
  {
   "cell_type": "code",
   "execution_count": 17,
   "metadata": {
    "executionInfo": {
     "elapsed": 309,
     "status": "ok",
     "timestamp": 1691682448926,
     "user": {
      "displayName": "zeeshan ahmad",
      "userId": "09790783261567949831"
     },
     "user_tz": 240
    },
    "id": "Y_tZ1ymVp0Sf"
   },
   "outputs": [],
   "source": [
    "# Convert to tensor\n",
    "train_data = torch.tensor(X_train, dtype = torch.float32)\n",
    "train_labels = torch.tensor(y_train).long()\n",
    "test_data = torch.tensor(X_test, dtype = torch.float32)\n",
    "test_labels = torch.tensor(y_test).long()\n",
    "\n",
    "\n",
    "# Convert to PyTorch Datasets\n",
    "train_data = TensorDataset(train_data,train_labels)\n",
    "test_data  = TensorDataset(test_data,test_labels)\n",
    "\n",
    "# Step 4: translate into dataloader objects\n",
    "batchsize    = 32\n",
    "train_loader = DataLoader(train_data,batch_size=batchsize,shuffle=True,drop_last=True)\n",
    "test_loader  = DataLoader(test_data,batch_size=batchsize, drop_last=True)"
   ]
  },
  {
   "cell_type": "markdown",
   "metadata": {
    "id": "H_YstHs3jT6Z"
   },
   "source": [
    "# Observe the batches of training and test data"
   ]
  },
  {
   "cell_type": "code",
   "execution_count": 18,
   "metadata": {
    "colab": {
     "base_uri": "https://localhost:8080/"
    },
    "executionInfo": {
     "elapsed": 143,
     "status": "ok",
     "timestamp": 1691682465147,
     "user": {
      "displayName": "zeeshan ahmad",
      "userId": "09790783261567949831"
     },
     "user_tz": 240
    },
    "id": "BgTwCLTqjT6Z",
    "outputId": "23347899-4a4e-40ff-8f32-0e7967639ba9"
   },
   "outputs": [
    {
     "name": "stdout",
     "output_type": "stream",
     "text": [
      "torch.Size([32, 256])\n",
      "torch.Size([32])\n"
     ]
    }
   ],
   "source": [
    "for x,y in train_loader:\n",
    "    break\n",
    "print(x.shape)\n",
    "print(y.shape)"
   ]
  },
  {
   "cell_type": "code",
   "execution_count": 19,
   "metadata": {
    "colab": {
     "base_uri": "https://localhost:8080/"
    },
    "executionInfo": {
     "elapsed": 206,
     "status": "ok",
     "timestamp": 1691682479215,
     "user": {
      "displayName": "zeeshan ahmad",
      "userId": "09790783261567949831"
     },
     "user_tz": 240
    },
    "id": "gwhoDJBujT6Z",
    "outputId": "fb3a2a74-5692-4242-8968-528a716c3f5b"
   },
   "outputs": [
    {
     "name": "stdout",
     "output_type": "stream",
     "text": [
      "tensor([1, 2, 1, 0, 2, 0, 1, 1, 1, 1, 0, 2, 2, 2, 0, 1, 1, 0, 1, 1, 1, 0, 1, 2,\n",
      "        1, 1, 1, 0, 2, 1, 2, 1])\n"
     ]
    }
   ],
   "source": [
    "print(y)"
   ]
  },
  {
   "cell_type": "code",
   "execution_count": 20,
   "metadata": {
    "colab": {
     "base_uri": "https://localhost:8080/"
    },
    "executionInfo": {
     "elapsed": 133,
     "status": "ok",
     "timestamp": 1691682487788,
     "user": {
      "displayName": "zeeshan ahmad",
      "userId": "09790783261567949831"
     },
     "user_tz": 240
    },
    "id": "rP6H-p5ljT6a",
    "outputId": "fe195c3d-99be-43f1-cd9d-070b2d1d9881"
   },
   "outputs": [
    {
     "name": "stdout",
     "output_type": "stream",
     "text": [
      "torch.Size([32, 256])\n",
      "torch.Size([32])\n"
     ]
    }
   ],
   "source": [
    "for x,y in test_loader:\n",
    "    break\n",
    "print(x.shape)\n",
    "print(y.shape)"
   ]
  },
  {
   "cell_type": "markdown",
   "metadata": {
    "id": "OK8Opkhgp0bO"
   },
   "source": [
    "# Creating the Neural Network Model Without Dropout Regularization"
   ]
  },
  {
   "cell_type": "code",
   "execution_count": 21,
   "metadata": {
    "executionInfo": {
     "elapsed": 112,
     "status": "ok",
     "timestamp": 1691682649547,
     "user": {
      "displayName": "zeeshan ahmad",
      "userId": "09790783261567949831"
     },
     "user_tz": 240
    },
    "id": "JK3OO3tAtZkA"
   },
   "outputs": [],
   "source": [
    "class NeuralNet(nn.Module):\n",
    "  def __init__(self):\n",
    "    super().__init__()\n",
    "\n",
    "    # input layer\n",
    "    self.input = nn.Linear(256,512)\n",
    "\n",
    "    # hidden layer\n",
    "    self.fc1 = nn.Linear(512,256)\n",
    "    self.fc2 = nn.Linear(256,128)\n",
    "\n",
    "    # output layer\n",
    "    self.output = nn.Linear(128,3)\n",
    "\n",
    "  # forward pass\n",
    "\n",
    "  def forward(self,x):\n",
    "    x = F.relu( self.input(x) )\n",
    "    x = F.relu( self.fc1(x) )\n",
    "    x = F.relu( self.fc2(x) )\n",
    "    return self.output(x)"
   ]
  },
  {
   "cell_type": "markdown",
   "metadata": {
    "id": "o3E4uYlMlN22"
   },
   "source": [
    "# Create the model Instance and setting the parameters"
   ]
  },
  {
   "cell_type": "code",
   "execution_count": 22,
   "metadata": {
    "executionInfo": {
     "elapsed": 133,
     "status": "ok",
     "timestamp": 1691682669744,
     "user": {
      "displayName": "zeeshan ahmad",
      "userId": "09790783261567949831"
     },
     "user_tz": 240
    },
    "id": "7zD2T9y3lL5N"
   },
   "outputs": [],
   "source": [
    "model = NeuralNet()\n",
    "\n",
    "lossfun = nn.CrossEntropyLoss()\n",
    "\n",
    "optimizer = torch.optim.SGD(model.parameters(),momentum = 0.9, lr=.01)\n"
   ]
  },
  {
   "cell_type": "markdown",
   "metadata": {
    "id": "dvfGQIRGp0ht"
   },
   "source": [
    "# Training and Testing the model"
   ]
  },
  {
   "cell_type": "code",
   "execution_count": null,
   "metadata": {
    "colab": {
     "base_uri": "https://localhost:8080/"
    },
    "executionInfo": {
     "elapsed": 130877,
     "status": "ok",
     "timestamp": 1691491567470,
     "user": {
      "displayName": "zeeshan ahmad",
      "userId": "09790783261567949831"
     },
     "user_tz": 240
    },
    "id": "1rS6yaX_lpHF",
    "outputId": "559d8767-ee64-414b-a2a5-ee085258a82e"
   },
   "outputs": [
    {
     "name": "stdout",
     "output_type": "stream",
     "text": [
      "epoch: 0   loss: 0.9783344268798828\n",
      "epoch: 5   loss: 0.7082510590553284\n",
      "epoch: 10   loss: 0.617218017578125\n",
      "epoch: 15   loss: 0.5489132404327393\n",
      "epoch: 20   loss: 0.44004330039024353\n"
     ]
    }
   ],
   "source": [
    "epochs = 25\n",
    "\n",
    "losses    = torch.zeros(epochs)\n",
    "trainAcc  = []\n",
    "testAcc   = []\n",
    "\n",
    "\n",
    "  # loop over epochs\n",
    "for epoch in range(epochs):\n",
    "\n",
    "    model.train()\n",
    "    model.to(device)\n",
    "    batchAcc  = []\n",
    "    batchLoss = []\n",
    "    for X,y in train_loader:\n",
    "\n",
    "      X = X.to(device)\n",
    "      y = y.to(device)\n",
    "\n",
    "      ypred =  model(X)\n",
    "      loss = lossfun(ypred,y)\n",
    "\n",
    "      optimizer.zero_grad()\n",
    "      loss.backward()\n",
    "      optimizer.step()\n",
    "\n",
    "      batchLoss.append(loss.item())\n",
    "\n",
    "      ypred = ypred.cpu()\n",
    "      y = y.cpu()\n",
    "\n",
    "      acc = 100 * torch.mean((torch.argmax(ypred, dim=1) == y).float())\n",
    "      batchAcc.append(acc)\n",
    "\n",
    "    trainAcc.append( np.mean(batchAcc) )\n",
    "\n",
    "    losses[epoch] = np.mean(batchLoss)\n",
    "\n",
    "    # TESTING\n",
    "\n",
    "\n",
    "    model.eval()\n",
    "    with torch.no_grad():\n",
    "\n",
    "        for X,y in test_loader:\n",
    "\n",
    "            X = X.to(device)\n",
    "            y = y.to(device)\n",
    "\n",
    "\n",
    "            ypred =  model(X)\n",
    "            ypred = ypred.cpu()\n",
    "            y = y.cpu()\n",
    "\n",
    "    testAcc.append( 100*torch.mean((torch.argmax(ypred,axis=1)==y).float()) )\n",
    "    if (epoch % 5) == 0:\n",
    "      print(f'epoch: {epoch}   loss: {loss.item()}')\n",
    "\n",
    "\n"
   ]
  },
  {
   "cell_type": "markdown",
   "metadata": {
    "id": "WRJr2FF0nADO"
   },
   "source": [
    "# Plotting and Visualization"
   ]
  },
  {
   "cell_type": "code",
   "execution_count": null,
   "metadata": {
    "colab": {
     "base_uri": "https://localhost:8080/",
     "height": 453
    },
    "executionInfo": {
     "elapsed": 850,
     "status": "ok",
     "timestamp": 1691491568308,
     "user": {
      "displayName": "zeeshan ahmad",
      "userId": "09790783261567949831"
     },
     "user_tz": 240
    },
    "id": "gHzKOZjnp0qn",
    "outputId": "42671735-818c-443e-9c3c-8c4f9b0c36d0"
   },
   "outputs": [
    {
     "data": {
      "image/png": "[encoded data removed]",
      "text/plain": [
       "<Figure size 1800x600 with 2 Axes>"
      ]
     },
     "metadata": {},
     "output_type": "display_data"
    }
   ],
   "source": [
    "fig,ax = plt.subplots(1,2,figsize=(18,6))\n",
    "\n",
    "ax[0].plot(losses,'g', lw = 3)\n",
    "ax[0].set_xlabel('Epochs', fontsize = 15)\n",
    "ax[0].set_ylabel('Loss', fontsize = 15)\n",
    "ax[0].legend(['Train','Test'], fontsize = 15)\n",
    "ax[0].set_title('Training loss', fontsize = 25)\n",
    "\n",
    "ax[1].plot(trainAcc,label='Training Acc', lw =3)\n",
    "ax[1].plot(testAcc,label='Testing Acc', lw = 3)\n",
    "ax[1].set_xlabel('Epochs', fontsize = 15)\n",
    "ax[1].set_ylabel('Accuracy (%)', fontsize = 15)\n",
    "ax[1].set_ylim([10,100])\n",
    "ax[1].set_title(f'Train Accuracy: {trainAcc[-1]:.2f}% \\n Test Accuracy: {testAcc[-1]:.2f}%', fontsize = 15)\n",
    "ax[1].legend(fontsize = 15)\n",
    "\n",
    "plt.show()"
   ]
  },
  {
   "cell_type": "code",
   "execution_count": null,
   "metadata": {
    "id": "S86aQJ-vjT6c"
   },
   "outputs": [],
   "source": []
  },
  {
   "cell_type": "markdown",
   "metadata": {
    "id": "RmAlRi0fmmjG"
   },
   "source": [
    "# Neural Network With Dropout Regularization"
   ]
  },
  {
   "cell_type": "code",
   "execution_count": 23,
   "metadata": {
    "executionInfo": {
     "elapsed": 286,
     "status": "ok",
     "timestamp": 1691683056564,
     "user": {
      "displayName": "zeeshan ahmad",
      "userId": "09790783261567949831"
     },
     "user_tz": 240
    },
    "id": "YnI2jaJrjT6c"
   },
   "outputs": [],
   "source": [
    "class NeuralNet2(nn.Module):\n",
    "  def __init__(self):\n",
    "    super().__init__()\n",
    "\n",
    "    # input layer\n",
    "    self.input = nn.Linear(256,512)\n",
    "\n",
    "    # hidden layer\n",
    "    self.fc1 = nn.Linear(512,256)\n",
    "    self.dropout = nn.Dropout(0.1)\n",
    "    self.fc2 = nn.Linear(256,128)\n",
    "    self.dropout = nn.Dropout(0.1)\n",
    "\n",
    "    # output layer\n",
    "    self.output = nn.Linear(128,3)\n",
    "\n",
    "  # forward pass\n",
    "\n",
    "  def forward(self,x):\n",
    "    x = F.relu( self.input(x) )\n",
    "    x = F.relu( self.fc1(x) )\n",
    "    x = self.dropout(x)\n",
    "    x = F.relu( self.fc2(x) )\n",
    "    x = self.dropout(x)\n",
    "    return self.output(x)"
   ]
  },
  {
   "cell_type": "markdown",
   "metadata": {
    "id": "-wuD1Qi5nfr-"
   },
   "source": [
    "# Create model instance and setting parameters"
   ]
  },
  {
   "cell_type": "code",
   "execution_count": null,
   "metadata": {
    "id": "QIW0JfitnS0-"
   },
   "outputs": [],
   "source": [
    "model2 = NeuralNet2()\n",
    "\n",
    "lossfun = nn.CrossEntropyLoss()\n",
    "\n",
    "optimizer = torch.optim.SGD(model2.parameters(),momentum = 0.9, lr=.01)"
   ]
  },
  {
   "cell_type": "code",
   "execution_count": null,
   "metadata": {
    "colab": {
     "base_uri": "https://localhost:8080/"
    },
    "executionInfo": {
     "elapsed": 137204,
     "status": "ok",
     "timestamp": 1691491705510,
     "user": {
      "displayName": "zeeshan ahmad",
      "userId": "09790783261567949831"
     },
     "user_tz": 240
    },
    "id": "lsenqBtWjT6c",
    "outputId": "482f7969-d991-4660-b3d8-f3aef221b722"
   },
   "outputs": [
    {
     "name": "stdout",
     "output_type": "stream",
     "text": [
      "epoch: 0   loss: 0.8598504662513733\n",
      "epoch: 5   loss: 0.8022669553756714\n",
      "epoch: 10   loss: 0.7706445455551147\n",
      "epoch: 15   loss: 0.49501195549964905\n",
      "epoch: 20   loss: 0.3993106782436371\n"
     ]
    }
   ],
   "source": [
    "epochs = 25\n",
    "losses    = torch.zeros(epochs)\n",
    "trainAcc  = []\n",
    "testAcc   = []\n",
    "\n",
    "\n",
    "  # loop over epochs\n",
    "for epoch in range(epochs):\n",
    "\n",
    "    model2.train()\n",
    "    model2.to(device)\n",
    "    batchAcc  = []\n",
    "    batchLoss = []\n",
    "    for X,y in train_loader:\n",
    "\n",
    "      X = X.to(device)\n",
    "      y = y.to(device)\n",
    "\n",
    "      ypred =  model2(X)\n",
    "      loss = lossfun(ypred,y)\n",
    "\n",
    "      optimizer.zero_grad()\n",
    "      loss.backward()\n",
    "      optimizer.step()\n",
    "\n",
    "      batchLoss.append(loss.item())\n",
    "\n",
    "      ypred = ypred.cpu()\n",
    "      y = y.cpu()\n",
    "\n",
    "      acc = 100 * torch.mean((torch.argmax(ypred, dim=1) == y).float())\n",
    "      batchAcc.append(acc)\n",
    "\n",
    "    trainAcc.append( np.mean(batchAcc) )\n",
    "\n",
    "    losses[epoch] = np.mean(batchLoss)\n",
    "\n",
    "    # TESTING\n",
    "\n",
    "\n",
    "    model2.eval()\n",
    "    with torch.no_grad():\n",
    "\n",
    "        for X,y in test_loader:\n",
    "\n",
    "            X = X.to(device)\n",
    "            y = y.to(device)\n",
    "\n",
    "\n",
    "            ypred =  model2(X)\n",
    "            ypred = ypred.cpu()\n",
    "            y = y.cpu()\n",
    "\n",
    "    testAcc.append( 100*torch.mean((torch.argmax(ypred,axis=1)==y).float()) )\n",
    "    if (epoch % 5) == 0:\n",
    "      print(f'epoch: {epoch}   loss: {loss.item()}')\n"
   ]
  },
  {
   "cell_type": "markdown",
   "metadata": {
    "id": "HI9zPqoEoCH2"
   },
   "source": [
    "# Plotting and Visualization"
   ]
  },
  {
   "cell_type": "code",
   "execution_count": null,
   "metadata": {
    "colab": {
     "base_uri": "https://localhost:8080/",
     "height": 451
    },
    "executionInfo": {
     "elapsed": 855,
     "status": "ok",
     "timestamp": 1691491706362,
     "user": {
      "displayName": "zeeshan ahmad",
      "userId": "09790783261567949831"
     },
     "user_tz": 240
    },
    "id": "W95AoFtHjT6d",
    "outputId": "21d5ea0c-3981-4789-b220-5e1e32d73dc5"
   },
   "outputs": [
    {
     "data": {
      "image/png": "[encoded data removed]",
      "text/plain": [
       "<Figure size 1800x600 with 2 Axes>"
      ]
     },
     "metadata": {},
     "output_type": "display_data"
    }
   ],
   "source": [
    "fig,ax = plt.subplots(1,2,figsize=(18,6))\n",
    "\n",
    "ax[0].plot(losses,'g', lw = 3)\n",
    "ax[0].set_xlabel('Epochs', fontsize = 15)\n",
    "ax[0].set_ylabel('Loss', fontsize = 15)\n",
    "ax[0].legend(['Train','Test'], fontsize = 15)\n",
    "ax[0].set_title('Training loss', fontsize = 25)\n",
    "\n",
    "ax[1].plot(trainAcc,label='Training Acc', lw =3)\n",
    "ax[1].plot(testAcc,label='Testing Acc', lw = 3)\n",
    "ax[1].set_xlabel('Epochs', fontsize = 15)\n",
    "ax[1].set_ylabel('Accuracy (%)', fontsize = 15)\n",
    "ax[1].set_ylim([10,100])\n",
    "ax[1].set_title(f'Train Accuracy: {trainAcc[-1]:.2f}% \\n Test Accuracy: {testAcc[-1]:.2f}%', fontsize = 15)\n",
    "ax[1].legend(fontsize = 15)\n",
    "\n",
    "plt.show()"
   ]
  }
 ],
 "metadata": {
  "accelerator": "GPU",
  "colab": {
   "gpuType": "T4",
   "provenance": [
    {
     "file_id": "1FcEBC0NAESIlHQkv6_85R-XDUKGE8XbM",
     "timestamp": 1617815797362
    },
    {
     "file_id": "1qKgZ8kVcqNgwtBzHbWq5yJH_HqI6DxWW",
     "timestamp": 1617803880910
    },
    {
     "file_id": "15cpyHkJ435B4MqbyGjAH1poN4nCy_DE4",
     "timestamp": 1617737766196
    },
    {
     "file_id": "1OLuWuaFu0hcFgkQ2hh5BqbRuqUZD7XcQ",
     "timestamp": 1617734878578
    },
    {
     "file_id": "1XvzVGJPTJifVh8OpZVB7ykLxyUqYwQ1j",
     "timestamp": 1617196833019
    },
    {
     "file_id": "1bv1_y32e3KEExFKKlPfC3rpw1JxmBr8H",
     "timestamp": 1617124341706
    },
    {
     "file_id": "1GMq8u7KyHB2AE7Teyls9gK1T01OduQSn",
     "timestamp": 1616697516760
    },
    {
     "file_id": "1Ui3kyHim-e0XLgDs2mkBxVlYg7TKYtcg",
     "timestamp": 1616615469755
    },
    {
     "file_id": "1YpHocGI4rApOxIBb1ZghCU5L-hFnv4CK",
     "timestamp": 1616608248670
    }
   ]
  },
  "kernelspec": {
   "display_name": "Python 3",
   "name": "python3"
  },
  "language_info": {
   "codemirror_mode": {
    "name": "ipython",
    "version": 3
   },
   "file_extension": ".py",
   "mimetype": "text/x-python",
   "name": "python",
   "nbconvert_exporter": "python",
   "pygments_lexer": "ipython3",
   "version": "3.9.7"
  }
 },
 "nbformat": 4,
 "nbformat_minor": 0
}
