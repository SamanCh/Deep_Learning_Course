{
 "cells": [
  {
   "cell_type": "code",
   "execution_count": 1,
   "metadata": {
    "executionInfo": {
     "elapsed": 153,
     "status": "ok",
     "timestamp": 1691301571929,
     "user": {
      "displayName": "zeeshan ahmad",
      "userId": "09790783261567949831"
     },
     "user_tz": 240
    },
    "id": "YeuAheYyhdZw"
   },
   "outputs": [],
   "source": [
    "import torch\n",
    "import torch.nn as nn\n",
    "import torch.nn.functional as F\n",
    "import matplotlib.pyplot as plt\n",
    "from matplotlib import style\n",
    "style.use('dark_background')\n",
    "from IPython import display\n",
    "import seaborn as sns\n",
    "import pandas as pd"
   ]
  },
  {
   "cell_type": "markdown",
   "metadata": {
    "id": "cOzUfXEeiMog"
   },
   "source": [
    "# Load Dataset"
   ]
  },
  {
   "cell_type": "code",
   "execution_count": 2,
   "metadata": {
    "colab": {
     "base_uri": "https://localhost:8080/",
     "height": 363
    },
    "executionInfo": {
     "elapsed": 147,
     "status": "ok",
     "timestamp": 1691301585174,
     "user": {
      "displayName": "zeeshan ahmad",
      "userId": "09790783261567949831"
     },
     "user_tz": 240
    },
    "id": "uoYNqbdItrF1",
    "outputId": "1917afa9-0111-4c81-928a-e7522630d842"
   },
   "outputs": [
    {
     "data": {
      "text/html": [
       "<div>\n",
       "<style scoped>\n",
       "    .dataframe tbody tr th:only-of-type {\n",
       "        vertical-align: middle;\n",
       "    }\n",
       "\n",
       "    .dataframe tbody tr th {\n",
       "        vertical-align: top;\n",
       "    }\n",
       "\n",
       "    .dataframe thead th {\n",
       "        text-align: right;\n",
       "    }\n",
       "</style>\n",
       "<table border=\"1\" class=\"dataframe\">\n",
       "  <thead>\n",
       "    <tr style=\"text-align: right;\">\n",
       "      <th></th>\n",
       "      <th>sepal_length</th>\n",
       "      <th>sepal_width</th>\n",
       "      <th>petal_length</th>\n",
       "      <th>petal_width</th>\n",
       "      <th>species</th>\n",
       "    </tr>\n",
       "  </thead>\n",
       "  <tbody>\n",
       "    <tr>\n",
       "      <th>0</th>\n",
       "      <td>5.1</td>\n",
       "      <td>3.5</td>\n",
       "      <td>1.4</td>\n",
       "      <td>0.2</td>\n",
       "      <td>setosa</td>\n",
       "    </tr>\n",
       "    <tr>\n",
       "      <th>1</th>\n",
       "      <td>4.9</td>\n",
       "      <td>3.0</td>\n",
       "      <td>1.4</td>\n",
       "      <td>0.2</td>\n",
       "      <td>setosa</td>\n",
       "    </tr>\n",
       "    <tr>\n",
       "      <th>2</th>\n",
       "      <td>4.7</td>\n",
       "      <td>3.2</td>\n",
       "      <td>1.3</td>\n",
       "      <td>0.2</td>\n",
       "      <td>setosa</td>\n",
       "    </tr>\n",
       "    <tr>\n",
       "      <th>3</th>\n",
       "      <td>4.6</td>\n",
       "      <td>3.1</td>\n",
       "      <td>1.5</td>\n",
       "      <td>0.2</td>\n",
       "      <td>setosa</td>\n",
       "    </tr>\n",
       "    <tr>\n",
       "      <th>4</th>\n",
       "      <td>5.0</td>\n",
       "      <td>3.6</td>\n",
       "      <td>1.4</td>\n",
       "      <td>0.2</td>\n",
       "      <td>setosa</td>\n",
       "    </tr>\n",
       "    <tr>\n",
       "      <th>5</th>\n",
       "      <td>5.4</td>\n",
       "      <td>3.9</td>\n",
       "      <td>1.7</td>\n",
       "      <td>0.4</td>\n",
       "      <td>setosa</td>\n",
       "    </tr>\n",
       "    <tr>\n",
       "      <th>6</th>\n",
       "      <td>4.6</td>\n",
       "      <td>3.4</td>\n",
       "      <td>1.4</td>\n",
       "      <td>0.3</td>\n",
       "      <td>setosa</td>\n",
       "    </tr>\n",
       "    <tr>\n",
       "      <th>7</th>\n",
       "      <td>5.0</td>\n",
       "      <td>3.4</td>\n",
       "      <td>1.5</td>\n",
       "      <td>0.2</td>\n",
       "      <td>setosa</td>\n",
       "    </tr>\n",
       "    <tr>\n",
       "      <th>8</th>\n",
       "      <td>4.4</td>\n",
       "      <td>2.9</td>\n",
       "      <td>1.4</td>\n",
       "      <td>0.2</td>\n",
       "      <td>setosa</td>\n",
       "    </tr>\n",
       "    <tr>\n",
       "      <th>9</th>\n",
       "      <td>4.9</td>\n",
       "      <td>3.1</td>\n",
       "      <td>1.5</td>\n",
       "      <td>0.1</td>\n",
       "      <td>setosa</td>\n",
       "    </tr>\n",
       "  </tbody>\n",
       "</table>\n",
       "</div>"
      ],
      "text/plain": [
       "   sepal_length  sepal_width  petal_length  petal_width species\n",
       "0           5.1          3.5           1.4          0.2  setosa\n",
       "1           4.9          3.0           1.4          0.2  setosa\n",
       "2           4.7          3.2           1.3          0.2  setosa\n",
       "3           4.6          3.1           1.5          0.2  setosa\n",
       "4           5.0          3.6           1.4          0.2  setosa\n",
       "5           5.4          3.9           1.7          0.4  setosa\n",
       "6           4.6          3.4           1.4          0.3  setosa\n",
       "7           5.0          3.4           1.5          0.2  setosa\n",
       "8           4.4          2.9           1.4          0.2  setosa\n",
       "9           4.9          3.1           1.5          0.1  setosa"
      ]
     },
     "execution_count": 2,
     "metadata": {},
     "output_type": "execute_result"
    }
   ],
   "source": [
    "iris = sns.load_dataset('iris')\n",
    "iris.head(10)"
   ]
  },
  {
   "cell_type": "code",
   "execution_count": 3,
   "metadata": {
    "colab": {
     "base_uri": "https://localhost:8080/"
    },
    "executionInfo": {
     "elapsed": 126,
     "status": "ok",
     "timestamp": 1691301601162,
     "user": {
      "displayName": "zeeshan ahmad",
      "userId": "09790783261567949831"
     },
     "user_tz": 240
    },
    "id": "3Hv0aL24trF2",
    "outputId": "d902c70a-b3a3-4162-8db9-607044816a0c"
   },
   "outputs": [
    {
     "data": {
      "text/plain": [
       "array(['setosa', 'versicolor', 'virginica'], dtype=object)"
      ]
     },
     "execution_count": 3,
     "metadata": {},
     "output_type": "execute_result"
    }
   ],
   "source": [
    "iris.species.unique()"
   ]
  },
  {
   "cell_type": "markdown",
   "metadata": {
    "id": "Tp8CEubstrF4"
   },
   "source": [
    "# Extracting Features and Labels and Transform them to Tensors"
   ]
  },
  {
   "cell_type": "code",
   "execution_count": 4,
   "metadata": {
    "executionInfo": {
     "elapsed": 2177,
     "status": "ok",
     "timestamp": 1691301643482,
     "user": {
      "displayName": "zeeshan ahmad",
      "userId": "09790783261567949831"
     },
     "user_tz": 240
    },
    "id": "3c8y_91strF4"
   },
   "outputs": [],
   "source": [
    "X = torch.tensor(iris.iloc[:,:-1].values, dtype = torch.float32)"
   ]
  },
  {
   "cell_type": "code",
   "execution_count": 5,
   "metadata": {
    "colab": {
     "base_uri": "https://localhost:8080/"
    },
    "executionInfo": {
     "elapsed": 4,
     "status": "ok",
     "timestamp": 1691301644893,
     "user": {
      "displayName": "zeeshan ahmad",
      "userId": "09790783261567949831"
     },
     "user_tz": 240
    },
    "id": "s9E2EVGnjOiI",
    "outputId": "d41c121a-d1b9-490a-9560-536ae3754604"
   },
   "outputs": [
    {
     "data": {
      "text/plain": [
       "tensor([[5.1000, 3.5000, 1.4000, 0.2000],\n",
       "        [4.9000, 3.0000, 1.4000, 0.2000],\n",
       "        [4.7000, 3.2000, 1.3000, 0.2000],\n",
       "        [4.6000, 3.1000, 1.5000, 0.2000],\n",
       "        [5.0000, 3.6000, 1.4000, 0.2000],\n",
       "        [5.4000, 3.9000, 1.7000, 0.4000],\n",
       "        [4.6000, 3.4000, 1.4000, 0.3000],\n",
       "        [5.0000, 3.4000, 1.5000, 0.2000],\n",
       "        [4.4000, 2.9000, 1.4000, 0.2000],\n",
       "        [4.9000, 3.1000, 1.5000, 0.1000],\n",
       "        [5.4000, 3.7000, 1.5000, 0.2000],\n",
       "        [4.8000, 3.4000, 1.6000, 0.2000],\n",
       "        [4.8000, 3.0000, 1.4000, 0.1000],\n",
       "        [4.3000, 3.0000, 1.1000, 0.1000],\n",
       "        [5.8000, 4.0000, 1.2000, 0.2000],\n",
       "        [5.7000, 4.4000, 1.5000, 0.4000],\n",
       "        [5.4000, 3.9000, 1.3000, 0.4000],\n",
       "        [5.1000, 3.5000, 1.4000, 0.3000],\n",
       "        [5.7000, 3.8000, 1.7000, 0.3000],\n",
       "        [5.1000, 3.8000, 1.5000, 0.3000],\n",
       "        [5.4000, 3.4000, 1.7000, 0.2000],\n",
       "        [5.1000, 3.7000, 1.5000, 0.4000],\n",
       "        [4.6000, 3.6000, 1.0000, 0.2000],\n",
       "        [5.1000, 3.3000, 1.7000, 0.5000],\n",
       "        [4.8000, 3.4000, 1.9000, 0.2000],\n",
       "        [5.0000, 3.0000, 1.6000, 0.2000],\n",
       "        [5.0000, 3.4000, 1.6000, 0.4000],\n",
       "        [5.2000, 3.5000, 1.5000, 0.2000],\n",
       "        [5.2000, 3.4000, 1.4000, 0.2000],\n",
       "        [4.7000, 3.2000, 1.6000, 0.2000],\n",
       "        [4.8000, 3.1000, 1.6000, 0.2000],\n",
       "        [5.4000, 3.4000, 1.5000, 0.4000],\n",
       "        [5.2000, 4.1000, 1.5000, 0.1000],\n",
       "        [5.5000, 4.2000, 1.4000, 0.2000],\n",
       "        [4.9000, 3.1000, 1.5000, 0.2000],\n",
       "        [5.0000, 3.2000, 1.2000, 0.2000],\n",
       "        [5.5000, 3.5000, 1.3000, 0.2000],\n",
       "        [4.9000, 3.6000, 1.4000, 0.1000],\n",
       "        [4.4000, 3.0000, 1.3000, 0.2000],\n",
       "        [5.1000, 3.4000, 1.5000, 0.2000],\n",
       "        [5.0000, 3.5000, 1.3000, 0.3000],\n",
       "        [4.5000, 2.3000, 1.3000, 0.3000],\n",
       "        [4.4000, 3.2000, 1.3000, 0.2000],\n",
       "        [5.0000, 3.5000, 1.6000, 0.6000],\n",
       "        [5.1000, 3.8000, 1.9000, 0.4000],\n",
       "        [4.8000, 3.0000, 1.4000, 0.3000],\n",
       "        [5.1000, 3.8000, 1.6000, 0.2000],\n",
       "        [4.6000, 3.2000, 1.4000, 0.2000],\n",
       "        [5.3000, 3.7000, 1.5000, 0.2000],\n",
       "        [5.0000, 3.3000, 1.4000, 0.2000],\n",
       "        [7.0000, 3.2000, 4.7000, 1.4000],\n",
       "        [6.4000, 3.2000, 4.5000, 1.5000],\n",
       "        [6.9000, 3.1000, 4.9000, 1.5000],\n",
       "        [5.5000, 2.3000, 4.0000, 1.3000],\n",
       "        [6.5000, 2.8000, 4.6000, 1.5000],\n",
       "        [5.7000, 2.8000, 4.5000, 1.3000],\n",
       "        [6.3000, 3.3000, 4.7000, 1.6000],\n",
       "        [4.9000, 2.4000, 3.3000, 1.0000],\n",
       "        [6.6000, 2.9000, 4.6000, 1.3000],\n",
       "        [5.2000, 2.7000, 3.9000, 1.4000],\n",
       "        [5.0000, 2.0000, 3.5000, 1.0000],\n",
       "        [5.9000, 3.0000, 4.2000, 1.5000],\n",
       "        [6.0000, 2.2000, 4.0000, 1.0000],\n",
       "        [6.1000, 2.9000, 4.7000, 1.4000],\n",
       "        [5.6000, 2.9000, 3.6000, 1.3000],\n",
       "        [6.7000, 3.1000, 4.4000, 1.4000],\n",
       "        [5.6000, 3.0000, 4.5000, 1.5000],\n",
       "        [5.8000, 2.7000, 4.1000, 1.0000],\n",
       "        [6.2000, 2.2000, 4.5000, 1.5000],\n",
       "        [5.6000, 2.5000, 3.9000, 1.1000],\n",
       "        [5.9000, 3.2000, 4.8000, 1.8000],\n",
       "        [6.1000, 2.8000, 4.0000, 1.3000],\n",
       "        [6.3000, 2.5000, 4.9000, 1.5000],\n",
       "        [6.1000, 2.8000, 4.7000, 1.2000],\n",
       "        [6.4000, 2.9000, 4.3000, 1.3000],\n",
       "        [6.6000, 3.0000, 4.4000, 1.4000],\n",
       "        [6.8000, 2.8000, 4.8000, 1.4000],\n",
       "        [6.7000, 3.0000, 5.0000, 1.7000],\n",
       "        [6.0000, 2.9000, 4.5000, 1.5000],\n",
       "        [5.7000, 2.6000, 3.5000, 1.0000],\n",
       "        [5.5000, 2.4000, 3.8000, 1.1000],\n",
       "        [5.5000, 2.4000, 3.7000, 1.0000],\n",
       "        [5.8000, 2.7000, 3.9000, 1.2000],\n",
       "        [6.0000, 2.7000, 5.1000, 1.6000],\n",
       "        [5.4000, 3.0000, 4.5000, 1.5000],\n",
       "        [6.0000, 3.4000, 4.5000, 1.6000],\n",
       "        [6.7000, 3.1000, 4.7000, 1.5000],\n",
       "        [6.3000, 2.3000, 4.4000, 1.3000],\n",
       "        [5.6000, 3.0000, 4.1000, 1.3000],\n",
       "        [5.5000, 2.5000, 4.0000, 1.3000],\n",
       "        [5.5000, 2.6000, 4.4000, 1.2000],\n",
       "        [6.1000, 3.0000, 4.6000, 1.4000],\n",
       "        [5.8000, 2.6000, 4.0000, 1.2000],\n",
       "        [5.0000, 2.3000, 3.3000, 1.0000],\n",
       "        [5.6000, 2.7000, 4.2000, 1.3000],\n",
       "        [5.7000, 3.0000, 4.2000, 1.2000],\n",
       "        [5.7000, 2.9000, 4.2000, 1.3000],\n",
       "        [6.2000, 2.9000, 4.3000, 1.3000],\n",
       "        [5.1000, 2.5000, 3.0000, 1.1000],\n",
       "        [5.7000, 2.8000, 4.1000, 1.3000],\n",
       "        [6.3000, 3.3000, 6.0000, 2.5000],\n",
       "        [5.8000, 2.7000, 5.1000, 1.9000],\n",
       "        [7.1000, 3.0000, 5.9000, 2.1000],\n",
       "        [6.3000, 2.9000, 5.6000, 1.8000],\n",
       "        [6.5000, 3.0000, 5.8000, 2.2000],\n",
       "        [7.6000, 3.0000, 6.6000, 2.1000],\n",
       "        [4.9000, 2.5000, 4.5000, 1.7000],\n",
       "        [7.3000, 2.9000, 6.3000, 1.8000],\n",
       "        [6.7000, 2.5000, 5.8000, 1.8000],\n",
       "        [7.2000, 3.6000, 6.1000, 2.5000],\n",
       "        [6.5000, 3.2000, 5.1000, 2.0000],\n",
       "        [6.4000, 2.7000, 5.3000, 1.9000],\n",
       "        [6.8000, 3.0000, 5.5000, 2.1000],\n",
       "        [5.7000, 2.5000, 5.0000, 2.0000],\n",
       "        [5.8000, 2.8000, 5.1000, 2.4000],\n",
       "        [6.4000, 3.2000, 5.3000, 2.3000],\n",
       "        [6.5000, 3.0000, 5.5000, 1.8000],\n",
       "        [7.7000, 3.8000, 6.7000, 2.2000],\n",
       "        [7.7000, 2.6000, 6.9000, 2.3000],\n",
       "        [6.0000, 2.2000, 5.0000, 1.5000],\n",
       "        [6.9000, 3.2000, 5.7000, 2.3000],\n",
       "        [5.6000, 2.8000, 4.9000, 2.0000],\n",
       "        [7.7000, 2.8000, 6.7000, 2.0000],\n",
       "        [6.3000, 2.7000, 4.9000, 1.8000],\n",
       "        [6.7000, 3.3000, 5.7000, 2.1000],\n",
       "        [7.2000, 3.2000, 6.0000, 1.8000],\n",
       "        [6.2000, 2.8000, 4.8000, 1.8000],\n",
       "        [6.1000, 3.0000, 4.9000, 1.8000],\n",
       "        [6.4000, 2.8000, 5.6000, 2.1000],\n",
       "        [7.2000, 3.0000, 5.8000, 1.6000],\n",
       "        [7.4000, 2.8000, 6.1000, 1.9000],\n",
       "        [7.9000, 3.8000, 6.4000, 2.0000],\n",
       "        [6.4000, 2.8000, 5.6000, 2.2000],\n",
       "        [6.3000, 2.8000, 5.1000, 1.5000],\n",
       "        [6.1000, 2.6000, 5.6000, 1.4000],\n",
       "        [7.7000, 3.0000, 6.1000, 2.3000],\n",
       "        [6.3000, 3.4000, 5.6000, 2.4000],\n",
       "        [6.4000, 3.1000, 5.5000, 1.8000],\n",
       "        [6.0000, 3.0000, 4.8000, 1.8000],\n",
       "        [6.9000, 3.1000, 5.4000, 2.1000],\n",
       "        [6.7000, 3.1000, 5.6000, 2.4000],\n",
       "        [6.9000, 3.1000, 5.1000, 2.3000],\n",
       "        [5.8000, 2.7000, 5.1000, 1.9000],\n",
       "        [6.8000, 3.2000, 5.9000, 2.3000],\n",
       "        [6.7000, 3.3000, 5.7000, 2.5000],\n",
       "        [6.7000, 3.0000, 5.2000, 2.3000],\n",
       "        [6.3000, 2.5000, 5.0000, 1.9000],\n",
       "        [6.5000, 3.0000, 5.2000, 2.0000],\n",
       "        [6.2000, 3.4000, 5.4000, 2.3000],\n",
       "        [5.9000, 3.0000, 5.1000, 1.8000]])"
      ]
     },
     "execution_count": 5,
     "metadata": {},
     "output_type": "execute_result"
    }
   ],
   "source": [
    "X"
   ]
  },
  {
   "cell_type": "code",
   "execution_count": 6,
   "metadata": {
    "executionInfo": {
     "elapsed": 205,
     "status": "ok",
     "timestamp": 1691301655986,
     "user": {
      "displayName": "zeeshan ahmad",
      "userId": "09790783261567949831"
     },
     "user_tz": 240
    },
    "id": "Mk6uFn9_iqTo"
   },
   "outputs": [],
   "source": [
    "y = torch.zeros(len(X), dtype = torch.long)\n",
    "y[iris.species == 'setosa'] = 0\n",
    "y[iris.species == 'versicolor'] = 1\n",
    "y[iris.species == 'virginica'] = 2"
   ]
  },
  {
   "cell_type": "code",
   "execution_count": 7,
   "metadata": {
    "colab": {
     "base_uri": "https://localhost:8080/"
    },
    "executionInfo": {
     "elapsed": 2,
     "status": "ok",
     "timestamp": 1691301658555,
     "user": {
      "displayName": "zeeshan ahmad",
      "userId": "09790783261567949831"
     },
     "user_tz": 240
    },
    "id": "lZgMyG5uj9qw",
    "outputId": "4d25feae-c63f-49d1-8ba9-c6e068f605e3"
   },
   "outputs": [
    {
     "data": {
      "text/plain": [
       "torch.Size([150, 4])"
      ]
     },
     "execution_count": 7,
     "metadata": {},
     "output_type": "execute_result"
    }
   ],
   "source": [
    "X.shape"
   ]
  },
  {
   "cell_type": "code",
   "execution_count": 8,
   "metadata": {
    "colab": {
     "base_uri": "https://localhost:8080/"
    },
    "executionInfo": {
     "elapsed": 121,
     "status": "ok",
     "timestamp": 1691301660256,
     "user": {
      "displayName": "zeeshan ahmad",
      "userId": "09790783261567949831"
     },
     "user_tz": 240
    },
    "id": "eI0C-7J-trF5",
    "outputId": "9214dc39-11b3-4a33-a62e-b7d6bff06831"
   },
   "outputs": [
    {
     "data": {
      "text/plain": [
       "tensor([0, 0, 0, 0, 0, 0, 0, 0, 0, 0, 0, 0, 0, 0, 0, 0, 0, 0, 0, 0, 0, 0, 0, 0,\n",
       "        0, 0, 0, 0, 0, 0, 0, 0, 0, 0, 0, 0, 0, 0, 0, 0, 0, 0, 0, 0, 0, 0, 0, 0,\n",
       "        0, 0, 1, 1, 1, 1, 1, 1, 1, 1, 1, 1, 1, 1, 1, 1, 1, 1, 1, 1, 1, 1, 1, 1,\n",
       "        1, 1, 1, 1, 1, 1, 1, 1, 1, 1, 1, 1, 1, 1, 1, 1, 1, 1, 1, 1, 1, 1, 1, 1,\n",
       "        1, 1, 1, 1, 2, 2, 2, 2, 2, 2, 2, 2, 2, 2, 2, 2, 2, 2, 2, 2, 2, 2, 2, 2,\n",
       "        2, 2, 2, 2, 2, 2, 2, 2, 2, 2, 2, 2, 2, 2, 2, 2, 2, 2, 2, 2, 2, 2, 2, 2,\n",
       "        2, 2, 2, 2, 2, 2])"
      ]
     },
     "execution_count": 8,
     "metadata": {},
     "output_type": "execute_result"
    }
   ],
   "source": [
    "y"
   ]
  },
  {
   "cell_type": "markdown",
   "metadata": {
    "id": "8-gHjwDCtrF5"
   },
   "source": [
    "# Creating Neural Network"
   ]
  },
  {
   "cell_type": "code",
   "execution_count": 9,
   "metadata": {
    "id": "xp-J6WhztrF5"
   },
   "outputs": [],
   "source": [
    "# model = nn.Sequential(\n",
    "#           nn.Linear(4,32),\n",
    "#           nn.ReLU(),\n",
    "#           nn.Linear(32,32),\n",
    "#           nn.ReLU(),\n",
    "#           nn.Linear(32,3),\n",
    "#           )"
   ]
  },
  {
   "cell_type": "code",
   "execution_count": 10,
   "metadata": {
    "executionInfo": {
     "elapsed": 6,
     "status": "ok",
     "timestamp": 1691301975769,
     "user": {
      "displayName": "zeeshan ahmad",
      "userId": "09790783261567949831"
     },
     "user_tz": 240
    },
    "id": "COPeQpaAmT8p"
   },
   "outputs": [],
   "source": [
    "class NN_Classifier(nn.Module):\n",
    "  \n",
    "  #defining layers\n",
    "  def __init__(self):\n",
    "    super().__init__()\n",
    "\n",
    "    self.input = nn.Linear(4,32)\n",
    "    self.fc = nn.Linear(32,32)\n",
    "\n",
    "    # Classification OR  output layer\n",
    "\n",
    "    self.output = nn.Linear(32,3)\n",
    "\n",
    "  # Forward pass\n",
    "  def forward(self,x):\n",
    "\n",
    "    # Pass the data through the input layer\n",
    "    x = self.input(x)\n",
    "    x = self.fc(x)\n",
    "\n",
    "    # Apply ReLU activation\n",
    "    x = F.relu(x)\n",
    "\n",
    "    # output layer\n",
    "    x = self.output(x)\n",
    "    X = torch.sigmoid # This is not necessary because we are using cross entropy loss which already contains sigmoid.\n",
    "    return x"
   ]
  },
  {
   "cell_type": "markdown",
   "metadata": {
    "id": "uwguuIqEnrJY"
   },
   "source": [
    "# Create the instance of the model"
   ]
  },
  {
   "cell_type": "code",
   "execution_count": 11,
   "metadata": {
    "executionInfo": {
     "elapsed": 162,
     "status": "ok",
     "timestamp": 1691301987637,
     "user": {
      "displayName": "zeeshan ahmad",
      "userId": "09790783261567949831"
     },
     "user_tz": 240
    },
    "id": "Mv-NFh5mkNOf"
   },
   "outputs": [],
   "source": [
    "model = NN_Classifier()"
   ]
  },
  {
   "cell_type": "markdown",
   "metadata": {
    "id": "kTIhDTcFtrF6"
   },
   "source": [
    "# Training The Model"
   ]
  },
  {
   "cell_type": "code",
   "execution_count": 12,
   "metadata": {
    "colab": {
     "base_uri": "https://localhost:8080/"
    },
    "executionInfo": {
     "elapsed": 5897,
     "status": "ok",
     "timestamp": 1691302109832,
     "user": {
      "displayName": "zeeshan ahmad",
      "userId": "09790783261567949831"
     },
     "user_tz": 240
    },
    "id": "yu81Zk47trF6",
    "outputId": "177b27fb-3f5b-4832-ca7a-4cb91e8861cd"
   },
   "outputs": [
    {
     "name": "stdout",
     "output_type": "stream",
     "text": [
      " epochs : 0  loss :  1.24\n",
      " epochs : 200  loss :  0.43\n",
      " epochs : 400  loss :  0.24\n",
      " epochs : 600  loss :  0.15\n",
      " epochs : 800  loss :  0.12\n",
      " epochs : 1000  loss :  0.10\n",
      " epochs : 1200  loss :  0.09\n",
      " epochs : 1400  loss :  0.08\n",
      " epochs : 1600  loss :  0.08\n",
      " epochs : 1800  loss :  0.08\n",
      " epochs : 2000  loss :  0.07\n",
      " epochs : 2200  loss :  0.07\n",
      " epochs : 2400  loss :  0.07\n",
      " epochs : 2600  loss :  0.07\n",
      " epochs : 2800  loss :  0.07\n",
      " epochs : 3000  loss :  0.07\n",
      " epochs : 3200  loss :  0.07\n",
      " epochs : 3400  loss :  0.07\n"
     ]
    }
   ],
   "source": [
    "learningRate = 0.01\n",
    "lossfunc = nn.CrossEntropyLoss()\n",
    "optimizer = torch.optim.SGD(model.parameters(), lr = learningRate)\n",
    "\n",
    "epochs = 3501\n",
    "losses = torch.zeros(epochs) # setting place holder for for loop.\n",
    "for epoch in range(epochs):\n",
    "\n",
    "    ypred = model(X)\n",
    "    loss = lossfunc(ypred, y)\n",
    "    losses[epoch] = loss.detach()\n",
    "\n",
    "    if (epoch % 200) == 0:\n",
    "\n",
    "        print(f' epochs : {epoch}  loss : {loss : 2.2f}')\n",
    "\n",
    "    # Backpropagation\n",
    "\n",
    "    optimizer.zero_grad()\n",
    "\n",
    "    loss.backward()\n",
    "\n",
    "    optimizer.step()\n",
    "\n",
    "\n",
    "accuracy = 100 * torch.mean((torch.argmax(ypred, axis = 1) == y).float())\n"
   ]
  },
  {
   "cell_type": "code",
   "execution_count": 13,
   "metadata": {
    "colab": {
     "base_uri": "https://localhost:8080/"
    },
    "executionInfo": {
     "elapsed": 149,
     "status": "ok",
     "timestamp": 1691302118374,
     "user": {
      "displayName": "zeeshan ahmad",
      "userId": "09790783261567949831"
     },
     "user_tz": 240
    },
    "id": "GLgLDdjjtrF6",
    "outputId": "35c20afc-009e-436d-e5a2-956b121c7a6e"
   },
   "outputs": [
    {
     "data": {
      "text/plain": [
       "tensor(98.)"
      ]
     },
     "execution_count": 13,
     "metadata": {},
     "output_type": "execute_result"
    }
   ],
   "source": [
    "accuracy"
   ]
  },
  {
   "cell_type": "markdown",
   "metadata": {
    "id": "FwceyOActrF7"
   },
   "source": [
    "# Visualizing Loss Vs Epochs"
   ]
  },
  {
   "cell_type": "code",
   "execution_count": 14,
   "metadata": {
    "colab": {
     "base_uri": "https://localhost:8080/",
     "height": 455
    },
    "executionInfo": {
     "elapsed": 359,
     "status": "ok",
     "timestamp": 1691302139033,
     "user": {
      "displayName": "zeeshan ahmad",
      "userId": "09790783261567949831"
     },
     "user_tz": 240
    },
    "id": "9b6t2zcgtrF7",
    "outputId": "d351cfae-2f02-4fd4-c638-e11e5fd5b3d4"
   },
   "outputs": [
    {
     "data": {
      "image/png": "[encoded data removed]",
      "text/plain": [
       "<Figure size 640x480 with 1 Axes>"
      ]
     },
     "metadata": {},
     "output_type": "display_data"
    }
   ],
   "source": [
    "plt.plot(losses,'m', lw =3)\n",
    "plt.xlabel('Epochs', fontsize = 15)\n",
    "plt.ylabel('Loss', fontsize = 15)\n",
    "plt.show()"
   ]
  },
  {
   "cell_type": "markdown",
   "metadata": {
    "id": "tl5S5NhTtrF7"
   },
   "source": [
    "# Understanding Calculation of Accuracy"
   ]
  },
  {
   "cell_type": "code",
   "execution_count": 15,
   "metadata": {
    "id": "UrKEDgHAJhSq"
   },
   "outputs": [],
   "source": [
    "accuracy = 100 * torch.mean((torch.argmax(ypred, axis = 1) == y).float())"
   ]
  },
  {
   "cell_type": "code",
   "execution_count": 16,
   "metadata": {
    "colab": {
     "base_uri": "https://localhost:8080/"
    },
    "executionInfo": {
     "elapsed": 148,
     "status": "ok",
     "timestamp": 1691302172217,
     "user": {
      "displayName": "zeeshan ahmad",
      "userId": "09790783261567949831"
     },
     "user_tz": 240
    },
    "id": "Q5bo-GhTtrF7",
    "outputId": "f19f143f-6d19-4aff-bda6-cf821368dc6a"
   },
   "outputs": [
    {
     "data": {
      "text/plain": [
       "tensor([[ 1.2353e+01,  4.8507e+00, -2.1677e+01],\n",
       "        [ 1.1114e+01,  4.5019e+00, -1.9728e+01],\n",
       "        [ 1.1359e+01,  4.4894e+00, -1.9981e+01],\n",
       "        [ 1.0459e+01,  4.3285e+00, -1.8734e+01],\n",
       "        [ 1.2334e+01,  4.8332e+00, -2.1631e+01],\n",
       "        [ 1.2408e+01,  4.9894e+00, -2.1990e+01],\n",
       "        [ 1.1088e+01,  4.4001e+00, -1.9555e+01],\n",
       "        [ 1.1807e+01,  4.6818e+00, -2.0826e+01],\n",
       "        [ 9.9892e+00,  4.1483e+00, -1.7904e+01],\n",
       "        [ 1.1296e+01,  4.5596e+00, -2.0056e+01],\n",
       "        [ 1.3007e+01,  5.0961e+00, -2.2813e+01],\n",
       "        [ 1.1145e+01,  4.5365e+00, -1.9860e+01],\n",
       "        [ 1.1214e+01,  4.4760e+00, -1.9824e+01],\n",
       "        [ 1.0928e+01,  4.3038e+00, -1.9179e+01],\n",
       "        [ 1.4796e+01,  5.6770e+00, -2.5702e+01],\n",
       "        [ 1.4259e+01,  5.4982e+00, -2.4845e+01],\n",
       "        [ 1.3322e+01,  5.1599e+00, -2.3236e+01],\n",
       "        [ 1.2150e+01,  4.7788e+00, -2.1335e+01],\n",
       "        [ 1.3029e+01,  5.1927e+00, -2.3016e+01],\n",
       "        [ 1.2426e+01,  4.8731e+00, -2.1818e+01],\n",
       "        [ 1.1911e+01,  4.9218e+00, -2.1320e+01],\n",
       "        [ 1.2055e+01,  4.7587e+00, -2.1210e+01],\n",
       "        [ 1.2419e+01,  4.7839e+00, -2.1597e+01],\n",
       "        [ 1.0183e+01,  4.5761e+00, -1.8817e+01],\n",
       "        [ 1.0139e+01,  4.5142e+00, -1.8715e+01],\n",
       "        [ 1.0646e+01,  4.5558e+00, -1.9286e+01],\n",
       "        [ 1.0927e+01,  4.5957e+00, -1.9660e+01],\n",
       "        [ 1.2328e+01,  4.8640e+00, -2.1692e+01],\n",
       "        [ 1.2371e+01,  4.8684e+00, -2.1725e+01],\n",
       "        [ 1.0532e+01,  4.4158e+00, -1.8962e+01],\n",
       "        [ 1.0498e+01,  4.4533e+00, -1.8971e+01],\n",
       "        [ 1.1979e+01,  4.8619e+00, -2.1256e+01],\n",
       "        [ 1.3494e+01,  5.2315e+00, -2.3576e+01],\n",
       "        [ 1.4186e+01,  5.4645e+00, -2.4703e+01],\n",
       "        [ 1.1005e+01,  4.5240e+00, -1.9651e+01],\n",
       "        [ 1.2092e+01,  4.7453e+00, -2.1194e+01],\n",
       "        [ 1.3263e+01,  5.1741e+00, -2.3198e+01],\n",
       "        [ 1.2358e+01,  4.8384e+00, -2.1669e+01],\n",
       "        [ 1.0496e+01,  4.1939e+00, -1.8552e+01],\n",
       "        [ 1.1988e+01,  4.7479e+00, -2.1131e+01],\n",
       "        [ 1.2172e+01,  4.7662e+00, -2.1325e+01],\n",
       "        [ 8.9008e+00,  4.0171e+00, -1.6407e+01],\n",
       "        [ 1.0820e+01,  4.2890e+00, -1.9070e+01],\n",
       "        [ 1.0545e+01,  4.5497e+00, -1.9133e+01],\n",
       "        [ 1.0988e+01,  4.7536e+00, -2.0023e+01],\n",
       "        [ 1.0641e+01,  4.4012e+00, -1.9017e+01],\n",
       "        [ 1.2425e+01,  4.8914e+00, -2.1871e+01],\n",
       "        [ 1.0972e+01,  4.3716e+00, -1.9385e+01],\n",
       "        [ 1.2828e+01,  5.0293e+00, -2.2509e+01],\n",
       "        [ 1.1853e+01,  4.6854e+00, -2.0859e+01],\n",
       "        [-4.0034e+00,  4.2446e+00, -5.0117e+00],\n",
       "        [-4.8124e+00,  3.6968e+00, -3.3815e+00],\n",
       "        [-5.9464e+00,  3.6972e+00, -2.5033e+00],\n",
       "        [-5.9481e+00,  2.6240e+00, -4.9924e-01],\n",
       "        [-6.1961e+00,  3.2538e+00, -1.5064e+00],\n",
       "        [-6.5737e+00,  2.7430e+00, -3.4858e-01],\n",
       "        [-6.2001e+00,  3.2017e+00, -1.5443e+00],\n",
       "        [-2.1878e+00,  3.2396e+00, -4.5272e+00],\n",
       "        [-4.7788e+00,  3.9087e+00, -3.6566e+00],\n",
       "        [-5.4678e+00,  2.6099e+00, -9.3786e-01],\n",
       "        [-4.0638e+00,  2.9317e+00, -2.3240e+00],\n",
       "        [-5.0061e+00,  3.2466e+00, -2.4271e+00],\n",
       "        [-3.7410e+00,  3.6976e+00, -3.9421e+00],\n",
       "        [-6.8458e+00,  2.8983e+00, -4.4023e-01],\n",
       "        [-2.0886e+00,  3.6151e+00, -5.4485e+00],\n",
       "        [-3.4755e+00,  4.1080e+00, -5.1944e+00],\n",
       "        [-7.1548e+00,  2.4236e+00,  5.4857e-01],\n",
       "        [-3.2852e+00,  3.6990e+00, -4.4946e+00],\n",
       "        [-8.0444e+00,  2.3240e+00,  1.5637e+00],\n",
       "        [-3.7599e+00,  3.4543e+00, -3.5918e+00],\n",
       "        [-8.7798e+00,  2.0059e+00,  2.3758e+00],\n",
       "        [-3.2217e+00,  3.7734e+00, -4.7239e+00],\n",
       "        [-8.9574e+00,  2.2273e+00,  2.3354e+00],\n",
       "        [-6.2094e+00,  3.1967e+00, -1.3670e+00],\n",
       "        [-3.7496e+00,  3.9100e+00, -4.5412e+00],\n",
       "        [-3.9753e+00,  3.9748e+00, -4.4960e+00],\n",
       "        [-6.0549e+00,  3.5749e+00, -2.1367e+00],\n",
       "        [-8.0797e+00,  2.7672e+00,  6.4017e-01],\n",
       "        [-6.5406e+00,  2.8430e+00, -5.8654e-01],\n",
       "        [-8.3545e-01,  3.9076e+00, -6.9325e+00],\n",
       "        [-3.7696e+00,  3.3772e+00, -3.4165e+00],\n",
       "        [-2.8198e+00,  3.5306e+00, -4.4984e+00],\n",
       "        [-3.2167e+00,  3.6224e+00, -4.4237e+00],\n",
       "        [-1.0513e+01,  1.5646e+00,  4.5438e+00],\n",
       "        [-7.6013e+00,  2.1578e+00,  1.3252e+00],\n",
       "        [-5.6051e+00,  3.1981e+00, -2.0046e+00],\n",
       "        [-5.4068e+00,  3.7144e+00, -2.9338e+00],\n",
       "        [-6.1344e+00,  3.1212e+00, -1.1914e+00],\n",
       "        [-4.2676e+00,  3.3572e+00, -3.1694e+00],\n",
       "        [-5.3908e+00,  2.8482e+00, -1.3355e+00],\n",
       "        [-6.6267e+00,  2.5999e+00, -1.1838e-02],\n",
       "        [-6.0742e+00,  3.1519e+00, -1.4619e+00],\n",
       "        [-3.9867e+00,  3.5194e+00, -3.5488e+00],\n",
       "        [-2.2449e+00,  3.2783e+00, -4.5170e+00],\n",
       "        [-5.5964e+00,  2.9224e+00, -1.3529e+00],\n",
       "        [-4.0779e+00,  3.5039e+00, -3.5700e+00],\n",
       "        [-4.8160e+00,  3.2795e+00, -2.5775e+00],\n",
       "        [-4.1939e+00,  3.7368e+00, -3.8539e+00],\n",
       "        [-4.5061e-01,  3.5282e+00, -6.5701e+00],\n",
       "        [-4.6016e+00,  3.3089e+00, -2.7629e+00],\n",
       "        [-1.6728e+01, -4.8570e-01,  1.2355e+01],\n",
       "        [-1.2333e+01,  6.8272e-01,  7.3380e+00],\n",
       "        [-1.3454e+01,  1.2040e+00,  7.2094e+00],\n",
       "        [-1.2667e+01,  1.0694e+00,  6.9056e+00],\n",
       "        [-1.4758e+01,  3.4281e-01,  9.6082e+00],\n",
       "        [-1.5774e+01,  8.7633e-01,  9.4758e+00],\n",
       "        [-1.1026e+01,  5.2216e-01,  6.7024e+00],\n",
       "        [-1.3886e+01,  1.4079e+00,  7.2476e+00],\n",
       "        [-1.3853e+01,  8.6709e-01,  8.2087e+00],\n",
       "        [-1.4376e+01,  9.0506e-01,  8.2097e+00],\n",
       "        [-9.8347e+00,  1.9680e+00,  3.2018e+00],\n",
       "        [-1.1979e+01,  1.1971e+00,  6.2153e+00],\n",
       "        [-1.2152e+01,  1.3712e+00,  5.9600e+00],\n",
       "        [-1.3071e+01,  2.6133e-01,  8.6226e+00],\n",
       "        [-1.4338e+01, -2.3257e-01,  1.0278e+01],\n",
       "        [-1.2417e+01,  9.3609e-01,  6.8149e+00],\n",
       "        [-1.1449e+01,  1.5887e+00,  5.1073e+00],\n",
       "        [-1.4288e+01,  1.5610e+00,  7.0357e+00],\n",
       "        [-1.8942e+01, -2.7169e-01,  1.3767e+01],\n",
       "        [-1.0956e+01,  1.3509e+00,  5.3583e+00],\n",
       "        [-1.3273e+01,  1.0346e+00,  7.2877e+00],\n",
       "        [-1.1972e+01,  6.0662e-01,  7.1619e+00],\n",
       "        [-1.6123e+01,  8.4658e-01,  9.8325e+00],\n",
       "        [-9.7730e+00,  1.8354e+00,  3.5168e+00],\n",
       "        [-1.2525e+01,  1.2917e+00,  6.3011e+00],\n",
       "        [-1.1794e+01,  2.0357e+00,  4.5707e+00],\n",
       "        [-9.2246e+00,  1.9561e+00,  2.8834e+00],\n",
       "        [-9.3836e+00,  1.9060e+00,  3.0390e+00],\n",
       "        [-1.4094e+01,  4.7385e-01,  8.9514e+00],\n",
       "        [-1.0450e+01,  2.5052e+00,  2.8547e+00],\n",
       "        [-1.3413e+01,  1.5062e+00,  6.7428e+00],\n",
       "        [-1.1447e+01,  2.6619e+00,  3.1032e+00],\n",
       "        [-1.4544e+01,  2.6764e-01,  9.6160e+00],\n",
       "        [-9.1076e+00,  2.2807e+00,  2.2882e+00],\n",
       "        [-1.2119e+01,  1.2888e+00,  6.2464e+00],\n",
       "        [-1.4016e+01,  1.3076e+00,  7.4318e+00],\n",
       "        [-1.4019e+01,  3.9764e-01,  8.8502e+00],\n",
       "        [-1.1393e+01,  1.5679e+00,  5.0774e+00],\n",
       "        [-9.1138e+00,  1.9146e+00,  2.8237e+00],\n",
       "        [-1.1157e+01,  1.7577e+00,  4.5499e+00],\n",
       "        [-1.3962e+01,  5.9285e-01,  8.5514e+00],\n",
       "        [-1.0593e+01,  1.7713e+00,  4.0843e+00],\n",
       "        [-1.2333e+01,  6.8272e-01,  7.3380e+00],\n",
       "        [-1.4482e+01,  6.1881e-01,  8.8831e+00],\n",
       "        [-1.4356e+01,  4.7022e-01,  8.9912e+00],\n",
       "        [-1.1811e+01,  1.2520e+00,  5.8826e+00],\n",
       "        [-1.1281e+01,  1.2644e+00,  5.6291e+00],\n",
       "        [-1.0885e+01,  1.6024e+00,  4.6416e+00],\n",
       "        [-1.2799e+01,  7.5307e-01,  7.3588e+00],\n",
       "        [-1.0816e+01,  1.3573e+00,  5.0228e+00]], grad_fn=<AddmmBackward0>)"
      ]
     },
     "execution_count": 16,
     "metadata": {},
     "output_type": "execute_result"
    }
   ],
   "source": [
    "ypred  # Score of model Corresponding to the probability"
   ]
  },
  {
   "cell_type": "code",
   "execution_count": 17,
   "metadata": {
    "colab": {
     "base_uri": "https://localhost:8080/"
    },
    "executionInfo": {
     "elapsed": 155,
     "status": "ok",
     "timestamp": 1691302174893,
     "user": {
      "displayName": "zeeshan ahmad",
      "userId": "09790783261567949831"
     },
     "user_tz": 240
    },
    "id": "IDgpoflptrF8",
    "outputId": "c695b191-f1e4-4230-ae16-dc2b2b97720b"
   },
   "outputs": [
    {
     "data": {
      "text/plain": [
       "tensor([0, 0, 0, 0, 0, 0, 0, 0, 0, 0, 0, 0, 0, 0, 0, 0, 0, 0, 0, 0, 0, 0, 0, 0,\n",
       "        0, 0, 0, 0, 0, 0, 0, 0, 0, 0, 0, 0, 0, 0, 0, 0, 0, 0, 0, 0, 0, 0, 0, 0,\n",
       "        0, 0, 1, 1, 1, 1, 1, 1, 1, 1, 1, 1, 1, 1, 1, 1, 1, 1, 1, 1, 1, 1, 2, 1,\n",
       "        2, 1, 1, 1, 1, 1, 1, 1, 1, 1, 1, 2, 1, 1, 1, 1, 1, 1, 1, 1, 1, 1, 1, 1,\n",
       "        1, 1, 1, 1, 2, 2, 2, 2, 2, 2, 2, 2, 2, 2, 2, 2, 2, 2, 2, 2, 2, 2, 2, 2,\n",
       "        2, 2, 2, 2, 2, 2, 2, 2, 2, 2, 2, 2, 2, 2, 2, 2, 2, 2, 2, 2, 2, 2, 2, 2,\n",
       "        2, 2, 2, 2, 2, 2])"
      ]
     },
     "execution_count": 17,
     "metadata": {},
     "output_type": "execute_result"
    }
   ],
   "source": [
    "torch.argmax(ypred, axis =1)"
   ]
  },
  {
   "cell_type": "code",
   "execution_count": 18,
   "metadata": {
    "colab": {
     "base_uri": "https://localhost:8080/"
    },
    "executionInfo": {
     "elapsed": 149,
     "status": "ok",
     "timestamp": 1691302176911,
     "user": {
      "displayName": "zeeshan ahmad",
      "userId": "09790783261567949831"
     },
     "user_tz": 240
    },
    "id": "hVe6-GcutrF8",
    "outputId": "0e23789b-ca18-4160-d0e4-3577d7078dc7"
   },
   "outputs": [
    {
     "data": {
      "text/plain": [
       "tensor([ True,  True,  True,  True,  True,  True,  True,  True,  True,  True,\n",
       "         True,  True,  True,  True,  True,  True,  True,  True,  True,  True,\n",
       "         True,  True,  True,  True,  True,  True,  True,  True,  True,  True,\n",
       "         True,  True,  True,  True,  True,  True,  True,  True,  True,  True,\n",
       "         True,  True,  True,  True,  True,  True,  True,  True,  True,  True,\n",
       "         True,  True,  True,  True,  True,  True,  True,  True,  True,  True,\n",
       "         True,  True,  True,  True,  True,  True,  True,  True,  True,  True,\n",
       "        False,  True, False,  True,  True,  True,  True,  True,  True,  True,\n",
       "         True,  True,  True, False,  True,  True,  True,  True,  True,  True,\n",
       "         True,  True,  True,  True,  True,  True,  True,  True,  True,  True,\n",
       "         True,  True,  True,  True,  True,  True,  True,  True,  True,  True,\n",
       "         True,  True,  True,  True,  True,  True,  True,  True,  True,  True,\n",
       "         True,  True,  True,  True,  True,  True,  True,  True,  True,  True,\n",
       "         True,  True,  True,  True,  True,  True,  True,  True,  True,  True,\n",
       "         True,  True,  True,  True,  True,  True,  True,  True,  True,  True])"
      ]
     },
     "execution_count": 18,
     "metadata": {},
     "output_type": "execute_result"
    }
   ],
   "source": [
    "(torch.argmax(ypred, axis =1)==y)"
   ]
  },
  {
   "cell_type": "code",
   "execution_count": 19,
   "metadata": {
    "colab": {
     "base_uri": "https://localhost:8080/"
    },
    "executionInfo": {
     "elapsed": 123,
     "status": "ok",
     "timestamp": 1691302179125,
     "user": {
      "displayName": "zeeshan ahmad",
      "userId": "09790783261567949831"
     },
     "user_tz": 240
    },
    "id": "8dm27MfQtrF8",
    "outputId": "c7c63108-0a36-4f60-c61c-cb85d5aeedc8"
   },
   "outputs": [
    {
     "data": {
      "text/plain": [
       "tensor([1., 1., 1., 1., 1., 1., 1., 1., 1., 1., 1., 1., 1., 1., 1., 1., 1., 1.,\n",
       "        1., 1., 1., 1., 1., 1., 1., 1., 1., 1., 1., 1., 1., 1., 1., 1., 1., 1.,\n",
       "        1., 1., 1., 1., 1., 1., 1., 1., 1., 1., 1., 1., 1., 1., 1., 1., 1., 1.,\n",
       "        1., 1., 1., 1., 1., 1., 1., 1., 1., 1., 1., 1., 1., 1., 1., 1., 0., 1.,\n",
       "        0., 1., 1., 1., 1., 1., 1., 1., 1., 1., 1., 0., 1., 1., 1., 1., 1., 1.,\n",
       "        1., 1., 1., 1., 1., 1., 1., 1., 1., 1., 1., 1., 1., 1., 1., 1., 1., 1.,\n",
       "        1., 1., 1., 1., 1., 1., 1., 1., 1., 1., 1., 1., 1., 1., 1., 1., 1., 1.,\n",
       "        1., 1., 1., 1., 1., 1., 1., 1., 1., 1., 1., 1., 1., 1., 1., 1., 1., 1.,\n",
       "        1., 1., 1., 1., 1., 1.])"
      ]
     },
     "execution_count": 19,
     "metadata": {},
     "output_type": "execute_result"
    }
   ],
   "source": [
    "(torch.argmax(ypred, axis =1)==y).float()"
   ]
  },
  {
   "cell_type": "code",
   "execution_count": 20,
   "metadata": {
    "colab": {
     "base_uri": "https://localhost:8080/"
    },
    "executionInfo": {
     "elapsed": 249,
     "status": "ok",
     "timestamp": 1691302181141,
     "user": {
      "displayName": "zeeshan ahmad",
      "userId": "09790783261567949831"
     },
     "user_tz": 240
    },
    "id": "PKY_lTuetrF8",
    "outputId": "aad75c40-b2af-4f79-d923-8edd3c38a715"
   },
   "outputs": [
    {
     "data": {
      "text/plain": [
       "tensor(0.9800)"
      ]
     },
     "execution_count": 20,
     "metadata": {},
     "output_type": "execute_result"
    }
   ],
   "source": [
    "torch.mean((torch.argmax(ypred, axis =1)==y).float())"
   ]
  },
  {
   "cell_type": "code",
   "execution_count": 21,
   "metadata": {
    "colab": {
     "base_uri": "https://localhost:8080/"
    },
    "executionInfo": {
     "elapsed": 146,
     "status": "ok",
     "timestamp": 1691302182488,
     "user": {
      "displayName": "zeeshan ahmad",
      "userId": "09790783261567949831"
     },
     "user_tz": 240
    },
    "id": "zKXORZ5TtrF8",
    "outputId": "b391a6fc-b729-4d7c-e23a-2026019febe6"
   },
   "outputs": [
    {
     "data": {
      "text/plain": [
       "tensor(98.)"
      ]
     },
     "execution_count": 21,
     "metadata": {},
     "output_type": "execute_result"
    }
   ],
   "source": [
    "100 * torch.mean((torch.argmax(ypred, axis =1)==y).float())"
   ]
  }
 ],
 "metadata": {
  "colab": {
   "provenance": []
  },
  "kernelspec": {
   "display_name": "torch_env",
   "language": "python",
   "name": "python3"
  },
  "language_info": {
   "codemirror_mode": {
    "name": "ipython",
    "version": 3
   },
   "file_extension": ".py",
   "mimetype": "text/x-python",
   "name": "python",
   "nbconvert_exporter": "python",
   "pygments_lexer": "ipython3",
   "version": "3.10.14"
  }
 },
 "nbformat": 4,
 "nbformat_minor": 0
}
