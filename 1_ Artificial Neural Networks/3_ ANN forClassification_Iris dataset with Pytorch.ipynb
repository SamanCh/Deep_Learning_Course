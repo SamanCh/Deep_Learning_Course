{
 "cells": [
  {
   "cell_type": "code",
   "execution_count": 11,
   "metadata": {
    "executionInfo": {
     "elapsed": 153,
     "status": "ok",
     "timestamp": 1691301571929,
     "user": {
      "displayName": "zeeshan ahmad",
      "userId": "09790783261567949831"
     },
     "user_tz": 240
    },
    "id": "YeuAheYyhdZw"
   },
   "outputs": [],
   "source": [
    "import torch\n",
    "import torch.nn as nn\n",
    "import torch.nn.functional as F\n",
    "import matplotlib.pyplot as plt\n",
    "from matplotlib import style\n",
    "style.use('dark_background')\n",
    "from IPython import display\n",
    "import seaborn as sns\n",
    "import pandas as pd"
   ]
  },
  {
   "cell_type": "markdown",
   "metadata": {
    "id": "cOzUfXEeiMog"
   },
   "source": [
    "# Load Dataset"
   ]
  },
  {
   "cell_type": "code",
   "execution_count": 12,
   "metadata": {
    "colab": {
     "base_uri": "https://localhost:8080/",
     "height": 363
    },
    "executionInfo": {
     "elapsed": 147,
     "status": "ok",
     "timestamp": 1691301585174,
     "user": {
      "displayName": "zeeshan ahmad",
      "userId": "09790783261567949831"
     },
     "user_tz": 240
    },
    "id": "uoYNqbdItrF1",
    "outputId": "1917afa9-0111-4c81-928a-e7522630d842"
   },
   "outputs": [
    {
     "data": {
      "text/html": [
       "<div>\n",
       "<style scoped>\n",
       "    .dataframe tbody tr th:only-of-type {\n",
       "        vertical-align: middle;\n",
       "    }\n",
       "\n",
       "    .dataframe tbody tr th {\n",
       "        vertical-align: top;\n",
       "    }\n",
       "\n",
       "    .dataframe thead th {\n",
       "        text-align: right;\n",
       "    }\n",
       "</style>\n",
       "<table border=\"1\" class=\"dataframe\">\n",
       "  <thead>\n",
       "    <tr style=\"text-align: right;\">\n",
       "      <th></th>\n",
       "      <th>sepal_length</th>\n",
       "      <th>sepal_width</th>\n",
       "      <th>petal_length</th>\n",
       "      <th>petal_width</th>\n",
       "      <th>species</th>\n",
       "    </tr>\n",
       "  </thead>\n",
       "  <tbody>\n",
       "    <tr>\n",
       "      <th>0</th>\n",
       "      <td>5.1</td>\n",
       "      <td>3.5</td>\n",
       "      <td>1.4</td>\n",
       "      <td>0.2</td>\n",
       "      <td>setosa</td>\n",
       "    </tr>\n",
       "    <tr>\n",
       "      <th>1</th>\n",
       "      <td>4.9</td>\n",
       "      <td>3.0</td>\n",
       "      <td>1.4</td>\n",
       "      <td>0.2</td>\n",
       "      <td>setosa</td>\n",
       "    </tr>\n",
       "    <tr>\n",
       "      <th>2</th>\n",
       "      <td>4.7</td>\n",
       "      <td>3.2</td>\n",
       "      <td>1.3</td>\n",
       "      <td>0.2</td>\n",
       "      <td>setosa</td>\n",
       "    </tr>\n",
       "    <tr>\n",
       "      <th>3</th>\n",
       "      <td>4.6</td>\n",
       "      <td>3.1</td>\n",
       "      <td>1.5</td>\n",
       "      <td>0.2</td>\n",
       "      <td>setosa</td>\n",
       "    </tr>\n",
       "    <tr>\n",
       "      <th>4</th>\n",
       "      <td>5.0</td>\n",
       "      <td>3.6</td>\n",
       "      <td>1.4</td>\n",
       "      <td>0.2</td>\n",
       "      <td>setosa</td>\n",
       "    </tr>\n",
       "    <tr>\n",
       "      <th>5</th>\n",
       "      <td>5.4</td>\n",
       "      <td>3.9</td>\n",
       "      <td>1.7</td>\n",
       "      <td>0.4</td>\n",
       "      <td>setosa</td>\n",
       "    </tr>\n",
       "    <tr>\n",
       "      <th>6</th>\n",
       "      <td>4.6</td>\n",
       "      <td>3.4</td>\n",
       "      <td>1.4</td>\n",
       "      <td>0.3</td>\n",
       "      <td>setosa</td>\n",
       "    </tr>\n",
       "    <tr>\n",
       "      <th>7</th>\n",
       "      <td>5.0</td>\n",
       "      <td>3.4</td>\n",
       "      <td>1.5</td>\n",
       "      <td>0.2</td>\n",
       "      <td>setosa</td>\n",
       "    </tr>\n",
       "    <tr>\n",
       "      <th>8</th>\n",
       "      <td>4.4</td>\n",
       "      <td>2.9</td>\n",
       "      <td>1.4</td>\n",
       "      <td>0.2</td>\n",
       "      <td>setosa</td>\n",
       "    </tr>\n",
       "    <tr>\n",
       "      <th>9</th>\n",
       "      <td>4.9</td>\n",
       "      <td>3.1</td>\n",
       "      <td>1.5</td>\n",
       "      <td>0.1</td>\n",
       "      <td>setosa</td>\n",
       "    </tr>\n",
       "  </tbody>\n",
       "</table>\n",
       "</div>"
      ],
      "text/plain": [
       "   sepal_length  sepal_width  petal_length  petal_width species\n",
       "0           5.1          3.5           1.4          0.2  setosa\n",
       "1           4.9          3.0           1.4          0.2  setosa\n",
       "2           4.7          3.2           1.3          0.2  setosa\n",
       "3           4.6          3.1           1.5          0.2  setosa\n",
       "4           5.0          3.6           1.4          0.2  setosa\n",
       "5           5.4          3.9           1.7          0.4  setosa\n",
       "6           4.6          3.4           1.4          0.3  setosa\n",
       "7           5.0          3.4           1.5          0.2  setosa\n",
       "8           4.4          2.9           1.4          0.2  setosa\n",
       "9           4.9          3.1           1.5          0.1  setosa"
      ]
     },
     "execution_count": 12,
     "metadata": {},
     "output_type": "execute_result"
    }
   ],
   "source": [
    "iris = sns.load_dataset('iris')\n",
    "iris.head(10)"
   ]
  },
  {
   "cell_type": "code",
   "execution_count": 13,
   "metadata": {
    "colab": {
     "base_uri": "https://localhost:8080/"
    },
    "executionInfo": {
     "elapsed": 126,
     "status": "ok",
     "timestamp": 1691301601162,
     "user": {
      "displayName": "zeeshan ahmad",
      "userId": "09790783261567949831"
     },
     "user_tz": 240
    },
    "id": "3Hv0aL24trF2",
    "outputId": "d902c70a-b3a3-4162-8db9-607044816a0c"
   },
   "outputs": [
    {
     "data": {
      "text/plain": [
       "array(['setosa', 'versicolor', 'virginica'], dtype=object)"
      ]
     },
     "execution_count": 13,
     "metadata": {},
     "output_type": "execute_result"
    }
   ],
   "source": [
    "iris.species.unique()"
   ]
  },
  {
   "cell_type": "markdown",
   "metadata": {
    "id": "Tp8CEubstrF4"
   },
   "source": [
    "# Extracting Features and Labels and Transform them to Tensors"
   ]
  },
  {
   "cell_type": "code",
   "execution_count": 14,
   "metadata": {
    "executionInfo": {
     "elapsed": 2177,
     "status": "ok",
     "timestamp": 1691301643482,
     "user": {
      "displayName": "zeeshan ahmad",
      "userId": "09790783261567949831"
     },
     "user_tz": 240
    },
    "id": "3c8y_91strF4"
   },
   "outputs": [],
   "source": [
    "X = torch.tensor(iris.iloc[:,:-1].values, dtype = torch.float32)"
   ]
  },
  {
   "cell_type": "code",
   "execution_count": 15,
   "metadata": {
    "colab": {
     "base_uri": "https://localhost:8080/"
    },
    "executionInfo": {
     "elapsed": 4,
     "status": "ok",
     "timestamp": 1691301644893,
     "user": {
      "displayName": "zeeshan ahmad",
      "userId": "09790783261567949831"
     },
     "user_tz": 240
    },
    "id": "s9E2EVGnjOiI",
    "outputId": "d41c121a-d1b9-490a-9560-536ae3754604"
   },
   "outputs": [
    {
     "data": {
      "text/plain": [
       "tensor([[5.1000, 3.5000, 1.4000, 0.2000],\n",
       "        [4.9000, 3.0000, 1.4000, 0.2000],\n",
       "        [4.7000, 3.2000, 1.3000, 0.2000],\n",
       "        [4.6000, 3.1000, 1.5000, 0.2000],\n",
       "        [5.0000, 3.6000, 1.4000, 0.2000],\n",
       "        [5.4000, 3.9000, 1.7000, 0.4000],\n",
       "        [4.6000, 3.4000, 1.4000, 0.3000],\n",
       "        [5.0000, 3.4000, 1.5000, 0.2000],\n",
       "        [4.4000, 2.9000, 1.4000, 0.2000],\n",
       "        [4.9000, 3.1000, 1.5000, 0.1000],\n",
       "        [5.4000, 3.7000, 1.5000, 0.2000],\n",
       "        [4.8000, 3.4000, 1.6000, 0.2000],\n",
       "        [4.8000, 3.0000, 1.4000, 0.1000],\n",
       "        [4.3000, 3.0000, 1.1000, 0.1000],\n",
       "        [5.8000, 4.0000, 1.2000, 0.2000],\n",
       "        [5.7000, 4.4000, 1.5000, 0.4000],\n",
       "        [5.4000, 3.9000, 1.3000, 0.4000],\n",
       "        [5.1000, 3.5000, 1.4000, 0.3000],\n",
       "        [5.7000, 3.8000, 1.7000, 0.3000],\n",
       "        [5.1000, 3.8000, 1.5000, 0.3000],\n",
       "        [5.4000, 3.4000, 1.7000, 0.2000],\n",
       "        [5.1000, 3.7000, 1.5000, 0.4000],\n",
       "        [4.6000, 3.6000, 1.0000, 0.2000],\n",
       "        [5.1000, 3.3000, 1.7000, 0.5000],\n",
       "        [4.8000, 3.4000, 1.9000, 0.2000],\n",
       "        [5.0000, 3.0000, 1.6000, 0.2000],\n",
       "        [5.0000, 3.4000, 1.6000, 0.4000],\n",
       "        [5.2000, 3.5000, 1.5000, 0.2000],\n",
       "        [5.2000, 3.4000, 1.4000, 0.2000],\n",
       "        [4.7000, 3.2000, 1.6000, 0.2000],\n",
       "        [4.8000, 3.1000, 1.6000, 0.2000],\n",
       "        [5.4000, 3.4000, 1.5000, 0.4000],\n",
       "        [5.2000, 4.1000, 1.5000, 0.1000],\n",
       "        [5.5000, 4.2000, 1.4000, 0.2000],\n",
       "        [4.9000, 3.1000, 1.5000, 0.2000],\n",
       "        [5.0000, 3.2000, 1.2000, 0.2000],\n",
       "        [5.5000, 3.5000, 1.3000, 0.2000],\n",
       "        [4.9000, 3.6000, 1.4000, 0.1000],\n",
       "        [4.4000, 3.0000, 1.3000, 0.2000],\n",
       "        [5.1000, 3.4000, 1.5000, 0.2000],\n",
       "        [5.0000, 3.5000, 1.3000, 0.3000],\n",
       "        [4.5000, 2.3000, 1.3000, 0.3000],\n",
       "        [4.4000, 3.2000, 1.3000, 0.2000],\n",
       "        [5.0000, 3.5000, 1.6000, 0.6000],\n",
       "        [5.1000, 3.8000, 1.9000, 0.4000],\n",
       "        [4.8000, 3.0000, 1.4000, 0.3000],\n",
       "        [5.1000, 3.8000, 1.6000, 0.2000],\n",
       "        [4.6000, 3.2000, 1.4000, 0.2000],\n",
       "        [5.3000, 3.7000, 1.5000, 0.2000],\n",
       "        [5.0000, 3.3000, 1.4000, 0.2000],\n",
       "        [7.0000, 3.2000, 4.7000, 1.4000],\n",
       "        [6.4000, 3.2000, 4.5000, 1.5000],\n",
       "        [6.9000, 3.1000, 4.9000, 1.5000],\n",
       "        [5.5000, 2.3000, 4.0000, 1.3000],\n",
       "        [6.5000, 2.8000, 4.6000, 1.5000],\n",
       "        [5.7000, 2.8000, 4.5000, 1.3000],\n",
       "        [6.3000, 3.3000, 4.7000, 1.6000],\n",
       "        [4.9000, 2.4000, 3.3000, 1.0000],\n",
       "        [6.6000, 2.9000, 4.6000, 1.3000],\n",
       "        [5.2000, 2.7000, 3.9000, 1.4000],\n",
       "        [5.0000, 2.0000, 3.5000, 1.0000],\n",
       "        [5.9000, 3.0000, 4.2000, 1.5000],\n",
       "        [6.0000, 2.2000, 4.0000, 1.0000],\n",
       "        [6.1000, 2.9000, 4.7000, 1.4000],\n",
       "        [5.6000, 2.9000, 3.6000, 1.3000],\n",
       "        [6.7000, 3.1000, 4.4000, 1.4000],\n",
       "        [5.6000, 3.0000, 4.5000, 1.5000],\n",
       "        [5.8000, 2.7000, 4.1000, 1.0000],\n",
       "        [6.2000, 2.2000, 4.5000, 1.5000],\n",
       "        [5.6000, 2.5000, 3.9000, 1.1000],\n",
       "        [5.9000, 3.2000, 4.8000, 1.8000],\n",
       "        [6.1000, 2.8000, 4.0000, 1.3000],\n",
       "        [6.3000, 2.5000, 4.9000, 1.5000],\n",
       "        [6.1000, 2.8000, 4.7000, 1.2000],\n",
       "        [6.4000, 2.9000, 4.3000, 1.3000],\n",
       "        [6.6000, 3.0000, 4.4000, 1.4000],\n",
       "        [6.8000, 2.8000, 4.8000, 1.4000],\n",
       "        [6.7000, 3.0000, 5.0000, 1.7000],\n",
       "        [6.0000, 2.9000, 4.5000, 1.5000],\n",
       "        [5.7000, 2.6000, 3.5000, 1.0000],\n",
       "        [5.5000, 2.4000, 3.8000, 1.1000],\n",
       "        [5.5000, 2.4000, 3.7000, 1.0000],\n",
       "        [5.8000, 2.7000, 3.9000, 1.2000],\n",
       "        [6.0000, 2.7000, 5.1000, 1.6000],\n",
       "        [5.4000, 3.0000, 4.5000, 1.5000],\n",
       "        [6.0000, 3.4000, 4.5000, 1.6000],\n",
       "        [6.7000, 3.1000, 4.7000, 1.5000],\n",
       "        [6.3000, 2.3000, 4.4000, 1.3000],\n",
       "        [5.6000, 3.0000, 4.1000, 1.3000],\n",
       "        [5.5000, 2.5000, 4.0000, 1.3000],\n",
       "        [5.5000, 2.6000, 4.4000, 1.2000],\n",
       "        [6.1000, 3.0000, 4.6000, 1.4000],\n",
       "        [5.8000, 2.6000, 4.0000, 1.2000],\n",
       "        [5.0000, 2.3000, 3.3000, 1.0000],\n",
       "        [5.6000, 2.7000, 4.2000, 1.3000],\n",
       "        [5.7000, 3.0000, 4.2000, 1.2000],\n",
       "        [5.7000, 2.9000, 4.2000, 1.3000],\n",
       "        [6.2000, 2.9000, 4.3000, 1.3000],\n",
       "        [5.1000, 2.5000, 3.0000, 1.1000],\n",
       "        [5.7000, 2.8000, 4.1000, 1.3000],\n",
       "        [6.3000, 3.3000, 6.0000, 2.5000],\n",
       "        [5.8000, 2.7000, 5.1000, 1.9000],\n",
       "        [7.1000, 3.0000, 5.9000, 2.1000],\n",
       "        [6.3000, 2.9000, 5.6000, 1.8000],\n",
       "        [6.5000, 3.0000, 5.8000, 2.2000],\n",
       "        [7.6000, 3.0000, 6.6000, 2.1000],\n",
       "        [4.9000, 2.5000, 4.5000, 1.7000],\n",
       "        [7.3000, 2.9000, 6.3000, 1.8000],\n",
       "        [6.7000, 2.5000, 5.8000, 1.8000],\n",
       "        [7.2000, 3.6000, 6.1000, 2.5000],\n",
       "        [6.5000, 3.2000, 5.1000, 2.0000],\n",
       "        [6.4000, 2.7000, 5.3000, 1.9000],\n",
       "        [6.8000, 3.0000, 5.5000, 2.1000],\n",
       "        [5.7000, 2.5000, 5.0000, 2.0000],\n",
       "        [5.8000, 2.8000, 5.1000, 2.4000],\n",
       "        [6.4000, 3.2000, 5.3000, 2.3000],\n",
       "        [6.5000, 3.0000, 5.5000, 1.8000],\n",
       "        [7.7000, 3.8000, 6.7000, 2.2000],\n",
       "        [7.7000, 2.6000, 6.9000, 2.3000],\n",
       "        [6.0000, 2.2000, 5.0000, 1.5000],\n",
       "        [6.9000, 3.2000, 5.7000, 2.3000],\n",
       "        [5.6000, 2.8000, 4.9000, 2.0000],\n",
       "        [7.7000, 2.8000, 6.7000, 2.0000],\n",
       "        [6.3000, 2.7000, 4.9000, 1.8000],\n",
       "        [6.7000, 3.3000, 5.7000, 2.1000],\n",
       "        [7.2000, 3.2000, 6.0000, 1.8000],\n",
       "        [6.2000, 2.8000, 4.8000, 1.8000],\n",
       "        [6.1000, 3.0000, 4.9000, 1.8000],\n",
       "        [6.4000, 2.8000, 5.6000, 2.1000],\n",
       "        [7.2000, 3.0000, 5.8000, 1.6000],\n",
       "        [7.4000, 2.8000, 6.1000, 1.9000],\n",
       "        [7.9000, 3.8000, 6.4000, 2.0000],\n",
       "        [6.4000, 2.8000, 5.6000, 2.2000],\n",
       "        [6.3000, 2.8000, 5.1000, 1.5000],\n",
       "        [6.1000, 2.6000, 5.6000, 1.4000],\n",
       "        [7.7000, 3.0000, 6.1000, 2.3000],\n",
       "        [6.3000, 3.4000, 5.6000, 2.4000],\n",
       "        [6.4000, 3.1000, 5.5000, 1.8000],\n",
       "        [6.0000, 3.0000, 4.8000, 1.8000],\n",
       "        [6.9000, 3.1000, 5.4000, 2.1000],\n",
       "        [6.7000, 3.1000, 5.6000, 2.4000],\n",
       "        [6.9000, 3.1000, 5.1000, 2.3000],\n",
       "        [5.8000, 2.7000, 5.1000, 1.9000],\n",
       "        [6.8000, 3.2000, 5.9000, 2.3000],\n",
       "        [6.7000, 3.3000, 5.7000, 2.5000],\n",
       "        [6.7000, 3.0000, 5.2000, 2.3000],\n",
       "        [6.3000, 2.5000, 5.0000, 1.9000],\n",
       "        [6.5000, 3.0000, 5.2000, 2.0000],\n",
       "        [6.2000, 3.4000, 5.4000, 2.3000],\n",
       "        [5.9000, 3.0000, 5.1000, 1.8000]])"
      ]
     },
     "execution_count": 15,
     "metadata": {},
     "output_type": "execute_result"
    }
   ],
   "source": [
    "X"
   ]
  },
  {
   "cell_type": "code",
   "execution_count": 16,
   "metadata": {
    "executionInfo": {
     "elapsed": 205,
     "status": "ok",
     "timestamp": 1691301655986,
     "user": {
      "displayName": "zeeshan ahmad",
      "userId": "09790783261567949831"
     },
     "user_tz": 240
    },
    "id": "Mk6uFn9_iqTo"
   },
   "outputs": [],
   "source": [
    "y = torch.zeros(len(X), dtype = torch.long)\n",
    "y[iris.species == 'setosa'] = 0\n",
    "y[iris.species == 'versicolor'] = 1\n",
    "y[iris.species == 'virginica'] = 2"
   ]
  },
  {
   "cell_type": "code",
   "execution_count": 17,
   "metadata": {
    "colab": {
     "base_uri": "https://localhost:8080/"
    },
    "executionInfo": {
     "elapsed": 2,
     "status": "ok",
     "timestamp": 1691301658555,
     "user": {
      "displayName": "zeeshan ahmad",
      "userId": "09790783261567949831"
     },
     "user_tz": 240
    },
    "id": "lZgMyG5uj9qw",
    "outputId": "4d25feae-c63f-49d1-8ba9-c6e068f605e3"
   },
   "outputs": [
    {
     "data": {
      "text/plain": [
       "torch.Size([150, 4])"
      ]
     },
     "execution_count": 17,
     "metadata": {},
     "output_type": "execute_result"
    }
   ],
   "source": [
    "X.shape"
   ]
  },
  {
   "cell_type": "code",
   "execution_count": 18,
   "metadata": {
    "colab": {
     "base_uri": "https://localhost:8080/"
    },
    "executionInfo": {
     "elapsed": 121,
     "status": "ok",
     "timestamp": 1691301660256,
     "user": {
      "displayName": "zeeshan ahmad",
      "userId": "09790783261567949831"
     },
     "user_tz": 240
    },
    "id": "eI0C-7J-trF5",
    "outputId": "9214dc39-11b3-4a33-a62e-b7d6bff06831"
   },
   "outputs": [
    {
     "data": {
      "text/plain": [
       "tensor([0, 0, 0, 0, 0, 0, 0, 0, 0, 0, 0, 0, 0, 0, 0, 0, 0, 0, 0, 0, 0, 0, 0, 0,\n",
       "        0, 0, 0, 0, 0, 0, 0, 0, 0, 0, 0, 0, 0, 0, 0, 0, 0, 0, 0, 0, 0, 0, 0, 0,\n",
       "        0, 0, 1, 1, 1, 1, 1, 1, 1, 1, 1, 1, 1, 1, 1, 1, 1, 1, 1, 1, 1, 1, 1, 1,\n",
       "        1, 1, 1, 1, 1, 1, 1, 1, 1, 1, 1, 1, 1, 1, 1, 1, 1, 1, 1, 1, 1, 1, 1, 1,\n",
       "        1, 1, 1, 1, 2, 2, 2, 2, 2, 2, 2, 2, 2, 2, 2, 2, 2, 2, 2, 2, 2, 2, 2, 2,\n",
       "        2, 2, 2, 2, 2, 2, 2, 2, 2, 2, 2, 2, 2, 2, 2, 2, 2, 2, 2, 2, 2, 2, 2, 2,\n",
       "        2, 2, 2, 2, 2, 2])"
      ]
     },
     "execution_count": 18,
     "metadata": {},
     "output_type": "execute_result"
    }
   ],
   "source": [
    "y"
   ]
  },
  {
   "cell_type": "markdown",
   "metadata": {
    "id": "8-gHjwDCtrF5"
   },
   "source": [
    "# Creating Neural Network"
   ]
  },
  {
   "cell_type": "code",
   "execution_count": 19,
   "metadata": {
    "id": "xp-J6WhztrF5"
   },
   "outputs": [],
   "source": [
    "# model = nn.Sequential(\n",
    "#           nn.Linear(4,32),\n",
    "#           nn.ReLU(),\n",
    "#           nn.Linear(32,32),\n",
    "#           nn.ReLU(),\n",
    "#           nn.Linear(32,3),\n",
    "#           )"
   ]
  },
  {
   "cell_type": "code",
   "execution_count": 20,
   "metadata": {
    "executionInfo": {
     "elapsed": 6,
     "status": "ok",
     "timestamp": 1691301975769,
     "user": {
      "displayName": "zeeshan ahmad",
      "userId": "09790783261567949831"
     },
     "user_tz": 240
    },
    "id": "COPeQpaAmT8p"
   },
   "outputs": [],
   "source": [
    "class NN_Classifier(nn.Module):\n",
    "  \n",
    "  #defining layers\n",
    "  def __init__(self):\n",
    "    super().__init__()\n",
    "\n",
    "    self.input = nn.Linear(4,32)\n",
    "    self.fc = nn.Linear(32,32)\n",
    "\n",
    "    # Classification OR  output layer\n",
    "\n",
    "    self.output = nn.Linear(32,3)\n",
    "\n",
    "  # Forward pass\n",
    "  def forward(self,x):\n",
    "\n",
    "    # Pass the data through the input layer\n",
    "    x = self.input(x)\n",
    "    x = self.fc(x)\n",
    "\n",
    "    # Apply ReLU activation\n",
    "    x = F.relu(x)\n",
    "\n",
    "    # output layer\n",
    "    x = self.output(x)\n",
    "    X = torch.sigmoid # This is not necessary because we are using cross entropy loss which already contains sigmoid.\n",
    "    return x"
   ]
  },
  {
   "cell_type": "markdown",
   "metadata": {
    "id": "uwguuIqEnrJY"
   },
   "source": [
    "# Create the instance of the model"
   ]
  },
  {
   "cell_type": "code",
   "execution_count": 21,
   "metadata": {
    "executionInfo": {
     "elapsed": 162,
     "status": "ok",
     "timestamp": 1691301987637,
     "user": {
      "displayName": "zeeshan ahmad",
      "userId": "09790783261567949831"
     },
     "user_tz": 240
    },
    "id": "Mv-NFh5mkNOf"
   },
   "outputs": [],
   "source": [
    "model = NN_Classifier()"
   ]
  },
  {
   "cell_type": "markdown",
   "metadata": {
    "id": "kTIhDTcFtrF6"
   },
   "source": [
    "# Training The Model"
   ]
  },
  {
   "cell_type": "code",
   "execution_count": 22,
   "metadata": {
    "colab": {
     "base_uri": "https://localhost:8080/"
    },
    "executionInfo": {
     "elapsed": 5897,
     "status": "ok",
     "timestamp": 1691302109832,
     "user": {
      "displayName": "zeeshan ahmad",
      "userId": "09790783261567949831"
     },
     "user_tz": 240
    },
    "id": "yu81Zk47trF6",
    "outputId": "177b27fb-3f5b-4832-ca7a-4cb91e8861cd"
   },
   "outputs": [
    {
     "name": "stdout",
     "output_type": "stream",
     "text": [
      " epochs : 0  loss :  1.15\n",
      " epochs : 200  loss :  0.42\n",
      " epochs : 400  loss :  0.25\n",
      " epochs : 600  loss :  0.16\n",
      " epochs : 800  loss :  0.12\n",
      " epochs : 1000  loss :  0.10\n",
      " epochs : 1200  loss :  0.08\n",
      " epochs : 1400  loss :  0.08\n",
      " epochs : 1600  loss :  0.07\n",
      " epochs : 1800  loss :  0.07\n",
      " epochs : 2000  loss :  0.07\n",
      " epochs : 2200  loss :  0.06\n",
      " epochs : 2400  loss :  0.06\n",
      " epochs : 2600  loss :  0.06\n",
      " epochs : 2800  loss :  0.06\n",
      " epochs : 3000  loss :  0.06\n",
      " epochs : 3200  loss :  0.06\n",
      " epochs : 3400  loss :  0.06\n"
     ]
    }
   ],
   "source": [
    "learningRate = 0.01\n",
    "lossfunc = nn.CrossEntropyLoss()\n",
    "optimizer = torch.optim.SGD(model.parameters(), lr = learningRate)\n",
    "\n",
    "epochs = 3501\n",
    "losses = torch.zeros(epochs) # setting place holder for for loop.\n",
    "for epoch in range(epochs):\n",
    "\n",
    "    ypred = model(X)\n",
    "    loss = lossfunc(ypred, y)\n",
    "    losses[epoch] = loss.detach()\n",
    "\n",
    "    if (epoch % 200) == 0:\n",
    "\n",
    "        print(f' epochs : {epoch}  loss : {loss : 2.2f}')\n",
    "\n",
    "    # Backpropagation\n",
    "\n",
    "    optimizer.zero_grad()\n",
    "\n",
    "    loss.backward()\n",
    "\n",
    "    optimizer.step()\n",
    "\n",
    "\n",
    "accuracy = 100 * torch.mean((torch.argmax(ypred, axis = 1) == y).float())\n"
   ]
  },
  {
   "cell_type": "code",
   "execution_count": 23,
   "metadata": {
    "colab": {
     "base_uri": "https://localhost:8080/"
    },
    "executionInfo": {
     "elapsed": 149,
     "status": "ok",
     "timestamp": 1691302118374,
     "user": {
      "displayName": "zeeshan ahmad",
      "userId": "09790783261567949831"
     },
     "user_tz": 240
    },
    "id": "GLgLDdjjtrF6",
    "outputId": "35c20afc-009e-436d-e5a2-956b121c7a6e"
   },
   "outputs": [
    {
     "data": {
      "text/plain": [
       "tensor(97.3333)"
      ]
     },
     "execution_count": 23,
     "metadata": {},
     "output_type": "execute_result"
    }
   ],
   "source": [
    "accuracy"
   ]
  },
  {
   "cell_type": "markdown",
   "metadata": {
    "id": "FwceyOActrF7"
   },
   "source": [
    "# Visualizing Loss Vs Epochs"
   ]
  },
  {
   "cell_type": "code",
   "execution_count": 24,
   "metadata": {
    "colab": {
     "base_uri": "https://localhost:8080/",
     "height": 455
    },
    "executionInfo": {
     "elapsed": 359,
     "status": "ok",
     "timestamp": 1691302139033,
     "user": {
      "displayName": "zeeshan ahmad",
      "userId": "09790783261567949831"
     },
     "user_tz": 240
    },
    "id": "9b6t2zcgtrF7",
    "outputId": "d351cfae-2f02-4fd4-c638-e11e5fd5b3d4"
   },
   "outputs": [
    {
     "data": {
      "image/png": "[encoded data removed]",
      "text/plain": [
       "<Figure size 640x480 with 1 Axes>"
      ]
     },
     "metadata": {},
     "output_type": "display_data"
    }
   ],
   "source": [
    "plt.plot(losses,'m', lw =3)\n",
    "plt.xlabel('Epochs', fontsize = 15)\n",
    "plt.ylabel('Loss', fontsize = 15)\n",
    "plt.show()"
   ]
  },
  {
   "cell_type": "markdown",
   "metadata": {
    "id": "tl5S5NhTtrF7"
   },
   "source": [
    "# Understanding Calculation of Accuracy"
   ]
  },
  {
   "cell_type": "code",
   "execution_count": 25,
   "metadata": {
    "id": "UrKEDgHAJhSq"
   },
   "outputs": [],
   "source": [
    "accuracy = 100 * torch.mean((torch.argmax(ypred, axis = 1) == y).float())"
   ]
  },
  {
   "cell_type": "code",
   "execution_count": 26,
   "metadata": {
    "colab": {
     "base_uri": "https://localhost:8080/"
    },
    "executionInfo": {
     "elapsed": 148,
     "status": "ok",
     "timestamp": 1691302172217,
     "user": {
      "displayName": "zeeshan ahmad",
      "userId": "09790783261567949831"
     },
     "user_tz": 240
    },
    "id": "Q5bo-GhTtrF7",
    "outputId": "f19f143f-6d19-4aff-bda6-cf821368dc6a"
   },
   "outputs": [
    {
     "data": {
      "text/plain": [
       "tensor([[ 16.2730,   8.6289, -26.0188],\n",
       "        [ 14.5280,   8.0054, -23.4006],\n",
       "        [ 15.0478,   8.0127, -24.0886],\n",
       "        [ 13.8722,   7.7181, -22.3692],\n",
       "        [ 16.3197,   8.6106, -26.0812],\n",
       "        [ 16.0324,   8.8391, -25.7934],\n",
       "        [ 14.6934,   7.8678, -23.5124],\n",
       "        [ 15.4795,   8.3824, -24.8263],\n",
       "        [ 13.3141,   7.3936, -21.4667],\n",
       "        [ 14.8538,   8.1740, -23.9056],\n",
       "        [ 17.0574,   9.0528, -27.2593],\n",
       "        [ 14.7196,   8.1220, -23.6853],\n",
       "        [ 14.7662,   8.0378, -23.7175],\n",
       "        [ 14.7017,   7.7022, -23.5405],\n",
       "        [ 19.4485,   9.9333, -30.9940],\n",
       "        [ 18.6562,   9.6760, -29.7131],\n",
       "        [ 17.4374,   9.0539, -27.8021],\n",
       "        [ 15.9166,   8.4794, -25.4526],\n",
       "        [ 16.7239,   9.2141, -26.9192],\n",
       "        [ 16.3597,   8.6757, -26.1319],\n",
       "        [ 15.4391,   8.7134, -24.9768],\n",
       "        [ 15.6785,   8.4541, -25.1227],\n",
       "        [ 16.6980,   8.4535, -26.6315],\n",
       "        [ 13.2147,   7.9050, -21.6166],\n",
       "        [ 13.5110,   7.9831, -22.0148],\n",
       "        [ 13.9327,   8.0171, -22.6389],\n",
       "        [ 14.2359,   8.0619, -23.0450],\n",
       "        [ 16.1382,   8.6750, -25.8480],\n",
       "        [ 16.2258,   8.6469, -25.9565],\n",
       "        [ 13.9563,   7.8566, -22.5540],\n",
       "        [ 13.8520,   7.8836, -22.4444],\n",
       "        [ 15.3658,   8.5351, -24.7941],\n",
       "        [ 17.9831,   9.3429, -28.6916],\n",
       "        [ 18.7628,   9.6592, -29.9034],\n",
       "        [ 14.4271,   8.0375, -23.2814],\n",
       "        [ 15.9289,   8.3947, -25.4798],\n",
       "        [ 17.3508,   9.1163, -27.7235],\n",
       "        [ 16.4678,   8.6580, -26.3231],\n",
       "        [ 13.9706,   7.5231, -22.3960],\n",
       "        [ 15.6645,   8.4888, -25.1303],\n",
       "        [ 16.0229,   8.4369, -25.6010],\n",
       "        [ 11.7272,   6.9342, -19.1978],\n",
       "        [ 14.4574,   7.6969, -23.1478],\n",
       "        [ 13.6116,   7.8689, -22.1113],\n",
       "        [ 14.3480,   8.3488, -23.2948],\n",
       "        [ 13.9163,   7.7624, -22.4723],\n",
       "        [ 16.4129,   8.7625, -26.2364],\n",
       "        [ 14.5507,   7.8445, -23.3159],\n",
       "        [ 16.8606,   8.9482, -26.9449],\n",
       "        [ 15.5791,   8.3511, -24.9451],\n",
       "        [ -1.2332,   7.2187,  -1.8766],\n",
       "        [ -1.9056,   6.4476,  -0.4905],\n",
       "        [ -3.0597,   6.6997,   0.8983],\n",
       "        [ -3.1816,   5.2666,   1.7034],\n",
       "        [ -3.3975,   6.1662,   1.5898],\n",
       "        [ -3.4519,   5.5738,   2.0501],\n",
       "        [ -3.1150,   6.1022,   1.4026],\n",
       "        [  0.5288,   5.5462,  -3.4490],\n",
       "        [ -1.9702,   6.7080,  -0.6435],\n",
       "        [ -2.5179,   5.1398,   1.0009],\n",
       "        [ -1.4083,   5.2168,  -0.7305],\n",
       "        [ -2.1134,   5.8754,   0.0814],\n",
       "        [ -1.1486,   6.1993,  -1.5734],\n",
       "        [ -3.7673,   5.8448,   2.3371],\n",
       "        [  0.6055,   6.1406,  -3.8195],\n",
       "        [ -0.7659,   6.9600,  -2.3846],\n",
       "        [ -3.9529,   5.2870,   2.9610],\n",
       "        [ -0.4270,   6.3694,  -2.5517],\n",
       "        [ -5.3517,   5.3554,   4.5598],\n",
       "        [ -1.0070,   5.9484,  -1.5880],\n",
       "        [ -5.5124,   5.1128,   5.2384],\n",
       "        [ -0.5517,   6.4054,  -2.4154],\n",
       "        [ -5.9839,   5.4413,   5.4707],\n",
       "        [ -3.1361,   6.0918,   1.3067],\n",
       "        [ -1.0191,   6.6644,  -1.9077],\n",
       "        [ -1.2607,   6.7685,  -1.6264],\n",
       "        [ -3.2604,   6.5595,   1.1677],\n",
       "        [ -5.0999,   5.9597,   4.0915],\n",
       "        [ -3.5473,   5.7009,   2.1167],\n",
       "        [  1.7509,   6.4625,  -5.5519],\n",
       "        [ -1.0569,   5.8066,  -1.4612],\n",
       "        [ -0.1325,   5.9972,  -2.7969],\n",
       "        [ -0.4959,   6.1898,  -2.3822],\n",
       "        [ -7.2406,   4.9241,   7.5658],\n",
       "        [ -4.3100,   5.0375,   3.6035],\n",
       "        [ -2.4712,   5.9449,   0.6488],\n",
       "        [ -2.5483,   6.5972,   0.2635],\n",
       "        [ -3.4901,   5.9706,   1.6878],\n",
       "        [ -1.2735,   5.8980,  -1.0644],\n",
       "        [ -2.5640,   5.4366,   0.8218],\n",
       "        [ -3.5223,   5.3937,   2.1999],\n",
       "        [ -3.0243,   6.0032,   1.2577],\n",
       "        [ -1.2485,   6.0575,  -1.3134],\n",
       "        [  0.4068,   5.5723,  -3.3135],\n",
       "        [ -2.6364,   5.5844,   0.8962],\n",
       "        [ -1.0597,   6.1187,  -1.4827],\n",
       "        [ -1.8401,   5.8786,  -0.3067],\n",
       "        [ -1.3816,   6.4290,  -1.2743],\n",
       "        [  2.0690,   5.8415,  -5.6756],\n",
       "        [ -1.7147,   5.8676,  -0.5045],\n",
       "        [-11.8241,   4.0685,  14.3250],\n",
       "        [ -9.0077,   4.1766,  10.4152],\n",
       "        [-10.1741,   5.1334,  11.4967],\n",
       "        [ -9.1987,   4.7690,  10.3849],\n",
       "        [-10.9796,   4.3939,  13.0264],\n",
       "        [-12.2306,   5.2701,  14.2302],\n",
       "        [ -7.6868,   3.6567,   8.8851],\n",
       "        [-10.4528,   5.5021,  11.6427],\n",
       "        [-10.5725,   4.7856,  12.1179],\n",
       "        [-10.8914,   4.9572,  12.7504],\n",
       "        [ -6.6838,   5.3088,   6.6979],\n",
       "        [ -8.8048,   4.7781,   9.7649],\n",
       "        [ -8.9727,   5.0531,   9.9059],\n",
       "        [ -9.5763,   3.8733,  11.2960],\n",
       "        [-10.2836,   3.6973,  12.3644],\n",
       "        [ -9.1409,   4.5390,  10.5033],\n",
       "        [ -8.0984,   5.1769,   8.6629],\n",
       "        [-10.5766,   5.8082,  11.8876],\n",
       "        [-14.0574,   5.0131,  16.5915],\n",
       "        [ -7.8802,   4.7385,   8.3955],\n",
       "        [ -9.9851,   4.8689,  11.4516],\n",
       "        [ -8.6575,   3.9930,  10.0752],\n",
       "        [-12.5360,   5.3469,  14.5511],\n",
       "        [ -6.7763,   5.1132,   6.7959],\n",
       "        [ -9.0935,   5.0364,  10.1821],\n",
       "        [ -8.4022,   5.8528,   8.7257],\n",
       "        [ -6.2118,   5.1470,   6.0378],\n",
       "        [ -6.2071,   5.1188,   6.1161],\n",
       "        [-10.5775,   4.3599,  12.4651],\n",
       "        [ -7.2112,   6.1617,   6.8587],\n",
       "        [-10.1845,   5.5227,  11.2206],\n",
       "        [ -7.9766,   6.6101,   7.8578],\n",
       "        [-10.8157,   4.2752,  12.8074],\n",
       "        [ -5.9261,   5.5493,   5.4256],\n",
       "        [ -8.6022,   4.9285,   9.4073],\n",
       "        [-10.9112,   5.4029,  12.3177],\n",
       "        [-10.4436,   4.2091,  12.5363],\n",
       "        [ -7.9682,   5.1372,   8.5434],\n",
       "        [ -5.9514,   5.0675,   5.7987],\n",
       "        [ -8.0511,   5.3363,   8.5052],\n",
       "        [-10.6750,   4.4454,  12.6149],\n",
       "        [ -7.6882,   5.2247,   8.0605],\n",
       "        [ -9.0077,   4.1766,  10.4152],\n",
       "        [-11.0163,   4.6020,  13.0271],\n",
       "        [-10.9007,   4.3947,  13.0105],\n",
       "        [ -8.7885,   4.8167,   9.7825],\n",
       "        [ -8.2981,   4.7037,   9.0518],\n",
       "        [ -7.7356,   5.0653,   8.2182],\n",
       "        [ -9.3147,   4.3861,  10.9029],\n",
       "        [ -7.4328,   4.7223,   8.0359]], grad_fn=<AddmmBackward0>)"
      ]
     },
     "execution_count": 26,
     "metadata": {},
     "output_type": "execute_result"
    }
   ],
   "source": [
    "ypred  # Score of model Corresponding to the probability"
   ]
  },
  {
   "cell_type": "code",
   "execution_count": 27,
   "metadata": {
    "colab": {
     "base_uri": "https://localhost:8080/"
    },
    "executionInfo": {
     "elapsed": 155,
     "status": "ok",
     "timestamp": 1691302174893,
     "user": {
      "displayName": "zeeshan ahmad",
      "userId": "09790783261567949831"
     },
     "user_tz": 240
    },
    "id": "IDgpoflptrF8",
    "outputId": "c695b191-f1e4-4230-ae16-dc2b2b97720b"
   },
   "outputs": [
    {
     "data": {
      "text/plain": [
       "tensor([0, 0, 0, 0, 0, 0, 0, 0, 0, 0, 0, 0, 0, 0, 0, 0, 0, 0, 0, 0, 0, 0, 0, 0,\n",
       "        0, 0, 0, 0, 0, 0, 0, 0, 0, 0, 0, 0, 0, 0, 0, 0, 0, 0, 0, 0, 0, 0, 0, 0,\n",
       "        0, 0, 1, 1, 1, 1, 1, 1, 1, 1, 1, 1, 1, 1, 1, 1, 1, 1, 1, 1, 1, 1, 2, 1,\n",
       "        2, 1, 1, 1, 1, 1, 1, 1, 1, 1, 1, 2, 1, 1, 1, 1, 1, 1, 1, 1, 1, 1, 1, 1,\n",
       "        1, 1, 1, 1, 2, 2, 2, 2, 2, 2, 2, 2, 2, 2, 2, 2, 2, 2, 2, 2, 2, 2, 2, 2,\n",
       "        2, 2, 2, 2, 2, 2, 2, 2, 2, 2, 2, 2, 2, 2, 2, 2, 2, 2, 2, 2, 2, 2, 2, 2,\n",
       "        2, 2, 2, 2, 2, 2])"
      ]
     },
     "execution_count": 27,
     "metadata": {},
     "output_type": "execute_result"
    }
   ],
   "source": [
    "torch.argmax(ypred, axis =1)"
   ]
  },
  {
   "cell_type": "code",
   "execution_count": 28,
   "metadata": {
    "colab": {
     "base_uri": "https://localhost:8080/"
    },
    "executionInfo": {
     "elapsed": 149,
     "status": "ok",
     "timestamp": 1691302176911,
     "user": {
      "displayName": "zeeshan ahmad",
      "userId": "09790783261567949831"
     },
     "user_tz": 240
    },
    "id": "hVe6-GcutrF8",
    "outputId": "0e23789b-ca18-4160-d0e4-3577d7078dc7"
   },
   "outputs": [
    {
     "data": {
      "text/plain": [
       "tensor([ True,  True,  True,  True,  True,  True,  True,  True,  True,  True,\n",
       "         True,  True,  True,  True,  True,  True,  True,  True,  True,  True,\n",
       "         True,  True,  True,  True,  True,  True,  True,  True,  True,  True,\n",
       "         True,  True,  True,  True,  True,  True,  True,  True,  True,  True,\n",
       "         True,  True,  True,  True,  True,  True,  True,  True,  True,  True,\n",
       "         True,  True,  True,  True,  True,  True,  True,  True,  True,  True,\n",
       "         True,  True,  True,  True,  True,  True,  True,  True,  True,  True,\n",
       "        False,  True, False,  True,  True,  True,  True,  True,  True,  True,\n",
       "         True,  True,  True, False,  True,  True,  True,  True,  True,  True,\n",
       "         True,  True,  True,  True,  True,  True,  True,  True,  True,  True,\n",
       "         True,  True,  True,  True,  True,  True,  True,  True,  True,  True,\n",
       "         True,  True,  True,  True,  True,  True,  True,  True,  True,  True,\n",
       "         True,  True,  True,  True,  True,  True,  True,  True,  True,  True,\n",
       "         True,  True,  True,  True,  True,  True,  True,  True,  True,  True,\n",
       "         True,  True,  True,  True,  True,  True,  True,  True,  True,  True])"
      ]
     },
     "execution_count": 28,
     "metadata": {},
     "output_type": "execute_result"
    }
   ],
   "source": [
    "(torch.argmax(ypred, axis =1)==y)"
   ]
  },
  {
   "cell_type": "code",
   "execution_count": 29,
   "metadata": {
    "colab": {
     "base_uri": "https://localhost:8080/"
    },
    "executionInfo": {
     "elapsed": 123,
     "status": "ok",
     "timestamp": 1691302179125,
     "user": {
      "displayName": "zeeshan ahmad",
      "userId": "09790783261567949831"
     },
     "user_tz": 240
    },
    "id": "8dm27MfQtrF8",
    "outputId": "c7c63108-0a36-4f60-c61c-cb85d5aeedc8"
   },
   "outputs": [
    {
     "data": {
      "text/plain": [
       "tensor([1., 1., 1., 1., 1., 1., 1., 1., 1., 1., 1., 1., 1., 1., 1., 1., 1., 1.,\n",
       "        1., 1., 1., 1., 1., 1., 1., 1., 1., 1., 1., 1., 1., 1., 1., 1., 1., 1.,\n",
       "        1., 1., 1., 1., 1., 1., 1., 1., 1., 1., 1., 1., 1., 1., 1., 1., 1., 1.,\n",
       "        1., 1., 1., 1., 1., 1., 1., 1., 1., 1., 1., 1., 1., 1., 1., 1., 0., 1.,\n",
       "        0., 1., 1., 1., 1., 1., 1., 1., 1., 1., 1., 0., 1., 1., 1., 1., 1., 1.,\n",
       "        1., 1., 1., 1., 1., 1., 1., 1., 1., 1., 1., 1., 1., 1., 1., 1., 1., 1.,\n",
       "        1., 1., 1., 1., 1., 1., 1., 1., 1., 1., 1., 1., 1., 1., 1., 1., 1., 1.,\n",
       "        1., 1., 1., 1., 1., 1., 1., 1., 1., 1., 1., 1., 1., 1., 1., 1., 1., 1.,\n",
       "        1., 1., 1., 1., 1., 1.])"
      ]
     },
     "execution_count": 29,
     "metadata": {},
     "output_type": "execute_result"
    }
   ],
   "source": [
    "(torch.argmax(ypred, axis =1)==y).float()"
   ]
  },
  {
   "cell_type": "code",
   "execution_count": 30,
   "metadata": {
    "colab": {
     "base_uri": "https://localhost:8080/"
    },
    "executionInfo": {
     "elapsed": 249,
     "status": "ok",
     "timestamp": 1691302181141,
     "user": {
      "displayName": "zeeshan ahmad",
      "userId": "09790783261567949831"
     },
     "user_tz": 240
    },
    "id": "PKY_lTuetrF8",
    "outputId": "aad75c40-b2af-4f79-d923-8edd3c38a715"
   },
   "outputs": [
    {
     "data": {
      "text/plain": [
       "tensor(0.9800)"
      ]
     },
     "execution_count": 30,
     "metadata": {},
     "output_type": "execute_result"
    }
   ],
   "source": [
    "torch.mean((torch.argmax(ypred, axis =1)==y).float())"
   ]
  },
  {
   "cell_type": "code",
   "execution_count": 31,
   "metadata": {
    "colab": {
     "base_uri": "https://localhost:8080/"
    },
    "executionInfo": {
     "elapsed": 146,
     "status": "ok",
     "timestamp": 1691302182488,
     "user": {
      "displayName": "zeeshan ahmad",
      "userId": "09790783261567949831"
     },
     "user_tz": 240
    },
    "id": "zKXORZ5TtrF8",
    "outputId": "b391a6fc-b729-4d7c-e23a-2026019febe6"
   },
   "outputs": [
    {
     "data": {
      "text/plain": [
       "tensor(98.)"
      ]
     },
     "execution_count": 31,
     "metadata": {},
     "output_type": "execute_result"
    }
   ],
   "source": [
    "100 * torch.mean((torch.argmax(ypred, axis =1)==y).float())"
   ]
  }
 ],
 "metadata": {
  "colab": {
   "provenance": []
  },
  "kernelspec": {
   "display_name": "torch_env",
   "language": "python",
   "name": "python3"
  },
  "language_info": {
   "codemirror_mode": {
    "name": "ipython",
    "version": 3
   },
   "file_extension": ".py",
   "mimetype": "text/x-python",
   "name": "python",
   "nbconvert_exporter": "python",
   "pygments_lexer": "ipython3",
   "version": "3.10.14"
  }
 },
 "nbformat": 4,
 "nbformat_minor": 0
}
