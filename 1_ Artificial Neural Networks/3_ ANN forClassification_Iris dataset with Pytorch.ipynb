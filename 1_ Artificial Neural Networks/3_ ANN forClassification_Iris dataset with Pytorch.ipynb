{
 "cells": [
  {
   "cell_type": "code",
   "execution_count": 2,
   "metadata": {
    "executionInfo": {
     "elapsed": 153,
     "status": "ok",
     "timestamp": 1691301571929,
     "user": {
      "displayName": "zeeshan ahmad",
      "userId": "09790783261567949831"
     },
     "user_tz": 240
    },
    "id": "YeuAheYyhdZw"
   },
   "outputs": [],
   "source": [
    "import torch\n",
    "import torch.nn as nn\n",
    "import torch.nn.functional as F\n",
    "import matplotlib.pyplot as plt\n",
    "from matplotlib import style\n",
    "style.use('dark_background')\n",
    "from IPython import display\n",
    "import seaborn as sns\n",
    "import pandas as pd"
   ]
  },
  {
   "cell_type": "markdown",
   "metadata": {
    "id": "cOzUfXEeiMog"
   },
   "source": [
    "# Load Dataset"
   ]
  },
  {
   "cell_type": "code",
   "execution_count": 3,
   "metadata": {
    "colab": {
     "base_uri": "https://localhost:8080/",
     "height": 363
    },
    "executionInfo": {
     "elapsed": 147,
     "status": "ok",
     "timestamp": 1691301585174,
     "user": {
      "displayName": "zeeshan ahmad",
      "userId": "09790783261567949831"
     },
     "user_tz": 240
    },
    "id": "uoYNqbdItrF1",
    "outputId": "1917afa9-0111-4c81-928a-e7522630d842"
   },
   "outputs": [
    {
     "data": {
      "text/html": [
       "<div>\n",
       "<style scoped>\n",
       "    .dataframe tbody tr th:only-of-type {\n",
       "        vertical-align: middle;\n",
       "    }\n",
       "\n",
       "    .dataframe tbody tr th {\n",
       "        vertical-align: top;\n",
       "    }\n",
       "\n",
       "    .dataframe thead th {\n",
       "        text-align: right;\n",
       "    }\n",
       "</style>\n",
       "<table border=\"1\" class=\"dataframe\">\n",
       "  <thead>\n",
       "    <tr style=\"text-align: right;\">\n",
       "      <th></th>\n",
       "      <th>sepal_length</th>\n",
       "      <th>sepal_width</th>\n",
       "      <th>petal_length</th>\n",
       "      <th>petal_width</th>\n",
       "      <th>species</th>\n",
       "    </tr>\n",
       "  </thead>\n",
       "  <tbody>\n",
       "    <tr>\n",
       "      <th>0</th>\n",
       "      <td>5.1</td>\n",
       "      <td>3.5</td>\n",
       "      <td>1.4</td>\n",
       "      <td>0.2</td>\n",
       "      <td>setosa</td>\n",
       "    </tr>\n",
       "    <tr>\n",
       "      <th>1</th>\n",
       "      <td>4.9</td>\n",
       "      <td>3.0</td>\n",
       "      <td>1.4</td>\n",
       "      <td>0.2</td>\n",
       "      <td>setosa</td>\n",
       "    </tr>\n",
       "    <tr>\n",
       "      <th>2</th>\n",
       "      <td>4.7</td>\n",
       "      <td>3.2</td>\n",
       "      <td>1.3</td>\n",
       "      <td>0.2</td>\n",
       "      <td>setosa</td>\n",
       "    </tr>\n",
       "    <tr>\n",
       "      <th>3</th>\n",
       "      <td>4.6</td>\n",
       "      <td>3.1</td>\n",
       "      <td>1.5</td>\n",
       "      <td>0.2</td>\n",
       "      <td>setosa</td>\n",
       "    </tr>\n",
       "    <tr>\n",
       "      <th>4</th>\n",
       "      <td>5.0</td>\n",
       "      <td>3.6</td>\n",
       "      <td>1.4</td>\n",
       "      <td>0.2</td>\n",
       "      <td>setosa</td>\n",
       "    </tr>\n",
       "    <tr>\n",
       "      <th>5</th>\n",
       "      <td>5.4</td>\n",
       "      <td>3.9</td>\n",
       "      <td>1.7</td>\n",
       "      <td>0.4</td>\n",
       "      <td>setosa</td>\n",
       "    </tr>\n",
       "    <tr>\n",
       "      <th>6</th>\n",
       "      <td>4.6</td>\n",
       "      <td>3.4</td>\n",
       "      <td>1.4</td>\n",
       "      <td>0.3</td>\n",
       "      <td>setosa</td>\n",
       "    </tr>\n",
       "    <tr>\n",
       "      <th>7</th>\n",
       "      <td>5.0</td>\n",
       "      <td>3.4</td>\n",
       "      <td>1.5</td>\n",
       "      <td>0.2</td>\n",
       "      <td>setosa</td>\n",
       "    </tr>\n",
       "    <tr>\n",
       "      <th>8</th>\n",
       "      <td>4.4</td>\n",
       "      <td>2.9</td>\n",
       "      <td>1.4</td>\n",
       "      <td>0.2</td>\n",
       "      <td>setosa</td>\n",
       "    </tr>\n",
       "    <tr>\n",
       "      <th>9</th>\n",
       "      <td>4.9</td>\n",
       "      <td>3.1</td>\n",
       "      <td>1.5</td>\n",
       "      <td>0.1</td>\n",
       "      <td>setosa</td>\n",
       "    </tr>\n",
       "  </tbody>\n",
       "</table>\n",
       "</div>"
      ],
      "text/plain": [
       "   sepal_length  sepal_width  petal_length  petal_width species\n",
       "0           5.1          3.5           1.4          0.2  setosa\n",
       "1           4.9          3.0           1.4          0.2  setosa\n",
       "2           4.7          3.2           1.3          0.2  setosa\n",
       "3           4.6          3.1           1.5          0.2  setosa\n",
       "4           5.0          3.6           1.4          0.2  setosa\n",
       "5           5.4          3.9           1.7          0.4  setosa\n",
       "6           4.6          3.4           1.4          0.3  setosa\n",
       "7           5.0          3.4           1.5          0.2  setosa\n",
       "8           4.4          2.9           1.4          0.2  setosa\n",
       "9           4.9          3.1           1.5          0.1  setosa"
      ]
     },
     "execution_count": 3,
     "metadata": {},
     "output_type": "execute_result"
    }
   ],
   "source": [
    "iris = sns.load_dataset('iris')\n",
    "iris.head(10)"
   ]
  },
  {
   "cell_type": "code",
   "execution_count": 4,
   "metadata": {
    "colab": {
     "base_uri": "https://localhost:8080/"
    },
    "executionInfo": {
     "elapsed": 126,
     "status": "ok",
     "timestamp": 1691301601162,
     "user": {
      "displayName": "zeeshan ahmad",
      "userId": "09790783261567949831"
     },
     "user_tz": 240
    },
    "id": "3Hv0aL24trF2",
    "outputId": "d902c70a-b3a3-4162-8db9-607044816a0c"
   },
   "outputs": [
    {
     "data": {
      "text/plain": [
       "array(['setosa', 'versicolor', 'virginica'], dtype=object)"
      ]
     },
     "execution_count": 4,
     "metadata": {},
     "output_type": "execute_result"
    }
   ],
   "source": [
    "iris.species.unique()"
   ]
  },
  {
   "cell_type": "markdown",
   "metadata": {
    "id": "Tp8CEubstrF4"
   },
   "source": [
    "# Extracting Features and Labels and Transform them to Tensors"
   ]
  },
  {
   "cell_type": "code",
   "execution_count": 5,
   "metadata": {
    "executionInfo": {
     "elapsed": 2177,
     "status": "ok",
     "timestamp": 1691301643482,
     "user": {
      "displayName": "zeeshan ahmad",
      "userId": "09790783261567949831"
     },
     "user_tz": 240
    },
    "id": "3c8y_91strF4"
   },
   "outputs": [],
   "source": [
    "X = torch.tensor(iris.iloc[:,:-1].values, dtype = torch.float32)"
   ]
  },
  {
   "cell_type": "code",
   "execution_count": 6,
   "metadata": {
    "colab": {
     "base_uri": "https://localhost:8080/"
    },
    "executionInfo": {
     "elapsed": 4,
     "status": "ok",
     "timestamp": 1691301644893,
     "user": {
      "displayName": "zeeshan ahmad",
      "userId": "09790783261567949831"
     },
     "user_tz": 240
    },
    "id": "s9E2EVGnjOiI",
    "outputId": "d41c121a-d1b9-490a-9560-536ae3754604"
   },
   "outputs": [
    {
     "data": {
      "text/plain": [
       "tensor([[5.1000, 3.5000, 1.4000, 0.2000],\n",
       "        [4.9000, 3.0000, 1.4000, 0.2000],\n",
       "        [4.7000, 3.2000, 1.3000, 0.2000],\n",
       "        [4.6000, 3.1000, 1.5000, 0.2000],\n",
       "        [5.0000, 3.6000, 1.4000, 0.2000],\n",
       "        [5.4000, 3.9000, 1.7000, 0.4000],\n",
       "        [4.6000, 3.4000, 1.4000, 0.3000],\n",
       "        [5.0000, 3.4000, 1.5000, 0.2000],\n",
       "        [4.4000, 2.9000, 1.4000, 0.2000],\n",
       "        [4.9000, 3.1000, 1.5000, 0.1000],\n",
       "        [5.4000, 3.7000, 1.5000, 0.2000],\n",
       "        [4.8000, 3.4000, 1.6000, 0.2000],\n",
       "        [4.8000, 3.0000, 1.4000, 0.1000],\n",
       "        [4.3000, 3.0000, 1.1000, 0.1000],\n",
       "        [5.8000, 4.0000, 1.2000, 0.2000],\n",
       "        [5.7000, 4.4000, 1.5000, 0.4000],\n",
       "        [5.4000, 3.9000, 1.3000, 0.4000],\n",
       "        [5.1000, 3.5000, 1.4000, 0.3000],\n",
       "        [5.7000, 3.8000, 1.7000, 0.3000],\n",
       "        [5.1000, 3.8000, 1.5000, 0.3000],\n",
       "        [5.4000, 3.4000, 1.7000, 0.2000],\n",
       "        [5.1000, 3.7000, 1.5000, 0.4000],\n",
       "        [4.6000, 3.6000, 1.0000, 0.2000],\n",
       "        [5.1000, 3.3000, 1.7000, 0.5000],\n",
       "        [4.8000, 3.4000, 1.9000, 0.2000],\n",
       "        [5.0000, 3.0000, 1.6000, 0.2000],\n",
       "        [5.0000, 3.4000, 1.6000, 0.4000],\n",
       "        [5.2000, 3.5000, 1.5000, 0.2000],\n",
       "        [5.2000, 3.4000, 1.4000, 0.2000],\n",
       "        [4.7000, 3.2000, 1.6000, 0.2000],\n",
       "        [4.8000, 3.1000, 1.6000, 0.2000],\n",
       "        [5.4000, 3.4000, 1.5000, 0.4000],\n",
       "        [5.2000, 4.1000, 1.5000, 0.1000],\n",
       "        [5.5000, 4.2000, 1.4000, 0.2000],\n",
       "        [4.9000, 3.1000, 1.5000, 0.2000],\n",
       "        [5.0000, 3.2000, 1.2000, 0.2000],\n",
       "        [5.5000, 3.5000, 1.3000, 0.2000],\n",
       "        [4.9000, 3.6000, 1.4000, 0.1000],\n",
       "        [4.4000, 3.0000, 1.3000, 0.2000],\n",
       "        [5.1000, 3.4000, 1.5000, 0.2000],\n",
       "        [5.0000, 3.5000, 1.3000, 0.3000],\n",
       "        [4.5000, 2.3000, 1.3000, 0.3000],\n",
       "        [4.4000, 3.2000, 1.3000, 0.2000],\n",
       "        [5.0000, 3.5000, 1.6000, 0.6000],\n",
       "        [5.1000, 3.8000, 1.9000, 0.4000],\n",
       "        [4.8000, 3.0000, 1.4000, 0.3000],\n",
       "        [5.1000, 3.8000, 1.6000, 0.2000],\n",
       "        [4.6000, 3.2000, 1.4000, 0.2000],\n",
       "        [5.3000, 3.7000, 1.5000, 0.2000],\n",
       "        [5.0000, 3.3000, 1.4000, 0.2000],\n",
       "        [7.0000, 3.2000, 4.7000, 1.4000],\n",
       "        [6.4000, 3.2000, 4.5000, 1.5000],\n",
       "        [6.9000, 3.1000, 4.9000, 1.5000],\n",
       "        [5.5000, 2.3000, 4.0000, 1.3000],\n",
       "        [6.5000, 2.8000, 4.6000, 1.5000],\n",
       "        [5.7000, 2.8000, 4.5000, 1.3000],\n",
       "        [6.3000, 3.3000, 4.7000, 1.6000],\n",
       "        [4.9000, 2.4000, 3.3000, 1.0000],\n",
       "        [6.6000, 2.9000, 4.6000, 1.3000],\n",
       "        [5.2000, 2.7000, 3.9000, 1.4000],\n",
       "        [5.0000, 2.0000, 3.5000, 1.0000],\n",
       "        [5.9000, 3.0000, 4.2000, 1.5000],\n",
       "        [6.0000, 2.2000, 4.0000, 1.0000],\n",
       "        [6.1000, 2.9000, 4.7000, 1.4000],\n",
       "        [5.6000, 2.9000, 3.6000, 1.3000],\n",
       "        [6.7000, 3.1000, 4.4000, 1.4000],\n",
       "        [5.6000, 3.0000, 4.5000, 1.5000],\n",
       "        [5.8000, 2.7000, 4.1000, 1.0000],\n",
       "        [6.2000, 2.2000, 4.5000, 1.5000],\n",
       "        [5.6000, 2.5000, 3.9000, 1.1000],\n",
       "        [5.9000, 3.2000, 4.8000, 1.8000],\n",
       "        [6.1000, 2.8000, 4.0000, 1.3000],\n",
       "        [6.3000, 2.5000, 4.9000, 1.5000],\n",
       "        [6.1000, 2.8000, 4.7000, 1.2000],\n",
       "        [6.4000, 2.9000, 4.3000, 1.3000],\n",
       "        [6.6000, 3.0000, 4.4000, 1.4000],\n",
       "        [6.8000, 2.8000, 4.8000, 1.4000],\n",
       "        [6.7000, 3.0000, 5.0000, 1.7000],\n",
       "        [6.0000, 2.9000, 4.5000, 1.5000],\n",
       "        [5.7000, 2.6000, 3.5000, 1.0000],\n",
       "        [5.5000, 2.4000, 3.8000, 1.1000],\n",
       "        [5.5000, 2.4000, 3.7000, 1.0000],\n",
       "        [5.8000, 2.7000, 3.9000, 1.2000],\n",
       "        [6.0000, 2.7000, 5.1000, 1.6000],\n",
       "        [5.4000, 3.0000, 4.5000, 1.5000],\n",
       "        [6.0000, 3.4000, 4.5000, 1.6000],\n",
       "        [6.7000, 3.1000, 4.7000, 1.5000],\n",
       "        [6.3000, 2.3000, 4.4000, 1.3000],\n",
       "        [5.6000, 3.0000, 4.1000, 1.3000],\n",
       "        [5.5000, 2.5000, 4.0000, 1.3000],\n",
       "        [5.5000, 2.6000, 4.4000, 1.2000],\n",
       "        [6.1000, 3.0000, 4.6000, 1.4000],\n",
       "        [5.8000, 2.6000, 4.0000, 1.2000],\n",
       "        [5.0000, 2.3000, 3.3000, 1.0000],\n",
       "        [5.6000, 2.7000, 4.2000, 1.3000],\n",
       "        [5.7000, 3.0000, 4.2000, 1.2000],\n",
       "        [5.7000, 2.9000, 4.2000, 1.3000],\n",
       "        [6.2000, 2.9000, 4.3000, 1.3000],\n",
       "        [5.1000, 2.5000, 3.0000, 1.1000],\n",
       "        [5.7000, 2.8000, 4.1000, 1.3000],\n",
       "        [6.3000, 3.3000, 6.0000, 2.5000],\n",
       "        [5.8000, 2.7000, 5.1000, 1.9000],\n",
       "        [7.1000, 3.0000, 5.9000, 2.1000],\n",
       "        [6.3000, 2.9000, 5.6000, 1.8000],\n",
       "        [6.5000, 3.0000, 5.8000, 2.2000],\n",
       "        [7.6000, 3.0000, 6.6000, 2.1000],\n",
       "        [4.9000, 2.5000, 4.5000, 1.7000],\n",
       "        [7.3000, 2.9000, 6.3000, 1.8000],\n",
       "        [6.7000, 2.5000, 5.8000, 1.8000],\n",
       "        [7.2000, 3.6000, 6.1000, 2.5000],\n",
       "        [6.5000, 3.2000, 5.1000, 2.0000],\n",
       "        [6.4000, 2.7000, 5.3000, 1.9000],\n",
       "        [6.8000, 3.0000, 5.5000, 2.1000],\n",
       "        [5.7000, 2.5000, 5.0000, 2.0000],\n",
       "        [5.8000, 2.8000, 5.1000, 2.4000],\n",
       "        [6.4000, 3.2000, 5.3000, 2.3000],\n",
       "        [6.5000, 3.0000, 5.5000, 1.8000],\n",
       "        [7.7000, 3.8000, 6.7000, 2.2000],\n",
       "        [7.7000, 2.6000, 6.9000, 2.3000],\n",
       "        [6.0000, 2.2000, 5.0000, 1.5000],\n",
       "        [6.9000, 3.2000, 5.7000, 2.3000],\n",
       "        [5.6000, 2.8000, 4.9000, 2.0000],\n",
       "        [7.7000, 2.8000, 6.7000, 2.0000],\n",
       "        [6.3000, 2.7000, 4.9000, 1.8000],\n",
       "        [6.7000, 3.3000, 5.7000, 2.1000],\n",
       "        [7.2000, 3.2000, 6.0000, 1.8000],\n",
       "        [6.2000, 2.8000, 4.8000, 1.8000],\n",
       "        [6.1000, 3.0000, 4.9000, 1.8000],\n",
       "        [6.4000, 2.8000, 5.6000, 2.1000],\n",
       "        [7.2000, 3.0000, 5.8000, 1.6000],\n",
       "        [7.4000, 2.8000, 6.1000, 1.9000],\n",
       "        [7.9000, 3.8000, 6.4000, 2.0000],\n",
       "        [6.4000, 2.8000, 5.6000, 2.2000],\n",
       "        [6.3000, 2.8000, 5.1000, 1.5000],\n",
       "        [6.1000, 2.6000, 5.6000, 1.4000],\n",
       "        [7.7000, 3.0000, 6.1000, 2.3000],\n",
       "        [6.3000, 3.4000, 5.6000, 2.4000],\n",
       "        [6.4000, 3.1000, 5.5000, 1.8000],\n",
       "        [6.0000, 3.0000, 4.8000, 1.8000],\n",
       "        [6.9000, 3.1000, 5.4000, 2.1000],\n",
       "        [6.7000, 3.1000, 5.6000, 2.4000],\n",
       "        [6.9000, 3.1000, 5.1000, 2.3000],\n",
       "        [5.8000, 2.7000, 5.1000, 1.9000],\n",
       "        [6.8000, 3.2000, 5.9000, 2.3000],\n",
       "        [6.7000, 3.3000, 5.7000, 2.5000],\n",
       "        [6.7000, 3.0000, 5.2000, 2.3000],\n",
       "        [6.3000, 2.5000, 5.0000, 1.9000],\n",
       "        [6.5000, 3.0000, 5.2000, 2.0000],\n",
       "        [6.2000, 3.4000, 5.4000, 2.3000],\n",
       "        [5.9000, 3.0000, 5.1000, 1.8000]])"
      ]
     },
     "execution_count": 6,
     "metadata": {},
     "output_type": "execute_result"
    }
   ],
   "source": [
    "X"
   ]
  },
  {
   "cell_type": "code",
   "execution_count": 7,
   "metadata": {
    "executionInfo": {
     "elapsed": 205,
     "status": "ok",
     "timestamp": 1691301655986,
     "user": {
      "displayName": "zeeshan ahmad",
      "userId": "09790783261567949831"
     },
     "user_tz": 240
    },
    "id": "Mk6uFn9_iqTo"
   },
   "outputs": [],
   "source": [
    "y = torch.zeros(len(X), dtype = torch.long)\n",
    "y[iris.species == 'setosa'] = 0\n",
    "y[iris.species == 'versicolor'] = 1\n",
    "y[iris.species == 'virginica'] = 2"
   ]
  },
  {
   "cell_type": "code",
   "execution_count": 8,
   "metadata": {
    "colab": {
     "base_uri": "https://localhost:8080/"
    },
    "executionInfo": {
     "elapsed": 2,
     "status": "ok",
     "timestamp": 1691301658555,
     "user": {
      "displayName": "zeeshan ahmad",
      "userId": "09790783261567949831"
     },
     "user_tz": 240
    },
    "id": "lZgMyG5uj9qw",
    "outputId": "4d25feae-c63f-49d1-8ba9-c6e068f605e3"
   },
   "outputs": [
    {
     "data": {
      "text/plain": [
       "torch.Size([150, 4])"
      ]
     },
     "execution_count": 8,
     "metadata": {},
     "output_type": "execute_result"
    }
   ],
   "source": [
    "X.shape"
   ]
  },
  {
   "cell_type": "code",
   "execution_count": 9,
   "metadata": {
    "colab": {
     "base_uri": "https://localhost:8080/"
    },
    "executionInfo": {
     "elapsed": 121,
     "status": "ok",
     "timestamp": 1691301660256,
     "user": {
      "displayName": "zeeshan ahmad",
      "userId": "09790783261567949831"
     },
     "user_tz": 240
    },
    "id": "eI0C-7J-trF5",
    "outputId": "9214dc39-11b3-4a33-a62e-b7d6bff06831"
   },
   "outputs": [
    {
     "data": {
      "text/plain": [
       "tensor([0, 0, 0, 0, 0, 0, 0, 0, 0, 0, 0, 0, 0, 0, 0, 0, 0, 0, 0, 0, 0, 0, 0, 0,\n",
       "        0, 0, 0, 0, 0, 0, 0, 0, 0, 0, 0, 0, 0, 0, 0, 0, 0, 0, 0, 0, 0, 0, 0, 0,\n",
       "        0, 0, 1, 1, 1, 1, 1, 1, 1, 1, 1, 1, 1, 1, 1, 1, 1, 1, 1, 1, 1, 1, 1, 1,\n",
       "        1, 1, 1, 1, 1, 1, 1, 1, 1, 1, 1, 1, 1, 1, 1, 1, 1, 1, 1, 1, 1, 1, 1, 1,\n",
       "        1, 1, 1, 1, 2, 2, 2, 2, 2, 2, 2, 2, 2, 2, 2, 2, 2, 2, 2, 2, 2, 2, 2, 2,\n",
       "        2, 2, 2, 2, 2, 2, 2, 2, 2, 2, 2, 2, 2, 2, 2, 2, 2, 2, 2, 2, 2, 2, 2, 2,\n",
       "        2, 2, 2, 2, 2, 2])"
      ]
     },
     "execution_count": 9,
     "metadata": {},
     "output_type": "execute_result"
    }
   ],
   "source": [
    "y"
   ]
  },
  {
   "cell_type": "markdown",
   "metadata": {
    "id": "8-gHjwDCtrF5"
   },
   "source": [
    "# Creating Neural Network"
   ]
  },
  {
   "cell_type": "code",
   "execution_count": 19,
   "metadata": {
    "id": "xp-J6WhztrF5"
   },
   "outputs": [],
   "source": [
    "# model = nn.Sequential(\n",
    "#           nn.Linear(4,32),\n",
    "#           nn.ReLU(),\n",
    "#           nn.Linear(32,32),\n",
    "#           nn.ReLU(),\n",
    "#           nn.Linear(32,3),\n",
    "#           )"
   ]
  },
  {
   "cell_type": "code",
   "execution_count": 20,
   "metadata": {
    "executionInfo": {
     "elapsed": 6,
     "status": "ok",
     "timestamp": 1691301975769,
     "user": {
      "displayName": "zeeshan ahmad",
      "userId": "09790783261567949831"
     },
     "user_tz": 240
    },
    "id": "COPeQpaAmT8p"
   },
   "outputs": [],
   "source": [
    "class NN_Classifier(nn.Module):\n",
    "  def __init__(self):\n",
    "    super().__init__()\n",
    "\n",
    "    self.input = nn.Linear(4,32)\n",
    "    self.fc = nn.Linear(32,32)\n",
    "\n",
    "    # Classification OR  output layer\n",
    "\n",
    "    self.output = nn.Linear(32,3)\n",
    "\n",
    "  # Forward pass\n",
    "\n",
    "  def forward(self,x):\n",
    "\n",
    "    # Pass the data through the input layer\n",
    "\n",
    "    x = self.input(x)\n",
    "    x = self.fc(x)\n",
    "\n",
    "    # Apply ReLU activation\n",
    "\n",
    "    x = F.relu(x)\n",
    "\n",
    "    # output layer\n",
    "\n",
    "    x = self.output(x)\n",
    "    X = torch.sigmoid # This is not necessary because we are using cross entropy loss which already contains sigmoid.\n",
    "    return x"
   ]
  },
  {
   "cell_type": "markdown",
   "metadata": {
    "id": "uwguuIqEnrJY"
   },
   "source": [
    "# Create the instance of the model"
   ]
  },
  {
   "cell_type": "code",
   "execution_count": 21,
   "metadata": {
    "executionInfo": {
     "elapsed": 162,
     "status": "ok",
     "timestamp": 1691301987637,
     "user": {
      "displayName": "zeeshan ahmad",
      "userId": "09790783261567949831"
     },
     "user_tz": 240
    },
    "id": "Mv-NFh5mkNOf"
   },
   "outputs": [],
   "source": [
    "model = NN_Classifier()"
   ]
  },
  {
   "cell_type": "markdown",
   "metadata": {
    "id": "kTIhDTcFtrF6"
   },
   "source": [
    "# Training The Model"
   ]
  },
  {
   "cell_type": "code",
   "execution_count": 22,
   "metadata": {
    "colab": {
     "base_uri": "https://localhost:8080/"
    },
    "executionInfo": {
     "elapsed": 5897,
     "status": "ok",
     "timestamp": 1691302109832,
     "user": {
      "displayName": "zeeshan ahmad",
      "userId": "09790783261567949831"
     },
     "user_tz": 240
    },
    "id": "yu81Zk47trF6",
    "outputId": "177b27fb-3f5b-4832-ca7a-4cb91e8861cd"
   },
   "outputs": [
    {
     "name": "stdout",
     "output_type": "stream",
     "text": [
      " epochs : 0  loss :  1.08\n",
      " epochs : 200  loss :  0.41\n",
      " epochs : 400  loss :  0.24\n",
      " epochs : 600  loss :  0.15\n",
      " epochs : 800  loss :  0.12\n",
      " epochs : 1000  loss :  0.10\n",
      " epochs : 1200  loss :  0.09\n",
      " epochs : 1400  loss :  0.08\n",
      " epochs : 1600  loss :  0.08\n",
      " epochs : 1800  loss :  0.08\n",
      " epochs : 2000  loss :  0.07\n",
      " epochs : 2200  loss :  0.07\n",
      " epochs : 2400  loss :  0.07\n",
      " epochs : 2600  loss :  0.07\n",
      " epochs : 2800  loss :  0.07\n",
      " epochs : 3000  loss :  0.06\n",
      " epochs : 3200  loss :  0.06\n",
      " epochs : 3400  loss :  0.06\n"
     ]
    }
   ],
   "source": [
    "learningRate = 0.01\n",
    "lossfunc = nn.CrossEntropyLoss()\n",
    "optimizer = torch.optim.SGD(model.parameters(), lr = learningRate)\n",
    "\n",
    "epochs = 3501\n",
    "losses = torch.zeros(epochs) # setting place holder for for loop.\n",
    "for epoch in range(epochs):\n",
    "\n",
    "    ypred = model(X)\n",
    "    loss = lossfunc(ypred, y)\n",
    "    losses[epoch] = loss.detach()\n",
    "\n",
    "    if (epoch % 200) == 0:\n",
    "\n",
    "        print(f' epochs : {epoch}  loss : {loss : 2.2f}')\n",
    "\n",
    "    # Backpropagation\n",
    "\n",
    "    optimizer.zero_grad()\n",
    "\n",
    "    loss.backward()\n",
    "\n",
    "    optimizer.step()\n",
    "\n",
    "\n",
    "accuracy = 100 * torch.mean((torch.argmax(ypred, axis = 1) == y).float())\n"
   ]
  },
  {
   "cell_type": "code",
   "execution_count": 23,
   "metadata": {
    "colab": {
     "base_uri": "https://localhost:8080/"
    },
    "executionInfo": {
     "elapsed": 149,
     "status": "ok",
     "timestamp": 1691302118374,
     "user": {
      "displayName": "zeeshan ahmad",
      "userId": "09790783261567949831"
     },
     "user_tz": 240
    },
    "id": "GLgLDdjjtrF6",
    "outputId": "35c20afc-009e-436d-e5a2-956b121c7a6e"
   },
   "outputs": [
    {
     "data": {
      "text/plain": [
       "tensor(98.)"
      ]
     },
     "execution_count": 23,
     "metadata": {},
     "output_type": "execute_result"
    }
   ],
   "source": [
    "accuracy"
   ]
  },
  {
   "cell_type": "markdown",
   "metadata": {
    "id": "FwceyOActrF7"
   },
   "source": [
    "# Visualizing Loss Vs Epochs"
   ]
  },
  {
   "cell_type": "code",
   "execution_count": 24,
   "metadata": {
    "colab": {
     "base_uri": "https://localhost:8080/",
     "height": 455
    },
    "executionInfo": {
     "elapsed": 359,
     "status": "ok",
     "timestamp": 1691302139033,
     "user": {
      "displayName": "zeeshan ahmad",
      "userId": "09790783261567949831"
     },
     "user_tz": 240
    },
    "id": "9b6t2zcgtrF7",
    "outputId": "d351cfae-2f02-4fd4-c638-e11e5fd5b3d4"
   },
   "outputs": [
    {
     "data": {
      "image/png": "[encoded data removed]",
      "text/plain": [
       "<Figure size 640x480 with 1 Axes>"
      ]
     },
     "metadata": {},
     "output_type": "display_data"
    }
   ],
   "source": [
    "plt.plot(losses,'m', lw =3)\n",
    "plt.xlabel('Epochs', fontsize = 15)\n",
    "plt.ylabel('Loss', fontsize = 15)\n",
    "plt.show()"
   ]
  },
  {
   "cell_type": "markdown",
   "metadata": {
    "id": "tl5S5NhTtrF7"
   },
   "source": [
    "# Understanding Calculation of Accuracy"
   ]
  },
  {
   "cell_type": "code",
   "execution_count": 25,
   "metadata": {
    "id": "UrKEDgHAJhSq"
   },
   "outputs": [],
   "source": [
    "accuracy = 100 * torch.mean((torch.argmax(ypred, axis = 1) == y).float())"
   ]
  },
  {
   "cell_type": "code",
   "execution_count": 26,
   "metadata": {
    "colab": {
     "base_uri": "https://localhost:8080/"
    },
    "executionInfo": {
     "elapsed": 148,
     "status": "ok",
     "timestamp": 1691302172217,
     "user": {
      "displayName": "zeeshan ahmad",
      "userId": "09790783261567949831"
     },
     "user_tz": 240
    },
    "id": "Q5bo-GhTtrF7",
    "outputId": "f19f143f-6d19-4aff-bda6-cf821368dc6a"
   },
   "outputs": [
    {
     "data": {
      "text/plain": [
       "tensor([[ 16.1229,   8.5059, -23.7240],\n",
       "        [ 14.4176,   7.9041, -21.5402],\n",
       "        [ 14.8559,   7.8692, -21.8882],\n",
       "        [ 13.6953,   7.5376, -20.4757],\n",
       "        [ 16.1530,   8.4669, -23.6894],\n",
       "        [ 16.1088,   8.6537, -23.8895],\n",
       "        [ 14.4949,   7.6766, -21.3468],\n",
       "        [ 15.3212,   8.2340, -22.7118],\n",
       "        [ 13.1001,   7.2243, -19.5938],\n",
       "        [ 14.6560,   8.0429, -21.9023],\n",
       "        [ 16.9331,   8.9400, -24.9362],\n",
       "        [ 14.5537,   7.9198, -21.6686],\n",
       "        [ 14.5292,   7.9215, -21.6543],\n",
       "        [ 14.4641,   7.5548, -21.1429],\n",
       "        [ 19.4681,   9.9450, -28.2274],\n",
       "        [ 18.6511,   9.5794, -27.1195],\n",
       "        [ 17.4271,   8.9919, -25.3878],\n",
       "        [ 15.8100,   8.3582, -23.2912],\n",
       "        [ 16.8162,   9.0885, -25.0120],\n",
       "        [ 16.2238,   8.5117, -23.8107],\n",
       "        [ 15.4663,   8.5841, -23.2375],\n",
       "        [ 15.6570,   8.2867, -23.0753],\n",
       "        [ 16.5377,   8.3545, -23.8150],\n",
       "        [ 13.3311,   7.7283, -20.2918],\n",
       "        [ 13.4009,   7.7105, -20.3640],\n",
       "        [ 13.9221,   7.8890, -21.0790],\n",
       "        [ 14.3011,   7.8898, -21.4198],\n",
       "        [ 16.0036,   8.5477, -23.6751],\n",
       "        [ 16.0885,   8.5483, -23.7549],\n",
       "        [ 13.8156,   7.6601, -20.7192],\n",
       "        [ 13.7633,   7.7134, -20.7354],\n",
       "        [ 15.5000,   8.4469, -23.1241],\n",
       "        [ 17.7930,   9.1731, -25.8889],\n",
       "        [ 18.6798,   9.5615, -27.1019],\n",
       "        [ 14.3287,   7.9041, -21.4577],\n",
       "        [ 15.8122,   8.3235, -23.2394],\n",
       "        [ 17.2925,   9.0810, -25.4043],\n",
       "        [ 16.2525,   8.4937, -23.7931],\n",
       "        [ 13.7029,   7.3640, -20.2893],\n",
       "        [ 15.5329,   8.3561, -23.0395],\n",
       "        [ 15.9131,   8.3293, -23.3262],\n",
       "        [ 11.6551,   6.8617, -17.8839],\n",
       "        [ 14.2160,   7.5068, -20.9010],\n",
       "        [ 13.8080,   7.6812, -20.7276],\n",
       "        [ 14.4456,   8.0793, -21.7346],\n",
       "        [ 13.8710,   7.6445, -20.7626],\n",
       "        [ 16.2202,   8.5676, -23.8795],\n",
       "        [ 14.3003,   7.6770, -21.1729],\n",
       "        [ 16.7198,   8.8192, -24.6071],\n",
       "        [ 15.4061,   8.2347, -22.7916],\n",
       "        [ -2.0059,   6.4582,  -2.8498],\n",
       "        [ -2.7583,   5.7038,  -1.3989],\n",
       "        [ -3.9346,   5.8305,  -0.2462],\n",
       "        [ -4.0821,   4.3687,   1.0918],\n",
       "        [ -4.2448,   5.2775,   0.5411],\n",
       "        [ -4.4739,   4.5501,   1.3951],\n",
       "        [ -4.0100,   5.1829,   0.4124],\n",
       "        [ -0.3333,   4.9338,  -3.4365],\n",
       "        [ -2.8779,   5.9488,  -1.5199],\n",
       "        [ -3.4258,   4.2825,   0.4936],\n",
       "        [ -2.3640,   4.5396,  -0.9561],\n",
       "        [ -2.9658,   5.1105,  -0.6828],\n",
       "        [ -2.1099,   5.5958,  -2.1230],\n",
       "        [ -4.7456,   4.8167,   1.4755],\n",
       "        [ -0.0559,   5.4971,  -4.1403],\n",
       "        [ -1.4860,   6.2460,  -3.2324],\n",
       "        [ -4.9299,   4.2150,   2.2053],\n",
       "        [ -1.3987,   5.6488,  -2.8833],\n",
       "        [ -6.1913,   4.2653,   3.4676],\n",
       "        [ -1.9473,   5.2643,  -1.9826],\n",
       "        [ -6.4213,   3.8939,   4.1299],\n",
       "        [ -1.3089,   5.7383,  -3.0242],\n",
       "        [ -6.9253,   4.2025,   4.3353],\n",
       "        [ -4.1806,   5.1059,   0.5940],\n",
       "        [ -1.8283,   5.9500,  -2.6414],\n",
       "        [ -2.0276,   6.0495,  -2.4973],\n",
       "        [ -4.1462,   5.6746,   0.0862],\n",
       "        [ -5.9565,   4.8588,   2.7790],\n",
       "        [ -4.4547,   4.7369,   1.2380],\n",
       "        [  1.0423,   5.9060,  -5.7081],\n",
       "        [ -1.9870,   5.1400,  -1.8412],\n",
       "        [ -1.0389,   5.3655,  -3.0530],\n",
       "        [ -1.3232,   5.5162,  -2.8365],\n",
       "        [ -8.2564,   3.4713,   6.4215],\n",
       "        [ -5.3194,   3.8977,   2.8977],\n",
       "        [ -3.3696,   5.0985,  -0.1992],\n",
       "        [ -3.4041,   5.7930,  -0.7869],\n",
       "        [ -4.3642,   5.0784,   0.7885],\n",
       "        [ -2.2184,   5.1738,  -1.5593],\n",
       "        [ -3.4747,   4.5941,   0.2570],\n",
       "        [ -4.5765,   4.3483,   1.6562],\n",
       "        [ -3.9819,   5.0693,   0.4415],\n",
       "        [ -2.1465,   5.3644,  -1.8390],\n",
       "        [ -0.4497,   4.9845,  -3.3657],\n",
       "        [ -3.5925,   4.6984,   0.3091],\n",
       "        [ -2.0425,   5.3739,  -1.9246],\n",
       "        [ -2.7903,   5.0824,  -0.8719],\n",
       "        [ -2.2552,   5.7039,  -1.9774],\n",
       "        [  1.4599,   5.3316,  -5.6640],\n",
       "        [ -2.6340,   5.1096,  -1.0711],\n",
       "        [-13.1898,   1.8859,  13.4713],\n",
       "        [ -9.9489,   2.5512,   9.0622],\n",
       "        [-11.0547,   3.4308,   9.5409],\n",
       "        [-10.2333,   3.0714,   8.9297],\n",
       "        [-12.0985,   2.4497,  11.5597],\n",
       "        [-13.2651,   3.2564,  12.0929],\n",
       "        [ -8.6804,   2.1392,   8.0145],\n",
       "        [-11.5059,   3.6787,   9.7837],\n",
       "        [-11.5493,   2.9882,  10.4110],\n",
       "        [-11.6951,   3.1821,  10.5211],\n",
       "        [ -7.5015,   4.0243,   5.2014],\n",
       "        [ -9.7005,   3.2233,   8.2182],\n",
       "        [ -9.7990,   3.5144,   8.1133],\n",
       "        [-10.6048,   2.1449,  10.1651],\n",
       "        [-11.5023,   1.7862,  11.5683],\n",
       "        [ -9.9193,   2.9831,   8.7290],\n",
       "        [ -9.0802,   3.6412,   7.2034],\n",
       "        [-11.5708,   3.9642,   9.7062],\n",
       "        [-15.6391,   2.4318,  15.7142],\n",
       "        [ -8.8807,   3.2486,   7.2426],\n",
       "        [-10.7855,   3.2168,   9.4643],\n",
       "        [ -9.5491,   2.4255,   8.7535],\n",
       "        [-13.5697,   3.2940,  12.4263],\n",
       "        [ -7.6209,   3.8251,   5.4488],\n",
       "        [-10.0026,   3.4140,   8.4403],\n",
       "        [ -9.4095,   4.2777,   7.0280],\n",
       "        [ -7.0520,   3.9190,   4.7611],\n",
       "        [ -7.0992,   3.8459,   4.8889],\n",
       "        [-11.5950,   2.5307,  10.9029],\n",
       "        [ -8.2283,   4.7339,   5.3309],\n",
       "        [-11.1286,   3.8037,   9.2708],\n",
       "        [ -8.9327,   5.1030,   5.8654],\n",
       "        [-11.9347,   2.3602,  11.4653],\n",
       "        [ -6.9341,   4.2608,   4.3161],\n",
       "        [ -9.7966,   3.2197,   8.2765],\n",
       "        [-11.6750,   3.7010,   9.9958],\n",
       "        [-11.3208,   2.4293,  10.7394],\n",
       "        [ -8.9712,   3.5953,   7.1322],\n",
       "        [ -6.8340,   3.8271,   4.6186],\n",
       "        [ -8.8406,   3.9256,   6.7332],\n",
       "        [-11.4531,   2.7257,  10.6069],\n",
       "        [ -8.3294,   3.9433,   6.1825],\n",
       "        [ -9.9489,   2.5512,   9.0622],\n",
       "        [-11.9002,   2.7784,  11.0435],\n",
       "        [-11.7400,   2.6103,  11.0381],\n",
       "        [ -9.4825,   3.3735,   7.9088],\n",
       "        [ -9.1227,   3.2589,   7.5496],\n",
       "        [ -8.5689,   3.6590,   6.6528],\n",
       "        [-10.1613,   2.7513,   9.2031],\n",
       "        [ -8.4087,   3.2489,   6.8144]], grad_fn=<AddmmBackward0>)"
      ]
     },
     "execution_count": 26,
     "metadata": {},
     "output_type": "execute_result"
    }
   ],
   "source": [
    "ypred  # Score of model Corresponding to the probability"
   ]
  },
  {
   "cell_type": "code",
   "execution_count": 27,
   "metadata": {
    "colab": {
     "base_uri": "https://localhost:8080/"
    },
    "executionInfo": {
     "elapsed": 155,
     "status": "ok",
     "timestamp": 1691302174893,
     "user": {
      "displayName": "zeeshan ahmad",
      "userId": "09790783261567949831"
     },
     "user_tz": 240
    },
    "id": "IDgpoflptrF8",
    "outputId": "c695b191-f1e4-4230-ae16-dc2b2b97720b"
   },
   "outputs": [
    {
     "data": {
      "text/plain": [
       "tensor([0, 0, 0, 0, 0, 0, 0, 0, 0, 0, 0, 0, 0, 0, 0, 0, 0, 0, 0, 0, 0, 0, 0, 0,\n",
       "        0, 0, 0, 0, 0, 0, 0, 0, 0, 0, 0, 0, 0, 0, 0, 0, 0, 0, 0, 0, 0, 0, 0, 0,\n",
       "        0, 0, 1, 1, 1, 1, 1, 1, 1, 1, 1, 1, 1, 1, 1, 1, 1, 1, 1, 1, 1, 1, 2, 1,\n",
       "        2, 1, 1, 1, 1, 1, 1, 1, 1, 1, 1, 2, 1, 1, 1, 1, 1, 1, 1, 1, 1, 1, 1, 1,\n",
       "        1, 1, 1, 1, 2, 2, 2, 2, 2, 2, 2, 2, 2, 2, 2, 2, 2, 2, 2, 2, 2, 2, 2, 2,\n",
       "        2, 2, 2, 2, 2, 2, 2, 2, 2, 2, 2, 2, 2, 2, 2, 2, 2, 2, 2, 2, 2, 2, 2, 2,\n",
       "        2, 2, 2, 2, 2, 2])"
      ]
     },
     "execution_count": 27,
     "metadata": {},
     "output_type": "execute_result"
    }
   ],
   "source": [
    "torch.argmax(ypred, axis =1)"
   ]
  },
  {
   "cell_type": "code",
   "execution_count": 28,
   "metadata": {
    "colab": {
     "base_uri": "https://localhost:8080/"
    },
    "executionInfo": {
     "elapsed": 149,
     "status": "ok",
     "timestamp": 1691302176911,
     "user": {
      "displayName": "zeeshan ahmad",
      "userId": "09790783261567949831"
     },
     "user_tz": 240
    },
    "id": "hVe6-GcutrF8",
    "outputId": "0e23789b-ca18-4160-d0e4-3577d7078dc7"
   },
   "outputs": [
    {
     "data": {
      "text/plain": [
       "tensor([ True,  True,  True,  True,  True,  True,  True,  True,  True,  True,\n",
       "         True,  True,  True,  True,  True,  True,  True,  True,  True,  True,\n",
       "         True,  True,  True,  True,  True,  True,  True,  True,  True,  True,\n",
       "         True,  True,  True,  True,  True,  True,  True,  True,  True,  True,\n",
       "         True,  True,  True,  True,  True,  True,  True,  True,  True,  True,\n",
       "         True,  True,  True,  True,  True,  True,  True,  True,  True,  True,\n",
       "         True,  True,  True,  True,  True,  True,  True,  True,  True,  True,\n",
       "        False,  True, False,  True,  True,  True,  True,  True,  True,  True,\n",
       "         True,  True,  True, False,  True,  True,  True,  True,  True,  True,\n",
       "         True,  True,  True,  True,  True,  True,  True,  True,  True,  True,\n",
       "         True,  True,  True,  True,  True,  True,  True,  True,  True,  True,\n",
       "         True,  True,  True,  True,  True,  True,  True,  True,  True,  True,\n",
       "         True,  True,  True,  True,  True,  True,  True,  True,  True,  True,\n",
       "         True,  True,  True,  True,  True,  True,  True,  True,  True,  True,\n",
       "         True,  True,  True,  True,  True,  True,  True,  True,  True,  True])"
      ]
     },
     "execution_count": 28,
     "metadata": {},
     "output_type": "execute_result"
    }
   ],
   "source": [
    "(torch.argmax(ypred, axis =1)==y)"
   ]
  },
  {
   "cell_type": "code",
   "execution_count": 29,
   "metadata": {
    "colab": {
     "base_uri": "https://localhost:8080/"
    },
    "executionInfo": {
     "elapsed": 123,
     "status": "ok",
     "timestamp": 1691302179125,
     "user": {
      "displayName": "zeeshan ahmad",
      "userId": "09790783261567949831"
     },
     "user_tz": 240
    },
    "id": "8dm27MfQtrF8",
    "outputId": "c7c63108-0a36-4f60-c61c-cb85d5aeedc8"
   },
   "outputs": [
    {
     "data": {
      "text/plain": [
       "tensor([1., 1., 1., 1., 1., 1., 1., 1., 1., 1., 1., 1., 1., 1., 1., 1., 1., 1.,\n",
       "        1., 1., 1., 1., 1., 1., 1., 1., 1., 1., 1., 1., 1., 1., 1., 1., 1., 1.,\n",
       "        1., 1., 1., 1., 1., 1., 1., 1., 1., 1., 1., 1., 1., 1., 1., 1., 1., 1.,\n",
       "        1., 1., 1., 1., 1., 1., 1., 1., 1., 1., 1., 1., 1., 1., 1., 1., 0., 1.,\n",
       "        0., 1., 1., 1., 1., 1., 1., 1., 1., 1., 1., 0., 1., 1., 1., 1., 1., 1.,\n",
       "        1., 1., 1., 1., 1., 1., 1., 1., 1., 1., 1., 1., 1., 1., 1., 1., 1., 1.,\n",
       "        1., 1., 1., 1., 1., 1., 1., 1., 1., 1., 1., 1., 1., 1., 1., 1., 1., 1.,\n",
       "        1., 1., 1., 1., 1., 1., 1., 1., 1., 1., 1., 1., 1., 1., 1., 1., 1., 1.,\n",
       "        1., 1., 1., 1., 1., 1.])"
      ]
     },
     "execution_count": 29,
     "metadata": {},
     "output_type": "execute_result"
    }
   ],
   "source": [
    "(torch.argmax(ypred, axis =1)==y).float()"
   ]
  },
  {
   "cell_type": "code",
   "execution_count": 30,
   "metadata": {
    "colab": {
     "base_uri": "https://localhost:8080/"
    },
    "executionInfo": {
     "elapsed": 249,
     "status": "ok",
     "timestamp": 1691302181141,
     "user": {
      "displayName": "zeeshan ahmad",
      "userId": "09790783261567949831"
     },
     "user_tz": 240
    },
    "id": "PKY_lTuetrF8",
    "outputId": "aad75c40-b2af-4f79-d923-8edd3c38a715"
   },
   "outputs": [
    {
     "data": {
      "text/plain": [
       "tensor(0.9800)"
      ]
     },
     "execution_count": 30,
     "metadata": {},
     "output_type": "execute_result"
    }
   ],
   "source": [
    "torch.mean((torch.argmax(ypred, axis =1)==y).float())"
   ]
  },
  {
   "cell_type": "code",
   "execution_count": 31,
   "metadata": {
    "colab": {
     "base_uri": "https://localhost:8080/"
    },
    "executionInfo": {
     "elapsed": 146,
     "status": "ok",
     "timestamp": 1691302182488,
     "user": {
      "displayName": "zeeshan ahmad",
      "userId": "09790783261567949831"
     },
     "user_tz": 240
    },
    "id": "zKXORZ5TtrF8",
    "outputId": "b391a6fc-b729-4d7c-e23a-2026019febe6"
   },
   "outputs": [
    {
     "data": {
      "text/plain": [
       "tensor(98.)"
      ]
     },
     "execution_count": 31,
     "metadata": {},
     "output_type": "execute_result"
    }
   ],
   "source": [
    "100 * torch.mean((torch.argmax(ypred, axis =1)==y).float())"
   ]
  }
 ],
 "metadata": {
  "colab": {
   "provenance": []
  },
  "kernelspec": {
   "display_name": "torch_env",
   "language": "python",
   "name": "python3"
  },
  "language_info": {
   "codemirror_mode": {
    "name": "ipython",
    "version": 3
   },
   "file_extension": ".py",
   "mimetype": "text/x-python",
   "name": "python",
   "nbconvert_exporter": "python",
   "pygments_lexer": "ipython3",
   "version": "3.10.14"
  }
 },
 "nbformat": 4,
 "nbformat_minor": 0
}
