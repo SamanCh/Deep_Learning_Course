{
 "cells": [
  {
   "cell_type": "code",
   "execution_count": 2,
   "metadata": {},
   "outputs": [],
   "source": [
    "import torch\n",
    "import torch.nn as nn\n",
    "import numpy as np\n",
    "import pandas as pd\n",
    "import matplotlib.pyplot as plt\n",
    "from matplotlib import style\n",
    "style.use('dark_background')"
   ]
  },
  {
   "cell_type": "code",
   "execution_count": 3,
   "metadata": {},
   "outputs": [],
   "source": [
    "data = pd.read_csv('Regression_Data.csv')"
   ]
  },
  {
   "cell_type": "code",
   "execution_count": 6,
   "metadata": {},
   "outputs": [],
   "source": [
    "x = data['Ind_Data'].values.reshape(-1,1)\n",
    "y = data['Dependent_Data'].values.reshape(-1,1)"
   ]
  },
  {
   "cell_type": "code",
   "execution_count": 12,
   "metadata": {},
   "outputs": [
    {
     "data": {
      "text/plain": [
       "<matplotlib.collections.PathCollection at 0x1b18f2b14b0>"
      ]
     },
     "execution_count": 12,
     "metadata": {},
     "output_type": "execute_result"
    },
    {
     "data": {
      "image/png": "[encoded data removed]",
      "text/plain": [
       "<Figure size 1200x600 with 1 Axes>"
      ]
     },
     "metadata": {},
     "output_type": "display_data"
    }
   ],
   "source": [
    "plt.figure(figsize = (12,6))\n",
    "plt.scatter(x,y, color = 'b')"
   ]
  },
  {
   "cell_type": "code",
   "execution_count": 14,
   "metadata": {},
   "outputs": [],
   "source": [
    "x = torch.tensor(x, dtype = torch.float32)\n",
    "y = torch.tensor(y, dtype = torch.float32)"
   ]
  },
  {
   "cell_type": "code",
   "execution_count": 20,
   "metadata": {},
   "outputs": [
    {
     "data": {
      "text/plain": [
       "Sequential(\n",
       "  (0): Linear(in_features=1, out_features=1, bias=True)\n",
       ")"
      ]
     },
     "execution_count": 20,
     "metadata": {},
     "output_type": "execute_result"
    }
   ],
   "source": [
    "model = nn.Sequential(\n",
    "    nn.Linear(1,1),     \n",
    ")\n",
    "\n",
    "model"
   ]
  },
  {
   "cell_type": "code",
   "execution_count": 23,
   "metadata": {},
   "outputs": [],
   "source": [
    "lr = 0.001\n",
    "lf = nn.MSELoss()\n",
    "op = torch.optim.SGD(model.parameters(), lr = lr)"
   ]
  },
  {
   "cell_type": "code",
   "execution_count": 26,
   "metadata": {},
   "outputs": [
    {
     "name": "stdout",
     "output_type": "stream",
     "text": [
      "epoch: 0, loss = 33058698.0\n",
      "epoch: 50, loss = 32984638.0\n",
      "epoch: 100, loss = 32913636.0\n",
      "epoch: 150, loss = 32845568.0\n",
      "epoch: 200, loss = 32780332.0\n",
      "epoch: 250, loss = 32717796.0\n",
      "epoch: 300, loss = 32657856.0\n",
      "epoch: 350, loss = 32600392.0\n",
      "epoch: 400, loss = 32545314.0\n",
      "epoch: 450, loss = 32492520.0\n",
      "epoch: 500, loss = 32441898.0\n",
      "epoch: 550, loss = 32393398.0\n",
      "epoch: 600, loss = 32346886.0\n",
      "epoch: 650, loss = 32302312.0\n",
      "epoch: 700, loss = 32259582.0\n",
      "epoch: 750, loss = 32218628.0\n",
      "epoch: 800, loss = 32179368.0\n",
      "epoch: 850, loss = 32141726.0\n",
      "epoch: 900, loss = 32105644.0\n",
      "epoch: 950, loss = 32071070.0\n",
      "epoch: 1000, loss = 32037914.0\n",
      "epoch: 1050, loss = 32006140.0\n",
      "epoch: 1100, loss = 31975688.0\n",
      "epoch: 1150, loss = 31946492.0\n",
      "epoch: 1200, loss = 31918500.0\n",
      "epoch: 1250, loss = 31891682.0\n",
      "epoch: 1300, loss = 31865960.0\n",
      "epoch: 1350, loss = 31841302.0\n",
      "epoch: 1400, loss = 31817672.0\n",
      "epoch: 1450, loss = 31795022.0\n",
      "epoch: 1500, loss = 31773316.0\n",
      "epoch: 1550, loss = 31752504.0\n",
      "epoch: 1600, loss = 31732542.0\n",
      "epoch: 1650, loss = 31713420.0\n",
      "epoch: 1700, loss = 31695090.0\n",
      "epoch: 1750, loss = 31677516.0\n",
      "epoch: 1800, loss = 31660676.0\n",
      "epoch: 1850, loss = 31644530.0\n",
      "epoch: 1900, loss = 31629052.0\n",
      "epoch: 1950, loss = 31614230.0\n",
      "epoch: 2000, loss = 31599996.0\n",
      "epoch: 2050, loss = 31586370.0\n",
      "epoch: 2100, loss = 31573290.0\n",
      "epoch: 2150, loss = 31560768.0\n",
      "epoch: 2200, loss = 31548756.0\n",
      "epoch: 2250, loss = 31537254.0\n",
      "epoch: 2300, loss = 31526216.0\n",
      "epoch: 2350, loss = 31515642.0\n",
      "epoch: 2400, loss = 31505502.0\n",
      "epoch: 2450, loss = 31495798.0\n",
      "epoch: 2500, loss = 31486472.0\n",
      "epoch: 2550, loss = 31477544.0\n",
      "epoch: 2600, loss = 31468984.0\n",
      "epoch: 2650, loss = 31460786.0\n",
      "epoch: 2700, loss = 31452920.0\n",
      "epoch: 2750, loss = 31445390.0\n",
      "epoch: 2800, loss = 31438152.0\n",
      "epoch: 2850, loss = 31431224.0\n",
      "epoch: 2900, loss = 31424586.0\n",
      "epoch: 2950, loss = 31418232.0\n",
      "epoch: 3000, loss = 31412120.0\n",
      "epoch: 3050, loss = 31406270.0\n",
      "epoch: 3100, loss = 31400666.0\n",
      "epoch: 3150, loss = 31395290.0\n",
      "epoch: 3200, loss = 31390144.0\n",
      "epoch: 3250, loss = 31385202.0\n",
      "epoch: 3300, loss = 31380462.0\n",
      "epoch: 3350, loss = 31375940.0\n",
      "epoch: 3400, loss = 31371586.0\n",
      "epoch: 3450, loss = 31367418.0\n",
      "epoch: 3500, loss = 31363428.0\n",
      "epoch: 3550, loss = 31359588.0\n",
      "epoch: 3600, loss = 31355926.0\n",
      "epoch: 3650, loss = 31352402.0\n",
      "epoch: 3700, loss = 31349026.0\n",
      "epoch: 3750, loss = 31345786.0\n",
      "epoch: 3800, loss = 31342694.0\n",
      "epoch: 3850, loss = 31339716.0\n",
      "epoch: 3900, loss = 31336866.0\n",
      "epoch: 3950, loss = 31334136.0\n",
      "epoch: 4000, loss = 31331516.0\n",
      "epoch: 4050, loss = 31329014.0\n",
      "epoch: 4100, loss = 31326606.0\n",
      "epoch: 4150, loss = 31324300.0\n",
      "epoch: 4200, loss = 31322098.0\n",
      "epoch: 4250, loss = 31319960.0\n",
      "epoch: 4300, loss = 31317948.0\n",
      "epoch: 4350, loss = 31315988.0\n",
      "epoch: 4400, loss = 31314126.0\n",
      "epoch: 4450, loss = 31312344.0\n",
      "epoch: 4500, loss = 31310626.0\n",
      "epoch: 4550, loss = 31308982.0\n",
      "epoch: 4600, loss = 31307410.0\n",
      "epoch: 4650, loss = 31305894.0\n",
      "epoch: 4700, loss = 31304456.0\n",
      "epoch: 4750, loss = 31303070.0\n",
      "epoch: 4800, loss = 31301734.0\n",
      "epoch: 4850, loss = 31300456.0\n",
      "epoch: 4900, loss = 31299238.0\n",
      "epoch: 4950, loss = 31298068.0\n",
      "epoch: 5000, loss = 31296934.0\n"
     ]
    }
   ],
   "source": [
    "epochs = 5001\n",
    "losses = torch.zeros(epochs)\n",
    "\n",
    "for epoch in range(epochs):\n",
    "    y_pred = model(x)\n",
    "    loss = lf(y_pred, y)\n",
    "    losses[epoch] = loss\n",
    "\n",
    "    op.zero_grad()\n",
    "\n",
    "    loss.backward()\n",
    "\n",
    "    op.step() \n",
    "\n",
    "    if epoch % 50 == 0:\n",
    "        print(f'epoch: {epoch}, loss = {loss}')"
   ]
  },
  {
   "cell_type": "code",
   "execution_count": null,
   "metadata": {},
   "outputs": [],
   "source": []
  },
  {
   "cell_type": "code",
   "execution_count": null,
   "metadata": {},
   "outputs": [],
   "source": []
  },
  {
   "cell_type": "code",
   "execution_count": null,
   "metadata": {},
   "outputs": [],
   "source": []
  }
 ],
 "metadata": {
  "kernelspec": {
   "display_name": "torch_env",
   "language": "python",
   "name": "python3"
  },
  "language_info": {
   "codemirror_mode": {
    "name": "ipython",
    "version": 3
   },
   "file_extension": ".py",
   "mimetype": "text/x-python",
   "name": "python",
   "nbconvert_exporter": "python",
   "pygments_lexer": "ipython3",
   "version": "3.10.14"
  }
 },
 "nbformat": 4,
 "nbformat_minor": 2
}
